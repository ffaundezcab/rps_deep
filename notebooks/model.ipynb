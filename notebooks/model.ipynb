{
 "cells": [
  {
   "cell_type": "code",
   "execution_count": 1,
   "id": "323b9a72",
   "metadata": {},
   "outputs": [],
   "source": [
    "import os\n",
    "from pathlib import Path\n",
    "from joblib import Parallel, delayed\n",
    "\n",
    "import pandas as pd\n",
    "import numpy as np\n",
    "import matplotlib.pyplot as plt\n",
    "import seaborn as sns\n",
    "import itertools\n",
    "import pickle\n",
    "\n",
    "import tensorflow as tf\n",
    "from sklearn.model_selection import train_test_split\n",
    "from sklearn.metrics import confusion_matrix, classification_report\n",
    "from sklearn.model_selection import RandomizedSearchCV, StratifiedKFold\n",
    "\n",
    "from tensorflow.keras.utils import image_dataset_from_directory, load_img, img_to_array \n",
    "from tensorflow.keras.models import Sequential\n",
    "from tensorflow.keras.layers import Conv2D, MaxPooling2D, AvgPool2D, Flatten, Dense, Dropout, RandomFlip, RandomRotation, RandomZoom, Rescaling, Input, Lambda, RandomBrightness, RandomContrast, RandomHue, RandomSaturation\n",
    "from tensorflow.keras.callbacks import TensorBoard, ModelCheckpoint, EarlyStopping\n",
    "from tensorflow.keras.optimizers import SGD, Adam\n",
    "from tensorflow.keras.wrappers import SKLearnRegressor\n",
    "from tensorboard.backend.event_processing import event_accumulator\n",
    "from collections import Counter\n"
   ]
  },
  {
   "cell_type": "markdown",
   "id": "e822c757",
   "metadata": {},
   "source": [
    "# Data"
   ]
  },
  {
   "cell_type": "code",
   "execution_count": 2,
   "id": "e5b496d4",
   "metadata": {},
   "outputs": [],
   "source": [
    "# pass thru tf to convert paths to images\n",
    "def preprocess_image(file_path, label):\n",
    "    # final_path_file = data_dir+\"/\"+file_path\n",
    "    img = tf.io.read_file(file_path)\n",
    "    # rgb, later we normalize\n",
    "    img = tf.image.decode_image(img, channels=3)\n",
    "    # todo: make it optional passing to grayscale\n",
    "    if grayscale:\n",
    "        img = tf.image.rgb_to_grayscale(img)\n",
    "        img.set_shape([None, None, 1])\n",
    "    else:\n",
    "        img.set_shape([None, None, 3]) #rgb\n",
    "    img = tf.image.resize(img, image_size)\n",
    "    return img, tf.one_hot(label, depth=len(class_names))"
   ]
  },
  {
   "cell_type": "code",
   "execution_count": 3,
   "id": "bb95cef5",
   "metadata": {},
   "outputs": [],
   "source": [
    "data_dir = \"../data\"\n",
    "original_size = (300,200)\n",
    "image_size = (25, 25)\n",
    "batch_size = 32\n",
    "\n",
    "file_paths = []\n",
    "labels = []\n",
    "class_names = os.listdir(data_dir)\n",
    "class_to_index = {name: i for i, name in enumerate(class_names)}\n",
    "\n",
    "for class_name in class_names:\n",
    "    class_dir = f\"{data_dir}/{class_name}\"\n",
    "    images = sorted(os.listdir(class_dir))\n",
    "    for img_path in images:\n",
    "        file_paths.append(class_dir + \"/\" + str(img_path))\n",
    "        labels.append(class_to_index[class_name])\n",
    "\n",
    "file_paths = np.array(file_paths)\n",
    "labels = np.array(labels)\n",
    "grayscale = False\n",
    "\n",
    "# todo: this can be better...\n",
    "if grayscale:\n",
    "    dimension = 1\n",
    "else:\n",
    "    dimension = 3\n",
    "\n",
    "X_train, X_val, y_train, y_val = train_test_split(\n",
    "    file_paths,\n",
    "    labels,\n",
    "    test_size=0.2,\n",
    "    stratify=labels,\n",
    "    random_state=42\n",
    ")\n",
    "\n",
    "\n",
    "# for CV\n",
    "cv_train_set = tf.data.Dataset.from_tensor_slices((X_train, y_train))\n",
    "cv_train_set = cv_train_set.map(preprocess_image, num_parallel_calls=tf.data.AUTOTUNE)\n",
    "cv_train_set = cv_train_set.shuffle(1000).batch(batch_size).prefetch(tf.data.AUTOTUNE)\n",
    "\n",
    "data_augmentation = Sequential([\n",
    "    RandomFlip(\"vertical\"),\n",
    "    RandomRotation(0.05),\n",
    "    RandomZoom(0.05)    \n",
    "])\n",
    "\n",
    "cv_train_set = cv_train_set.map(lambda x, y: (data_augmentation(x, training=True), y))\n",
    "\n",
    "\n",
    "X_val, X_test, y_val, y_test = train_test_split(\n",
    "    X_val,\n",
    "    y_val,\n",
    "    test_size=0.5,\n",
    "    stratify=y_val,\n",
    "    random_state=42\n",
    ")\n",
    "\n",
    "cv_test_set = tf.data.Dataset.from_tensor_slices((X_test, y_test))\n",
    "cv_test_set = cv_test_set.map(preprocess_image, num_parallel_calls=tf.data.AUTOTUNE)\n",
    "cv_test_set = cv_test_set.batch(batch_size).prefetch(tf.data.AUTOTUNE)\n",
    "\n",
    "cv_val_set = tf.data.Dataset.from_tensor_slices((X_val, y_val))\n",
    "cv_val_set = cv_val_set.map(preprocess_image, num_parallel_calls=tf.data.AUTOTUNE)\n",
    "cv_val_set = cv_val_set.batch(batch_size).prefetch(tf.data.AUTOTUNE)"
   ]
  },
  {
   "cell_type": "code",
   "execution_count": 4,
   "id": "b134d929",
   "metadata": {},
   "outputs": [],
   "source": [
    "def count_label_distribution(dset):\n",
    "    label_array = [x[1] for x in dset]\n",
    "    \n",
    "    labels_in_dset = []\n",
    "    for x in label_array:\n",
    "        labels_in_dset.extend(np.argmax(x, axis = 1))\n",
    "    \n",
    "    return len(labels_in_dset), Counter(labels_in_dset)\n",
    "    "
   ]
  },
  {
   "cell_type": "code",
   "execution_count": 5,
   "id": "92d7ddda",
   "metadata": {},
   "outputs": [],
   "source": [
    "total_cv_train, cv_train_label_count = count_label_distribution(cv_train_set)\n",
    "total_cv_val, cv_val_label_count = count_label_distribution(cv_val_set)\n",
    "total_cv_test, cv_test_label_count = count_label_distribution(cv_test_set)\n"
   ]
  },
  {
   "cell_type": "code",
   "execution_count": 6,
   "id": "c31e2d96",
   "metadata": {},
   "outputs": [
    {
     "data": {
      "text/plain": [
       "(Counter({np.int64(2): 600, np.int64(1): 581, np.int64(0): 569}),\n",
       " Counter({np.int64(2): 75, np.int64(1): 73, np.int64(0): 71}),\n",
       " Counter({np.int64(2): 75, np.int64(0): 72, np.int64(1): 72}))"
      ]
     },
     "execution_count": 6,
     "metadata": {},
     "output_type": "execute_result"
    }
   ],
   "source": [
    "cv_train_label_count,cv_val_label_count,cv_test_label_count"
   ]
  },
  {
   "cell_type": "code",
   "execution_count": 7,
   "id": "840ded8c",
   "metadata": {},
   "outputs": [
    {
     "data": {
      "text/plain": [
       "2188"
      ]
     },
     "execution_count": 7,
     "metadata": {},
     "output_type": "execute_result"
    }
   ],
   "source": [
    "len(file_paths)"
   ]
  },
  {
   "cell_type": "markdown",
   "id": "c90caa37",
   "metadata": {},
   "source": [
    "# Overview"
   ]
  },
  {
   "cell_type": "code",
   "execution_count": 8,
   "id": "05384d0d",
   "metadata": {},
   "outputs": [],
   "source": [
    "# # vertical here should only make sense since images are right-oriented\n",
    "# seed_da = 42\n",
    "# data_augmentation = Sequential([\n",
    "#     RandomFlip(\"vertical\",seed = seed_da),\n",
    "#     RandomRotation(0.05, seed = seed_da),\n",
    "#     RandomZoom(0.05, seed = seed_da)\n",
    "# ])"
   ]
  },
  {
   "cell_type": "code",
   "execution_count": 9,
   "id": "720fd0f2",
   "metadata": {},
   "outputs": [
    {
     "data": {
      "image/png": "[encoded data removed]",
      "text/plain": [
       "<Figure size 1000x400 with 5 Axes>"
      ]
     },
     "metadata": {},
     "output_type": "display_data"
    },
    {
     "data": {
      "image/png": "[encoded data removed]",
      "text/plain": [
       "<Figure size 1000x400 with 5 Axes>"
      ]
     },
     "metadata": {},
     "output_type": "display_data"
    }
   ],
   "source": [
    "for images, label in cv_train_set.take(2):\n",
    "    # augmented_images = data_augmentation(images)\n",
    "\n",
    "    num_images = 5\n",
    "    plt.figure(figsize=(10, 4))\n",
    "\n",
    "    for i in range(num_images):\n",
    "        # original\n",
    "        ax = plt.subplot(2, num_images, i + 1)\n",
    "        plt.imshow(images[i].numpy().astype(\"uint8\"))\n",
    "        plt.title(class_names[np.argmax(label[i])])\n",
    "        plt.axis(\"off\")\n",
    "\n",
    "    plt.tight_layout()\n",
    "    plt.show()"
   ]
  },
  {
   "cell_type": "markdown",
   "id": "a7c0afb3",
   "metadata": {},
   "source": [
    "# Model"
   ]
  },
  {
   "cell_type": "code",
   "execution_count": 10,
   "id": "5966f7cb",
   "metadata": {},
   "outputs": [],
   "source": [
    "def update_new_best_params(base_dict, new_params):\n",
    "    cbd = base_dict.copy()\n",
    "    cbd.update(new_params)\n",
    "    \n",
    "    return cbd"
   ]
  },
  {
   "cell_type": "code",
   "execution_count": 11,
   "id": "7c8facd9",
   "metadata": {},
   "outputs": [],
   "source": [
    "def show_misclassified_images(model, dataset, class_names, n=9):\n",
    "    import numpy as np\n",
    "\n",
    "    images = []\n",
    "    true_labels = []\n",
    "    pred_labels = []\n",
    "\n",
    "    for img_batch, label_batch in dataset.unbatch().batch(1).take(1000):\n",
    "        preds = model.predict(img_batch, verbose=0)\n",
    "        pred_class = tf.argmax(preds[0])\n",
    "        true_class = tf.argmax(label_batch[0])\n",
    "\n",
    "        if pred_class != true_class:\n",
    "            images.append(img_batch[0].numpy())\n",
    "            true_labels.append(class_names[true_class.numpy()])\n",
    "            pred_labels.append(class_names[pred_class.numpy()])\n",
    "\n",
    "        if len(images) >= n:\n",
    "            break\n",
    "\n",
    "    plt.figure(figsize=(15, 10))\n",
    "    for i in range(len(images)):\n",
    "        plt.subplot(3, 3, i+1)\n",
    "\n",
    "        img = images[i]\n",
    "        if img.max() <= 1.0:\n",
    "            img = img * 255.0\n",
    "        img = np.clip(img.astype(\"uint8\"), 0, 255)\n",
    "\n",
    "        plt.imshow(img)\n",
    "        plt.title(f\"true: {true_labels[i]}\\npred: {pred_labels[i]}\", color='red')\n",
    "        plt.axis(\"off\")\n",
    "    plt.tight_layout()\n",
    "    plt.show()"
   ]
  },
  {
   "cell_type": "code",
   "execution_count": 12,
   "id": "64ff8c53",
   "metadata": {},
   "outputs": [],
   "source": [
    "def show_filters(model, layer_number = 2):\n",
    "    filters, biases = model.layers[2].get_weights()\n",
    "\n",
    "    # normalize\n",
    "    f_min, f_max = filters.min(), filters.max()\n",
    "    filters = (filters - f_min) / (f_max - f_min)\n",
    "\n",
    "    n_filters = filters.shape[3]\n",
    "    grid_size = 32\n",
    "    fig, axs = plt.subplots(grid_size, grid_size, figsize=(20, 20))\n",
    "\n",
    "    for i in range(grid_size * grid_size):\n",
    "        ax = axs[i // grid_size, i % grid_size]\n",
    "        ax.axis('off')\n",
    "        \n",
    "        if i < n_filters:\n",
    "            f = filters[:, :, :, i]\n",
    "            if f.shape[2] == 3:  # if rgb\n",
    "                ax.imshow(f)\n",
    "            else:  # grayscale\n",
    "                ax.imshow(f[:, :, 0], cmap='gray')\n",
    "        else:\n",
    "            ax.set_visible(False)\n",
    "\n",
    "    plt.subplots_adjust(wspace=0.1, hspace=0.1)\n",
    "    plt.show()\n"
   ]
  },
  {
   "cell_type": "code",
   "execution_count": 13,
   "id": "6adfdf36",
   "metadata": {},
   "outputs": [],
   "source": [
    "which_model = \"first_architecture\"\n",
    "\n",
    "def root_logdir(architecture_name):\n",
    "    return os.path.join(os.curdir, \"logs\\\\\"+architecture_name)\n",
    "\n",
    "def get_run_logdir(architecture_name, it):\n",
    "    import time\n",
    "    run_id = str(it) +\"_\"+ time.strftime(\"run_%Y_%m_%d-%H_%M_%S\")\n",
    "    return run_id, os.path.join(root_logdir(architecture_name), run_id)\n",
    "\n",
    "def table_from_history(history_table, run_id):\n",
    "    dft = pd.DataFrame(history_table)\n",
    "    dft['run'] = run_id\n",
    "    dft = dft.reset_index(names = \"epoch\")\n",
    "    return dft "
   ]
  },
  {
   "cell_type": "code",
   "execution_count": 14,
   "id": "1bd41ff3",
   "metadata": {},
   "outputs": [],
   "source": [
    "def pass_batchs_to_arrays(dset, pass_dummy = False):\n",
    "\n",
    "    X_list = []\n",
    "    y_list = []\n",
    "\n",
    "    for x_batch, y_batch in dset:\n",
    "        X_list.append(x_batch.numpy())\n",
    "        y_list.append(y_batch.numpy())\n",
    "\n",
    "    X = np.concatenate(X_list, axis=0)\n",
    "    y = np.concatenate(y_list, axis=0)\n",
    "    \n",
    "    if pass_dummy:\n",
    "        y = np.argmax(y, axis = 1)\n",
    "    \n",
    "    return X, y\n"
   ]
  },
  {
   "cell_type": "code",
   "execution_count": 15,
   "id": "7674cda8",
   "metadata": {},
   "outputs": [],
   "source": [
    "def compute_classification_metrics(y_true, y_pred, class_names):\n",
    "    cm = confusion_matrix(y_true, y_pred)\n",
    "    str_summary = classification_report(y_true, y_pred, target_names=class_names)\n",
    "    print(str_summary)\n",
    "    \n",
    "    # todo: manually compute other metrics\n",
    "    return cm"
   ]
  },
  {
   "cell_type": "code",
   "execution_count": 16,
   "id": "32da8808",
   "metadata": {},
   "outputs": [],
   "source": [
    "def plot_conf_matrix(cm):\n",
    "    plt.figure(figsize=(6, 5))\n",
    "    sns.heatmap(cm, annot=True, fmt=\"d\", cmap=\"Blues\", \n",
    "                xticklabels=class_names, yticklabels=class_names)\n",
    "    plt.xlabel(\"pred\")\n",
    "    plt.ylabel(\"true\")\n",
    "    plt.show()"
   ]
  },
  {
   "cell_type": "code",
   "execution_count": 17,
   "id": "ecca8943",
   "metadata": {},
   "outputs": [],
   "source": [
    "def evaluate_combination(i_p, params, X_train_array, y_train_array, skf, build_model):\n",
    "    history_tables = []\n",
    "    \n",
    "    print(f\"params: {params}\")\n",
    "    print(\"-\" * 10)\n",
    "\n",
    "    for i, (train_i, val_i) in enumerate(skf.split(X_train_array, y_train_array)):\n",
    "        fold = f\"Fold{i+1}\"\n",
    "        X_train, y_train = X_train_array[train_i], y_train_array[train_i]\n",
    "        X_val, y_val = X_train_array[val_i], y_train_array[val_i]\n",
    "\n",
    "        # model = build_first_model(**params)\n",
    "        model = build_model(**params)\n",
    "        run_id, run_logdir = get_run_logdir(\"first_architecture\", f\"ip_{i_p}\"+fold)\n",
    "\n",
    "        history = model.fit(X_train, y_train, validation_data=(X_val, y_val),\n",
    "                            epochs=30, verbose=0)\n",
    "\n",
    "        history_tables.append(table_from_history(history.history, run_id))\n",
    "\n",
    "    df_history = pd.concat(history_tables)\n",
    "    best_train_val = df_history.groupby('run').apply(\n",
    "        lambda x: x.loc[x[\"val_loss\"].idxmin()],\n",
    "        include_groups=False\n",
    "    ).reset_index()\n",
    "\n",
    "    val_loss = best_train_val['val_loss'].mean()\n",
    "    val_accuracy = best_train_val['val_accuracy'].mean()\n",
    "\n",
    "    return {\n",
    "        'index': i_p,\n",
    "        'params': params,\n",
    "        'val_loss': val_loss,\n",
    "        'val_accuracy': val_accuracy\n",
    "    }\n"
   ]
  },
  {
   "cell_type": "code",
   "execution_count": 18,
   "id": "c6d43e2e",
   "metadata": {},
   "outputs": [],
   "source": [
    "def CNN_GridSearchCV_non_parallel(X_train_array, y_train_array, param_grid, random_state, n_splits = 5, shuffle = True):\n",
    "\n",
    "    mean_scores = []\n",
    "\n",
    "    skf = StratifiedKFold(n_splits=n_splits, shuffle = shuffle, random_state=random_state)\n",
    "\n",
    "    param_combinations = [\n",
    "        dict(zip(param_grid.keys(), values))\n",
    "        for values in itertools.product(*param_grid.values())\n",
    "    ]\n",
    "\n",
    "    for i_p, params in enumerate(param_combinations):\n",
    "        \n",
    "        history_tables = []\n",
    "        print(\"params: \" + str(params))\n",
    "        print(\"-\"*10)\n",
    "        # iterate first through each of the folds (with tuning)\n",
    "        for i, (train_i, val_i) in enumerate(skf.split(X_train_array, y_train_array)):\n",
    "            fold = f\"Fold{i+1}\"\n",
    "            # print(fold)\n",
    "            \n",
    "            # data\n",
    "            X_train, y_train = X_train_array[train_i], y_train_array[train_i]\n",
    "            X_val, y_val = X_train_array[val_i], y_train_array[val_i]\n",
    "            \n",
    "            model = build_first_model(**params)\n",
    "            \n",
    "            # if we want to later check CV results\n",
    "            run_id, run_logdir = get_run_logdir(\"first_architecture\", f\"ip_{i_p}\"+fold)\n",
    "            \n",
    "            history = model.fit(X_train, y_train, validation_data=(X_val,y_val), \n",
    "                                epochs=30, verbose = 0)\n",
    "            \n",
    "            history_tables.append(table_from_history(history.history, run_id))\n",
    "        \n",
    "        df_history = pd.concat(history_tables)\n",
    "        # same as best_model_checkpoint / checks the epoch where the model had its lowest loss\n",
    "        best_train_val = df_history.groupby('run').apply(lambda x: x.loc[x[\"val_loss\"].idxmin()], include_groups = False).reset_index()\n",
    "        \n",
    "        val_loss, val_accuracy = (best_train_val['val_loss'].mean(), best_train_val['val_accuracy'].mean())\n",
    "        mean_scores.append((val_loss, val_accuracy))\n",
    "        \n",
    "        # print(\"-\"*10)\n",
    "        if i_p == 0:\n",
    "            best_params = params\n",
    "            best_accuracy = val_accuracy\n",
    "        else:\n",
    "            if val_accuracy > best_accuracy:\n",
    "                best_params = params\n",
    "                best_accuracy = val_accuracy\n",
    "                print(f\"*new_best | score: {val_accuracy}\")\n",
    "        print(\" \")\n",
    "    return best_params, best_accuracy, mean_scores\n",
    "    "
   ]
  },
  {
   "cell_type": "code",
   "execution_count": 19,
   "id": "49a90de4",
   "metadata": {},
   "outputs": [],
   "source": [
    "def CNN_GridSearchCV(X_train_array, y_train_array, param_grid, build_model,random_state, n_splits=5, shuffle=True, n_jobs=1):\n",
    "    skf = StratifiedKFold(n_splits=n_splits, shuffle=shuffle, random_state=random_state)\n",
    "\n",
    "    param_combinations = [\n",
    "        dict(zip(param_grid.keys(), values))\n",
    "        for values in itertools.product(*param_grid.values())\n",
    "    ]\n",
    "\n",
    "    # if 1 then it's sequential\n",
    "    results = Parallel(n_jobs=n_jobs)(\n",
    "        delayed(evaluate_combination)(i, params, X_train_array, y_train_array, skf, build_model)\n",
    "        for i, params in enumerate(param_combinations)\n",
    "    )\n",
    "\n",
    "    best_result = max(results, key=lambda r: r['val_accuracy'])\n",
    "    best_params = best_result['params']\n",
    "    best_accuracy = best_result['val_accuracy']\n",
    "\n",
    "    mean_scores = [(r['val_loss'], r['val_accuracy']) for r in results]\n",
    "\n",
    "    return best_params, best_accuracy, mean_scores\n"
   ]
  },
  {
   "cell_type": "code",
   "execution_count": 20,
   "id": "80431a44",
   "metadata": {},
   "outputs": [],
   "source": [
    "def save_params(run_logdir, name, best_params):\n",
    "    with open(run_logdir + '\\\\' + name, 'wb') as f:\n",
    "        pickle.dump(best_params, f)\n",
    "        \n",
    "def load_params(run_logdir):\n",
    "    with open(run_logdir, 'rb') as f:\n",
    "        loaded_params = pickle.load(f)\n",
    "    \n",
    "    return loaded_params "
   ]
  },
  {
   "cell_type": "markdown",
   "id": "5354fe94",
   "metadata": {},
   "source": [
    "## First"
   ]
  },
  {
   "cell_type": "code",
   "execution_count": 21,
   "id": "da67f223",
   "metadata": {},
   "outputs": [],
   "source": [
    "normalization_layer = Rescaling(1./255)\n",
    "\n",
    "def build_first_model(n_filters = 64, n_neurons = 64, learning_rate = 1e-2, momentum = 0.0, \n",
    "                      kernel_size = 3, pool_size = 2, sparse = True, **kwargs):\n",
    "    \n",
    "    #todo: true/false data augmentation\n",
    "    model = Sequential([\n",
    "    Input(shape = (image_size[0], image_size[1], dimension)),\n",
    "    normalization_layer,\n",
    "    Conv2D(n_filters, kernel_size, activation = \"relu\", padding = \"same\"),\n",
    "    MaxPooling2D(pool_size),\n",
    "    Flatten(),\n",
    "    Dense(n_neurons, activation=\"relu\"),\n",
    "    Dense(3, activation = \"softmax\")\n",
    "                    ])\n",
    "    \n",
    "    optimizer = SGD(learning_rate=learning_rate, momentum=momentum)\n",
    "    \n",
    "    loss = \"categorical_crossentropy\"\n",
    "    if sparse:\n",
    "        loss = \"sparse_categorical_crossentropy\"\n",
    "    model.compile(loss = loss,\n",
    "        optimizer = optimizer,\n",
    "        metrics = [\"accuracy\"])\n",
    "    \n",
    "    return model"
   ]
  },
  {
   "cell_type": "code",
   "execution_count": 22,
   "id": "1937f039",
   "metadata": {},
   "outputs": [],
   "source": [
    "X_train_array, y_train_array = pass_batchs_to_arrays(cv_train_set, pass_dummy=True)"
   ]
  },
  {
   "cell_type": "code",
   "execution_count": 23,
   "id": "ff710e36",
   "metadata": {},
   "outputs": [],
   "source": [
    "param_grid = {\"learning_rate\": [1e-2, 1e-3, 1e-4],\n",
    "              \"momentum\": [0.0, 0.9],\n",
    "              \"kernel_size\": [3,5],\n",
    "              \"n_filters\": [64, 128],\n",
    "              \"n_neurons\": [64, 128]}"
   ]
  },
  {
   "cell_type": "code",
   "execution_count": 24,
   "id": "b569e2a3",
   "metadata": {},
   "outputs": [
    {
     "ename": "KeyboardInterrupt",
     "evalue": "",
     "output_type": "error",
     "traceback": [
      "\u001b[31m---------------------------------------------------------------------------\u001b[39m",
      "\u001b[31mKeyboardInterrupt\u001b[39m                         Traceback (most recent call last)",
      "\u001b[36mCell\u001b[39m\u001b[36m \u001b[39m\u001b[32mIn[24]\u001b[39m\u001b[32m, line 1\u001b[39m\n\u001b[32m----> \u001b[39m\u001b[32m1\u001b[39m best_params, best_accuracy, mean_scores  = \u001b[43mCNN_GridSearchCV\u001b[49m\u001b[43m(\u001b[49m\u001b[43mX_train_array\u001b[49m\u001b[43m,\u001b[49m\u001b[43m \u001b[49m\u001b[43my_train_array\u001b[49m\u001b[43m,\u001b[49m\u001b[43m \u001b[49m\u001b[43mparam_grid\u001b[49m\u001b[43m,\u001b[49m\u001b[43m \u001b[49m\u001b[43mbuild_first_model\u001b[49m\u001b[43m,\u001b[49m\u001b[43m \u001b[49m\u001b[32;43m42\u001b[39;49m\u001b[43m,\u001b[49m\u001b[43m \u001b[49m\u001b[32;43m5\u001b[39;49m\u001b[43m,\u001b[49m\u001b[43m \u001b[49m\u001b[43mn_jobs\u001b[49m\u001b[43m \u001b[49m\u001b[43m=\u001b[49m\u001b[43m \u001b[49m\u001b[43m-\u001b[49m\u001b[32;43m1\u001b[39;49m\u001b[43m)\u001b[49m\n",
      "\u001b[36mCell\u001b[39m\u001b[36m \u001b[39m\u001b[32mIn[19]\u001b[39m\u001b[32m, line 10\u001b[39m, in \u001b[36mCNN_GridSearchCV\u001b[39m\u001b[34m(X_train_array, y_train_array, param_grid, build_model, random_state, n_splits, shuffle, n_jobs)\u001b[39m\n\u001b[32m      4\u001b[39m param_combinations = [\n\u001b[32m      5\u001b[39m     \u001b[38;5;28mdict\u001b[39m(\u001b[38;5;28mzip\u001b[39m(param_grid.keys(), values))\n\u001b[32m      6\u001b[39m     \u001b[38;5;28;01mfor\u001b[39;00m values \u001b[38;5;129;01min\u001b[39;00m itertools.product(*param_grid.values())\n\u001b[32m      7\u001b[39m ]\n\u001b[32m      9\u001b[39m \u001b[38;5;66;03m# if 1 then it's sequential\u001b[39;00m\n\u001b[32m---> \u001b[39m\u001b[32m10\u001b[39m results = \u001b[43mParallel\u001b[49m\u001b[43m(\u001b[49m\u001b[43mn_jobs\u001b[49m\u001b[43m=\u001b[49m\u001b[43mn_jobs\u001b[49m\u001b[43m)\u001b[49m\u001b[43m(\u001b[49m\n\u001b[32m     11\u001b[39m \u001b[43m    \u001b[49m\u001b[43mdelayed\u001b[49m\u001b[43m(\u001b[49m\u001b[43mevaluate_combination\u001b[49m\u001b[43m)\u001b[49m\u001b[43m(\u001b[49m\u001b[43mi\u001b[49m\u001b[43m,\u001b[49m\u001b[43m \u001b[49m\u001b[43mparams\u001b[49m\u001b[43m,\u001b[49m\u001b[43m \u001b[49m\u001b[43mX_train_array\u001b[49m\u001b[43m,\u001b[49m\u001b[43m \u001b[49m\u001b[43my_train_array\u001b[49m\u001b[43m,\u001b[49m\u001b[43m \u001b[49m\u001b[43mskf\u001b[49m\u001b[43m,\u001b[49m\u001b[43m \u001b[49m\u001b[43mbuild_model\u001b[49m\u001b[43m)\u001b[49m\n\u001b[32m     12\u001b[39m \u001b[43m    \u001b[49m\u001b[38;5;28;43;01mfor\u001b[39;49;00m\u001b[43m \u001b[49m\u001b[43mi\u001b[49m\u001b[43m,\u001b[49m\u001b[43m \u001b[49m\u001b[43mparams\u001b[49m\u001b[43m \u001b[49m\u001b[38;5;129;43;01min\u001b[39;49;00m\u001b[43m \u001b[49m\u001b[38;5;28;43menumerate\u001b[39;49m\u001b[43m(\u001b[49m\u001b[43mparam_combinations\u001b[49m\u001b[43m)\u001b[49m\n\u001b[32m     13\u001b[39m \u001b[43m\u001b[49m\u001b[43m)\u001b[49m\n\u001b[32m     15\u001b[39m best_result = \u001b[38;5;28mmax\u001b[39m(results, key=\u001b[38;5;28;01mlambda\u001b[39;00m r: r[\u001b[33m'\u001b[39m\u001b[33mval_accuracy\u001b[39m\u001b[33m'\u001b[39m])\n\u001b[32m     16\u001b[39m best_params = best_result[\u001b[33m'\u001b[39m\u001b[33mparams\u001b[39m\u001b[33m'\u001b[39m]\n",
      "\u001b[36mFile \u001b[39m\u001b[32mc:\\Users\\faarc\\anaconda3\\envs\\deepl\\Lib\\site-packages\\joblib\\parallel.py:2072\u001b[39m, in \u001b[36mParallel.__call__\u001b[39m\u001b[34m(self, iterable)\u001b[39m\n\u001b[32m   2066\u001b[39m \u001b[38;5;66;03m# The first item from the output is blank, but it makes the interpreter\u001b[39;00m\n\u001b[32m   2067\u001b[39m \u001b[38;5;66;03m# progress until it enters the Try/Except block of the generator and\u001b[39;00m\n\u001b[32m   2068\u001b[39m \u001b[38;5;66;03m# reaches the first `yield` statement. This starts the asynchronous\u001b[39;00m\n\u001b[32m   2069\u001b[39m \u001b[38;5;66;03m# dispatch of the tasks to the workers.\u001b[39;00m\n\u001b[32m   2070\u001b[39m \u001b[38;5;28mnext\u001b[39m(output)\n\u001b[32m-> \u001b[39m\u001b[32m2072\u001b[39m \u001b[38;5;28;01mreturn\u001b[39;00m output \u001b[38;5;28;01mif\u001b[39;00m \u001b[38;5;28mself\u001b[39m.return_generator \u001b[38;5;28;01melse\u001b[39;00m \u001b[38;5;28;43mlist\u001b[39;49m\u001b[43m(\u001b[49m\u001b[43moutput\u001b[49m\u001b[43m)\u001b[49m\n",
      "\u001b[36mFile \u001b[39m\u001b[32mc:\\Users\\faarc\\anaconda3\\envs\\deepl\\Lib\\site-packages\\joblib\\parallel.py:1682\u001b[39m, in \u001b[36mParallel._get_outputs\u001b[39m\u001b[34m(self, iterator, pre_dispatch)\u001b[39m\n\u001b[32m   1679\u001b[39m     \u001b[38;5;28;01myield\u001b[39;00m\n\u001b[32m   1681\u001b[39m     \u001b[38;5;28;01mwith\u001b[39;00m \u001b[38;5;28mself\u001b[39m._backend.retrieval_context():\n\u001b[32m-> \u001b[39m\u001b[32m1682\u001b[39m         \u001b[38;5;28;01myield from\u001b[39;00m \u001b[38;5;28mself\u001b[39m._retrieve()\n\u001b[32m   1684\u001b[39m \u001b[38;5;28;01mexcept\u001b[39;00m \u001b[38;5;167;01mGeneratorExit\u001b[39;00m:\n\u001b[32m   1685\u001b[39m     \u001b[38;5;66;03m# The generator has been garbage collected before being fully\u001b[39;00m\n\u001b[32m   1686\u001b[39m     \u001b[38;5;66;03m# consumed. This aborts the remaining tasks if possible and warn\u001b[39;00m\n\u001b[32m   1687\u001b[39m     \u001b[38;5;66;03m# the user if necessary.\u001b[39;00m\n\u001b[32m   1688\u001b[39m     \u001b[38;5;28mself\u001b[39m._exception = \u001b[38;5;28;01mTrue\u001b[39;00m\n",
      "\u001b[36mFile \u001b[39m\u001b[32mc:\\Users\\faarc\\anaconda3\\envs\\deepl\\Lib\\site-packages\\joblib\\parallel.py:1800\u001b[39m, in \u001b[36mParallel._retrieve\u001b[39m\u001b[34m(self)\u001b[39m\n\u001b[32m   1789\u001b[39m \u001b[38;5;28;01mif\u001b[39;00m \u001b[38;5;28mself\u001b[39m.return_ordered:\n\u001b[32m   1790\u001b[39m     \u001b[38;5;66;03m# Case ordered: wait for completion (or error) of the next job\u001b[39;00m\n\u001b[32m   1791\u001b[39m     \u001b[38;5;66;03m# that have been dispatched and not retrieved yet. If no job\u001b[39;00m\n\u001b[32m   (...)\u001b[39m\u001b[32m   1795\u001b[39m     \u001b[38;5;66;03m# control only have to be done on the amount of time the next\u001b[39;00m\n\u001b[32m   1796\u001b[39m     \u001b[38;5;66;03m# dispatched job is pending.\u001b[39;00m\n\u001b[32m   1797\u001b[39m     \u001b[38;5;28;01mif\u001b[39;00m (nb_jobs == \u001b[32m0\u001b[39m) \u001b[38;5;129;01mor\u001b[39;00m (\n\u001b[32m   1798\u001b[39m         \u001b[38;5;28mself\u001b[39m._jobs[\u001b[32m0\u001b[39m].get_status(timeout=\u001b[38;5;28mself\u001b[39m.timeout) == TASK_PENDING\n\u001b[32m   1799\u001b[39m     ):\n\u001b[32m-> \u001b[39m\u001b[32m1800\u001b[39m         time.sleep(\u001b[32m0.01\u001b[39m)\n\u001b[32m   1801\u001b[39m         \u001b[38;5;28;01mcontinue\u001b[39;00m\n\u001b[32m   1803\u001b[39m \u001b[38;5;28;01melif\u001b[39;00m nb_jobs == \u001b[32m0\u001b[39m:\n\u001b[32m   1804\u001b[39m     \u001b[38;5;66;03m# Case unordered: jobs are added to the list of jobs to\u001b[39;00m\n\u001b[32m   1805\u001b[39m     \u001b[38;5;66;03m# retrieve `self._jobs` only once completed or in error, which\u001b[39;00m\n\u001b[32m   (...)\u001b[39m\u001b[32m   1811\u001b[39m     \u001b[38;5;66;03m# timeouts before any other dispatched job has completed and\u001b[39;00m\n\u001b[32m   1812\u001b[39m     \u001b[38;5;66;03m# been added to `self._jobs` to be retrieved.\u001b[39;00m\n",
      "\u001b[31mKeyboardInterrupt\u001b[39m: "
     ]
    }
   ],
   "source": [
    "best_params, best_accuracy, mean_scores  = CNN_GridSearchCV(X_train_array, y_train_array, param_grid, build_first_model, 42, 5, n_jobs = -1)"
   ]
  },
  {
   "cell_type": "code",
   "execution_count": 76,
   "id": "5dd35ad5",
   "metadata": {},
   "outputs": [
    {
     "data": {
      "text/plain": [
       "({'learning_rate': 0.01,\n",
       "  'momentum': 0.9,\n",
       "  'kernel_size': 5,\n",
       "  'n_filters': 128,\n",
       "  'n_neurons': 64},\n",
       " np.float64(0.9788571357727051))"
      ]
     },
     "execution_count": 76,
     "metadata": {},
     "output_type": "execute_result"
    }
   ],
   "source": [
    "best_params, best_accuracy"
   ]
  },
  {
   "cell_type": "code",
   "execution_count": 25,
   "id": "3caee6fd",
   "metadata": {},
   "outputs": [],
   "source": [
    "run_id, run_logdir = get_run_logdir(\"first_architecture\", \"1\")"
   ]
  },
  {
   "cell_type": "code",
   "execution_count": null,
   "id": "84f5ccf4",
   "metadata": {},
   "outputs": [
    {
     "name": "stdout",
     "output_type": "stream",
     "text": [
      "Epoch 1/100\n",
      "\u001b[1m55/55\u001b[0m \u001b[32m━━━━━━━━━━━━━━━━━━━━\u001b[0m\u001b[37m\u001b[0m \u001b[1m1s\u001b[0m 10ms/step - accuracy: 0.4782 - loss: 1.0309 - val_accuracy: 0.7580 - val_loss: 0.6180\n",
      "Epoch 2/100\n",
      "\u001b[1m55/55\u001b[0m \u001b[32m━━━━━━━━━━━━━━━━━━━━\u001b[0m\u001b[37m\u001b[0m \u001b[1m1s\u001b[0m 8ms/step - accuracy: 0.7755 - loss: 0.6167 - val_accuracy: 0.9041 - val_loss: 0.3326\n",
      "Epoch 3/100\n",
      "\u001b[1m55/55\u001b[0m \u001b[32m━━━━━━━━━━━━━━━━━━━━\u001b[0m\u001b[37m\u001b[0m \u001b[1m1s\u001b[0m 8ms/step - accuracy: 0.8666 - loss: 0.3861 - val_accuracy: 0.9178 - val_loss: 0.2568\n",
      "Epoch 4/100\n",
      "\u001b[1m55/55\u001b[0m \u001b[32m━━━━━━━━━━━━━━━━━━━━\u001b[0m\u001b[37m\u001b[0m \u001b[1m1s\u001b[0m 8ms/step - accuracy: 0.9119 - loss: 0.2578 - val_accuracy: 0.9178 - val_loss: 0.2188\n",
      "Epoch 5/100\n",
      "\u001b[1m55/55\u001b[0m \u001b[32m━━━━━━━━━━━━━━━━━━━━\u001b[0m\u001b[37m\u001b[0m \u001b[1m1s\u001b[0m 8ms/step - accuracy: 0.9331 - loss: 0.1933 - val_accuracy: 0.9543 - val_loss: 0.1682\n",
      "Epoch 6/100\n",
      "\u001b[1m55/55\u001b[0m \u001b[32m━━━━━━━━━━━━━━━━━━━━\u001b[0m\u001b[37m\u001b[0m \u001b[1m1s\u001b[0m 8ms/step - accuracy: 0.9413 - loss: 0.1772 - val_accuracy: 0.9452 - val_loss: 0.1341\n",
      "Epoch 7/100\n",
      "\u001b[1m55/55\u001b[0m \u001b[32m━━━━━━━━━━━━━━━━━━━━\u001b[0m\u001b[37m\u001b[0m \u001b[1m1s\u001b[0m 8ms/step - accuracy: 0.9498 - loss: 0.1394 - val_accuracy: 0.9041 - val_loss: 0.2384\n",
      "Epoch 8/100\n",
      "\u001b[1m55/55\u001b[0m \u001b[32m━━━━━━━━━━━━━━━━━━━━\u001b[0m\u001b[37m\u001b[0m \u001b[1m1s\u001b[0m 9ms/step - accuracy: 0.9476 - loss: 0.1598 - val_accuracy: 0.9726 - val_loss: 0.0958\n",
      "Epoch 9/100\n",
      "\u001b[1m55/55\u001b[0m \u001b[32m━━━━━━━━━━━━━━━━━━━━\u001b[0m\u001b[37m\u001b[0m \u001b[1m1s\u001b[0m 8ms/step - accuracy: 0.9624 - loss: 0.1043 - val_accuracy: 0.9315 - val_loss: 0.1753\n",
      "Epoch 10/100\n",
      "\u001b[1m55/55\u001b[0m \u001b[32m━━━━━━━━━━━━━━━━━━━━\u001b[0m\u001b[37m\u001b[0m \u001b[1m1s\u001b[0m 8ms/step - accuracy: 0.9723 - loss: 0.0895 - val_accuracy: 0.9635 - val_loss: 0.1343\n",
      "Epoch 11/100\n",
      "\u001b[1m55/55\u001b[0m \u001b[32m━━━━━━━━━━━━━━━━━━━━\u001b[0m\u001b[37m\u001b[0m \u001b[1m1s\u001b[0m 8ms/step - accuracy: 0.9649 - loss: 0.1090 - val_accuracy: 0.9498 - val_loss: 0.1872\n",
      "Epoch 12/100\n",
      "\u001b[1m55/55\u001b[0m \u001b[32m━━━━━━━━━━━━━━━━━━━━\u001b[0m\u001b[37m\u001b[0m \u001b[1m1s\u001b[0m 8ms/step - accuracy: 0.9679 - loss: 0.1085 - val_accuracy: 0.9543 - val_loss: 0.1300\n",
      "Epoch 13/100\n",
      "\u001b[1m55/55\u001b[0m \u001b[32m━━━━━━━━━━━━━━━━━━━━\u001b[0m\u001b[37m\u001b[0m \u001b[1m1s\u001b[0m 9ms/step - accuracy: 0.9634 - loss: 0.1184 - val_accuracy: 0.9772 - val_loss: 0.0817\n",
      "Epoch 14/100\n",
      "\u001b[1m55/55\u001b[0m \u001b[32m━━━━━━━━━━━━━━━━━━━━\u001b[0m\u001b[37m\u001b[0m \u001b[1m1s\u001b[0m 8ms/step - accuracy: 0.9716 - loss: 0.0740 - val_accuracy: 0.9772 - val_loss: 0.0664\n",
      "Epoch 15/100\n",
      "\u001b[1m55/55\u001b[0m \u001b[32m━━━━━━━━━━━━━━━━━━━━\u001b[0m\u001b[37m\u001b[0m \u001b[1m1s\u001b[0m 8ms/step - accuracy: 0.9774 - loss: 0.0796 - val_accuracy: 0.9772 - val_loss: 0.0626\n",
      "Epoch 16/100\n",
      "\u001b[1m55/55\u001b[0m \u001b[32m━━━━━━━━━━━━━━━━━━━━\u001b[0m\u001b[37m\u001b[0m \u001b[1m1s\u001b[0m 8ms/step - accuracy: 0.9784 - loss: 0.0644 - val_accuracy: 0.9863 - val_loss: 0.0753\n",
      "Epoch 17/100\n",
      "\u001b[1m55/55\u001b[0m \u001b[32m━━━━━━━━━━━━━━━━━━━━\u001b[0m\u001b[37m\u001b[0m \u001b[1m1s\u001b[0m 8ms/step - accuracy: 0.9792 - loss: 0.0735 - val_accuracy: 0.9817 - val_loss: 0.0767\n",
      "Epoch 18/100\n",
      "\u001b[1m55/55\u001b[0m \u001b[32m━━━━━━━━━━━━━━━━━━━━\u001b[0m\u001b[37m\u001b[0m \u001b[1m1s\u001b[0m 8ms/step - accuracy: 0.9804 - loss: 0.0751 - val_accuracy: 0.9817 - val_loss: 0.0624\n",
      "Epoch 19/100\n",
      "\u001b[1m55/55\u001b[0m \u001b[32m━━━━━━━━━━━━━━━━━━━━\u001b[0m\u001b[37m\u001b[0m \u001b[1m1s\u001b[0m 8ms/step - accuracy: 0.9776 - loss: 0.0762 - val_accuracy: 0.9863 - val_loss: 0.0540\n",
      "Epoch 20/100\n",
      "\u001b[1m55/55\u001b[0m \u001b[32m━━━━━━━━━━━━━━━━━━━━\u001b[0m\u001b[37m\u001b[0m \u001b[1m1s\u001b[0m 8ms/step - accuracy: 0.9816 - loss: 0.0459 - val_accuracy: 0.9726 - val_loss: 0.1116\n",
      "Epoch 21/100\n",
      "\u001b[1m55/55\u001b[0m \u001b[32m━━━━━━━━━━━━━━━━━━━━\u001b[0m\u001b[37m\u001b[0m \u001b[1m1s\u001b[0m 8ms/step - accuracy: 0.9843 - loss: 0.0491 - val_accuracy: 0.9817 - val_loss: 0.0500\n",
      "Epoch 22/100\n",
      "\u001b[1m55/55\u001b[0m \u001b[32m━━━━━━━━━━━━━━━━━━━━\u001b[0m\u001b[37m\u001b[0m \u001b[1m1s\u001b[0m 8ms/step - accuracy: 0.9854 - loss: 0.0480 - val_accuracy: 0.9863 - val_loss: 0.0628\n",
      "Epoch 23/100\n",
      "\u001b[1m55/55\u001b[0m \u001b[32m━━━━━━━━━━━━━━━━━━━━\u001b[0m\u001b[37m\u001b[0m \u001b[1m1s\u001b[0m 8ms/step - accuracy: 0.9884 - loss: 0.0378 - val_accuracy: 0.9817 - val_loss: 0.0518\n",
      "Epoch 24/100\n",
      "\u001b[1m55/55\u001b[0m \u001b[32m━━━━━━━━━━━━━━━━━━━━\u001b[0m\u001b[37m\u001b[0m \u001b[1m1s\u001b[0m 8ms/step - accuracy: 0.9838 - loss: 0.0499 - val_accuracy: 0.9909 - val_loss: 0.0467\n",
      "Epoch 25/100\n",
      "\u001b[1m55/55\u001b[0m \u001b[32m━━━━━━━━━━━━━━━━━━━━\u001b[0m\u001b[37m\u001b[0m \u001b[1m1s\u001b[0m 9ms/step - accuracy: 0.9880 - loss: 0.0458 - val_accuracy: 0.9909 - val_loss: 0.0427\n",
      "Epoch 26/100\n",
      "\u001b[1m55/55\u001b[0m \u001b[32m━━━━━━━━━━━━━━━━━━━━\u001b[0m\u001b[37m\u001b[0m \u001b[1m1s\u001b[0m 8ms/step - accuracy: 0.9866 - loss: 0.0340 - val_accuracy: 0.9863 - val_loss: 0.0585\n",
      "Epoch 27/100\n",
      "\u001b[1m55/55\u001b[0m \u001b[32m━━━━━━━━━━━━━━━━━━━━\u001b[0m\u001b[37m\u001b[0m \u001b[1m1s\u001b[0m 8ms/step - accuracy: 0.9888 - loss: 0.0419 - val_accuracy: 0.9909 - val_loss: 0.0553\n",
      "Epoch 28/100\n",
      "\u001b[1m55/55\u001b[0m \u001b[32m━━━━━━━━━━━━━━━━━━━━\u001b[0m\u001b[37m\u001b[0m \u001b[1m1s\u001b[0m 8ms/step - accuracy: 0.9948 - loss: 0.0274 - val_accuracy: 0.9817 - val_loss: 0.0478\n",
      "Epoch 29/100\n",
      "\u001b[1m55/55\u001b[0m \u001b[32m━━━━━━━━━━━━━━━━━━━━\u001b[0m\u001b[37m\u001b[0m \u001b[1m1s\u001b[0m 8ms/step - accuracy: 0.9928 - loss: 0.0229 - val_accuracy: 0.9863 - val_loss: 0.0580\n",
      "Epoch 30/100\n",
      "\u001b[1m55/55\u001b[0m \u001b[32m━━━━━━━━━━━━━━━━━━━━\u001b[0m\u001b[37m\u001b[0m \u001b[1m1s\u001b[0m 8ms/step - accuracy: 0.9896 - loss: 0.0347 - val_accuracy: 0.9772 - val_loss: 0.0729\n",
      "Epoch 31/100\n",
      "\u001b[1m55/55\u001b[0m \u001b[32m━━━━━━━━━━━━━━━━━━━━\u001b[0m\u001b[37m\u001b[0m \u001b[1m1s\u001b[0m 8ms/step - accuracy: 0.9867 - loss: 0.0376 - val_accuracy: 0.9909 - val_loss: 0.0478\n",
      "Epoch 32/100\n",
      "\u001b[1m55/55\u001b[0m \u001b[32m━━━━━━━━━━━━━━━━━━━━\u001b[0m\u001b[37m\u001b[0m \u001b[1m1s\u001b[0m 8ms/step - accuracy: 0.9918 - loss: 0.0280 - val_accuracy: 0.9909 - val_loss: 0.0278\n",
      "Epoch 33/100\n",
      "\u001b[1m55/55\u001b[0m \u001b[32m━━━━━━━━━━━━━━━━━━━━\u001b[0m\u001b[37m\u001b[0m \u001b[1m1s\u001b[0m 8ms/step - accuracy: 0.9908 - loss: 0.0349 - val_accuracy: 0.9909 - val_loss: 0.0333\n",
      "Epoch 34/100\n",
      "\u001b[1m55/55\u001b[0m \u001b[32m━━━━━━━━━━━━━━━━━━━━\u001b[0m\u001b[37m\u001b[0m \u001b[1m1s\u001b[0m 8ms/step - accuracy: 0.9920 - loss: 0.0247 - val_accuracy: 0.9909 - val_loss: 0.0240\n",
      "Epoch 35/100\n",
      "\u001b[1m55/55\u001b[0m \u001b[32m━━━━━━━━━━━━━━━━━━━━\u001b[0m\u001b[37m\u001b[0m \u001b[1m1s\u001b[0m 8ms/step - accuracy: 0.9925 - loss: 0.0243 - val_accuracy: 0.9863 - val_loss: 0.0454\n",
      "Epoch 36/100\n",
      "\u001b[1m55/55\u001b[0m \u001b[32m━━━━━━━━━━━━━━━━━━━━\u001b[0m\u001b[37m\u001b[0m \u001b[1m1s\u001b[0m 8ms/step - accuracy: 0.9937 - loss: 0.0233 - val_accuracy: 0.9772 - val_loss: 0.1017\n",
      "Epoch 37/100\n",
      "\u001b[1m55/55\u001b[0m \u001b[32m━━━━━━━━━━━━━━━━━━━━\u001b[0m\u001b[37m\u001b[0m \u001b[1m1s\u001b[0m 8ms/step - accuracy: 0.9862 - loss: 0.0365 - val_accuracy: 0.9909 - val_loss: 0.0468\n",
      "Epoch 38/100\n",
      "\u001b[1m55/55\u001b[0m \u001b[32m━━━━━━━━━━━━━━━━━━━━\u001b[0m\u001b[37m\u001b[0m \u001b[1m1s\u001b[0m 8ms/step - accuracy: 0.9942 - loss: 0.0239 - val_accuracy: 0.9863 - val_loss: 0.0653\n",
      "Epoch 39/100\n",
      "\u001b[1m55/55\u001b[0m \u001b[32m━━━━━━━━━━━━━━━━━━━━\u001b[0m\u001b[37m\u001b[0m \u001b[1m1s\u001b[0m 8ms/step - accuracy: 0.9913 - loss: 0.0205 - val_accuracy: 0.9909 - val_loss: 0.0254\n",
      "Epoch 40/100\n",
      "\u001b[1m55/55\u001b[0m \u001b[32m━━━━━━━━━━━━━━━━━━━━\u001b[0m\u001b[37m\u001b[0m \u001b[1m1s\u001b[0m 8ms/step - accuracy: 0.9958 - loss: 0.0164 - val_accuracy: 0.9863 - val_loss: 0.0924\n",
      "Epoch 41/100\n",
      "\u001b[1m55/55\u001b[0m \u001b[32m━━━━━━━━━━━━━━━━━━━━\u001b[0m\u001b[37m\u001b[0m \u001b[1m1s\u001b[0m 8ms/step - accuracy: 0.9897 - loss: 0.0341 - val_accuracy: 0.9909 - val_loss: 0.0322\n",
      "Epoch 42/100\n",
      "\u001b[1m55/55\u001b[0m \u001b[32m━━━━━━━━━━━━━━━━━━━━\u001b[0m\u001b[37m\u001b[0m \u001b[1m1s\u001b[0m 8ms/step - accuracy: 0.9961 - loss: 0.0164 - val_accuracy: 0.9909 - val_loss: 0.0559\n",
      "Epoch 43/100\n",
      "\u001b[1m55/55\u001b[0m \u001b[32m━━━━━━━━━━━━━━━━━━━━\u001b[0m\u001b[37m\u001b[0m \u001b[1m1s\u001b[0m 8ms/step - accuracy: 0.9982 - loss: 0.0107 - val_accuracy: 0.9817 - val_loss: 0.0640\n",
      "Epoch 44/100\n",
      "\u001b[1m55/55\u001b[0m \u001b[32m━━━━━━━━━━━━━━━━━━━━\u001b[0m\u001b[37m\u001b[0m \u001b[1m1s\u001b[0m 8ms/step - accuracy: 0.9976 - loss: 0.0137 - val_accuracy: 0.9909 - val_loss: 0.0317\n"
     ]
    },
    {
     "data": {
      "text/plain": [
       "<keras.src.callbacks.history.History at 0x2482d49cfd0>"
      ]
     },
     "execution_count": 121,
     "metadata": {},
     "output_type": "execute_result"
    }
   ],
   "source": [
    "save_params(best_params, \"best_params_first_model.pkl\")\n",
    "\n",
    "model_checkpoint = ModelCheckpoint(run_logdir +\"\\\\first_model.keras\", save_best_only=True)\n",
    "tensorboard_cb = TensorBoard(run_logdir)\n",
    "early_stopping = EarlyStopping(patience = 10, restore_best_weights=True)\n",
    "\n",
    "\n",
    "model = build_first_model(**best_params, sparse= False)\n",
    "# here we can save the best model\n",
    "model.fit(cv_train_set, validation_data=cv_val_set, epochs=100, callbacks= [tensorboard_cb,model_checkpoint, early_stopping])"
   ]
  },
  {
   "cell_type": "code",
   "execution_count": 122,
   "id": "2b827a6e",
   "metadata": {},
   "outputs": [
    {
     "name": "stdout",
     "output_type": "stream",
     "text": [
      "\u001b[1m7/7\u001b[0m \u001b[32m━━━━━━━━━━━━━━━━━━━━\u001b[0m\u001b[37m\u001b[0m \u001b[1m0s\u001b[0m 6ms/step - accuracy: 0.9655 - loss: 0.0830 \n"
     ]
    },
    {
     "data": {
      "text/plain": [
       "[0.09145935624837875, 0.9634703397750854]"
      ]
     },
     "execution_count": 122,
     "metadata": {},
     "output_type": "execute_result"
    }
   ],
   "source": [
    "model.evaluate(cv_test_set)"
   ]
  },
  {
   "cell_type": "code",
   "execution_count": 27,
   "id": "08d33313",
   "metadata": {},
   "outputs": [
    {
     "data": {
      "text/plain": [
       "'.\\\\logs\\\\first_architecture\\\\1_run_2025_08_13-10_23_52'"
      ]
     },
     "execution_count": 27,
     "metadata": {},
     "output_type": "execute_result"
    }
   ],
   "source": [
    "run_logdir"
   ]
  },
  {
   "cell_type": "code",
   "execution_count": 57,
   "id": "bae0b393",
   "metadata": {},
   "outputs": [],
   "source": [
    "# path_first = 'C:/Users/faarc/OneDrive/Escritorio/projects/paper_rock_scissors_pr/rock_paper_scissors/rps_deep/notebooks/logs/first_architecture/1_run_2025_07_19-15_54_58/first_model.keras'\n",
    "path_first = 'C:/Users/faarc/OneDrive/Escritorio/projects/paper_rock_scissors_pr/rock_paper_scissors/rps_deep/notebooks/logs/first_architecture/1_run_2025_07_19-15_54_58'"
   ]
  },
  {
   "cell_type": "code",
   "execution_count": null,
   "id": "677c4bed",
   "metadata": {},
   "outputs": [
    {
     "name": "stdout",
     "output_type": "stream",
     "text": [
      "\u001b[1m7/7\u001b[0m \u001b[32m━━━━━━━━━━━━━━━━━━━━\u001b[0m\u001b[37m\u001b[0m \u001b[1m0s\u001b[0m 6ms/step - accuracy: 0.9655 - loss: 0.0830  \n"
     ]
    },
    {
     "data": {
      "text/plain": [
       "[0.09145935624837875, 0.9634703397750854]"
      ]
     },
     "execution_count": 35,
     "metadata": {},
     "output_type": "execute_result"
    }
   ],
   "source": [
    "# best_model = tf.keras.models.load_model(run_logdir +\"\\\\first_model.keras\")\n",
    "best_model = tf.keras.models.load_model(path_first + '/first_model.keras')\n",
    "\n",
    "best_model.evaluate(cv_test_set)"
   ]
  },
  {
   "cell_type": "code",
   "execution_count": 58,
   "id": "5b38205f",
   "metadata": {},
   "outputs": [
    {
     "data": {
      "text/plain": [
       "{'learning_rate': 0.01,\n",
       " 'momentum': 0.9,\n",
       " 'kernel_size': 5,\n",
       " 'n_filters': 128,\n",
       " 'n_neurons': 64}"
      ]
     },
     "execution_count": 58,
     "metadata": {},
     "output_type": "execute_result"
    }
   ],
   "source": [
    "load_params(path_first+'/best_params_first_model.pkl')"
   ]
  },
  {
   "cell_type": "code",
   "execution_count": 37,
   "id": "17942763",
   "metadata": {},
   "outputs": [
    {
     "data": {
      "text/html": [
       "<pre style=\"white-space:pre;overflow-x:auto;line-height:normal;font-family:Menlo,'DejaVu Sans Mono',consolas,'Courier New',monospace\"><span style=\"font-weight: bold\">Model: \"sequential_13\"</span>\n",
       "</pre>\n"
      ],
      "text/plain": [
       "\u001b[1mModel: \"sequential_13\"\u001b[0m\n"
      ]
     },
     "metadata": {},
     "output_type": "display_data"
    },
    {
     "data": {
      "text/html": [
       "<pre style=\"white-space:pre;overflow-x:auto;line-height:normal;font-family:Menlo,'DejaVu Sans Mono',consolas,'Courier New',monospace\">┏━━━━━━━━━━━━━━━━━━━━━━━━━━━━━━━━━┳━━━━━━━━━━━━━━━━━━━━━━━━┳━━━━━━━━━━━━━━━┓\n",
       "┃<span style=\"font-weight: bold\"> Layer (type)                    </span>┃<span style=\"font-weight: bold\"> Output Shape           </span>┃<span style=\"font-weight: bold\">       Param # </span>┃\n",
       "┡━━━━━━━━━━━━━━━━━━━━━━━━━━━━━━━━━╇━━━━━━━━━━━━━━━━━━━━━━━━╇━━━━━━━━━━━━━━━┩\n",
       "│ rescaling_1 (<span style=\"color: #0087ff; text-decoration-color: #0087ff\">Rescaling</span>)         │ (<span style=\"color: #00d7ff; text-decoration-color: #00d7ff\">None</span>, <span style=\"color: #00af00; text-decoration-color: #00af00\">25</span>, <span style=\"color: #00af00; text-decoration-color: #00af00\">25</span>, <span style=\"color: #00af00; text-decoration-color: #00af00\">3</span>)      │             <span style=\"color: #00af00; text-decoration-color: #00af00\">0</span> │\n",
       "├─────────────────────────────────┼────────────────────────┼───────────────┤\n",
       "│ conv2d_4 (<span style=\"color: #0087ff; text-decoration-color: #0087ff\">Conv2D</span>)               │ (<span style=\"color: #00d7ff; text-decoration-color: #00d7ff\">None</span>, <span style=\"color: #00af00; text-decoration-color: #00af00\">25</span>, <span style=\"color: #00af00; text-decoration-color: #00af00\">25</span>, <span style=\"color: #00af00; text-decoration-color: #00af00\">128</span>)    │         <span style=\"color: #00af00; text-decoration-color: #00af00\">9,728</span> │\n",
       "├─────────────────────────────────┼────────────────────────┼───────────────┤\n",
       "│ max_pooling2d_4 (<span style=\"color: #0087ff; text-decoration-color: #0087ff\">MaxPooling2D</span>)  │ (<span style=\"color: #00d7ff; text-decoration-color: #00d7ff\">None</span>, <span style=\"color: #00af00; text-decoration-color: #00af00\">12</span>, <span style=\"color: #00af00; text-decoration-color: #00af00\">12</span>, <span style=\"color: #00af00; text-decoration-color: #00af00\">128</span>)    │             <span style=\"color: #00af00; text-decoration-color: #00af00\">0</span> │\n",
       "├─────────────────────────────────┼────────────────────────┼───────────────┤\n",
       "│ flatten_4 (<span style=\"color: #0087ff; text-decoration-color: #0087ff\">Flatten</span>)             │ (<span style=\"color: #00d7ff; text-decoration-color: #00d7ff\">None</span>, <span style=\"color: #00af00; text-decoration-color: #00af00\">18432</span>)          │             <span style=\"color: #00af00; text-decoration-color: #00af00\">0</span> │\n",
       "├─────────────────────────────────┼────────────────────────┼───────────────┤\n",
       "│ dense_8 (<span style=\"color: #0087ff; text-decoration-color: #0087ff\">Dense</span>)                 │ (<span style=\"color: #00d7ff; text-decoration-color: #00d7ff\">None</span>, <span style=\"color: #00af00; text-decoration-color: #00af00\">64</span>)             │     <span style=\"color: #00af00; text-decoration-color: #00af00\">1,179,712</span> │\n",
       "├─────────────────────────────────┼────────────────────────┼───────────────┤\n",
       "│ dense_9 (<span style=\"color: #0087ff; text-decoration-color: #0087ff\">Dense</span>)                 │ (<span style=\"color: #00d7ff; text-decoration-color: #00d7ff\">None</span>, <span style=\"color: #00af00; text-decoration-color: #00af00\">3</span>)              │           <span style=\"color: #00af00; text-decoration-color: #00af00\">195</span> │\n",
       "└─────────────────────────────────┴────────────────────────┴───────────────┘\n",
       "</pre>\n"
      ],
      "text/plain": [
       "┏━━━━━━━━━━━━━━━━━━━━━━━━━━━━━━━━━┳━━━━━━━━━━━━━━━━━━━━━━━━┳━━━━━━━━━━━━━━━┓\n",
       "┃\u001b[1m \u001b[0m\u001b[1mLayer (type)                   \u001b[0m\u001b[1m \u001b[0m┃\u001b[1m \u001b[0m\u001b[1mOutput Shape          \u001b[0m\u001b[1m \u001b[0m┃\u001b[1m \u001b[0m\u001b[1m      Param #\u001b[0m\u001b[1m \u001b[0m┃\n",
       "┡━━━━━━━━━━━━━━━━━━━━━━━━━━━━━━━━━╇━━━━━━━━━━━━━━━━━━━━━━━━╇━━━━━━━━━━━━━━━┩\n",
       "│ rescaling_1 (\u001b[38;5;33mRescaling\u001b[0m)         │ (\u001b[38;5;45mNone\u001b[0m, \u001b[38;5;34m25\u001b[0m, \u001b[38;5;34m25\u001b[0m, \u001b[38;5;34m3\u001b[0m)      │             \u001b[38;5;34m0\u001b[0m │\n",
       "├─────────────────────────────────┼────────────────────────┼───────────────┤\n",
       "│ conv2d_4 (\u001b[38;5;33mConv2D\u001b[0m)               │ (\u001b[38;5;45mNone\u001b[0m, \u001b[38;5;34m25\u001b[0m, \u001b[38;5;34m25\u001b[0m, \u001b[38;5;34m128\u001b[0m)    │         \u001b[38;5;34m9,728\u001b[0m │\n",
       "├─────────────────────────────────┼────────────────────────┼───────────────┤\n",
       "│ max_pooling2d_4 (\u001b[38;5;33mMaxPooling2D\u001b[0m)  │ (\u001b[38;5;45mNone\u001b[0m, \u001b[38;5;34m12\u001b[0m, \u001b[38;5;34m12\u001b[0m, \u001b[38;5;34m128\u001b[0m)    │             \u001b[38;5;34m0\u001b[0m │\n",
       "├─────────────────────────────────┼────────────────────────┼───────────────┤\n",
       "│ flatten_4 (\u001b[38;5;33mFlatten\u001b[0m)             │ (\u001b[38;5;45mNone\u001b[0m, \u001b[38;5;34m18432\u001b[0m)          │             \u001b[38;5;34m0\u001b[0m │\n",
       "├─────────────────────────────────┼────────────────────────┼───────────────┤\n",
       "│ dense_8 (\u001b[38;5;33mDense\u001b[0m)                 │ (\u001b[38;5;45mNone\u001b[0m, \u001b[38;5;34m64\u001b[0m)             │     \u001b[38;5;34m1,179,712\u001b[0m │\n",
       "├─────────────────────────────────┼────────────────────────┼───────────────┤\n",
       "│ dense_9 (\u001b[38;5;33mDense\u001b[0m)                 │ (\u001b[38;5;45mNone\u001b[0m, \u001b[38;5;34m3\u001b[0m)              │           \u001b[38;5;34m195\u001b[0m │\n",
       "└─────────────────────────────────┴────────────────────────┴───────────────┘\n"
      ]
     },
     "metadata": {},
     "output_type": "display_data"
    },
    {
     "data": {
      "text/html": [
       "<pre style=\"white-space:pre;overflow-x:auto;line-height:normal;font-family:Menlo,'DejaVu Sans Mono',consolas,'Courier New',monospace\"><span style=\"font-weight: bold\"> Total params: </span><span style=\"color: #00af00; text-decoration-color: #00af00\">2,379,272</span> (9.08 MB)\n",
       "</pre>\n"
      ],
      "text/plain": [
       "\u001b[1m Total params: \u001b[0m\u001b[38;5;34m2,379,272\u001b[0m (9.08 MB)\n"
      ]
     },
     "metadata": {},
     "output_type": "display_data"
    },
    {
     "data": {
      "text/html": [
       "<pre style=\"white-space:pre;overflow-x:auto;line-height:normal;font-family:Menlo,'DejaVu Sans Mono',consolas,'Courier New',monospace\"><span style=\"font-weight: bold\"> Trainable params: </span><span style=\"color: #00af00; text-decoration-color: #00af00\">1,189,635</span> (4.54 MB)\n",
       "</pre>\n"
      ],
      "text/plain": [
       "\u001b[1m Trainable params: \u001b[0m\u001b[38;5;34m1,189,635\u001b[0m (4.54 MB)\n"
      ]
     },
     "metadata": {},
     "output_type": "display_data"
    },
    {
     "data": {
      "text/html": [
       "<pre style=\"white-space:pre;overflow-x:auto;line-height:normal;font-family:Menlo,'DejaVu Sans Mono',consolas,'Courier New',monospace\"><span style=\"font-weight: bold\"> Non-trainable params: </span><span style=\"color: #00af00; text-decoration-color: #00af00\">0</span> (0.00 B)\n",
       "</pre>\n"
      ],
      "text/plain": [
       "\u001b[1m Non-trainable params: \u001b[0m\u001b[38;5;34m0\u001b[0m (0.00 B)\n"
      ]
     },
     "metadata": {},
     "output_type": "display_data"
    },
    {
     "data": {
      "text/html": [
       "<pre style=\"white-space:pre;overflow-x:auto;line-height:normal;font-family:Menlo,'DejaVu Sans Mono',consolas,'Courier New',monospace\"><span style=\"font-weight: bold\"> Optimizer params: </span><span style=\"color: #00af00; text-decoration-color: #00af00\">1,189,637</span> (4.54 MB)\n",
       "</pre>\n"
      ],
      "text/plain": [
       "\u001b[1m Optimizer params: \u001b[0m\u001b[38;5;34m1,189,637\u001b[0m (4.54 MB)\n"
      ]
     },
     "metadata": {},
     "output_type": "display_data"
    }
   ],
   "source": [
    "best_model.summary()"
   ]
  },
  {
   "cell_type": "markdown",
   "id": "039c2908",
   "metadata": {},
   "source": [
    "## Second"
   ]
  },
  {
   "cell_type": "code",
   "execution_count": null,
   "id": "dad792e4",
   "metadata": {},
   "outputs": [],
   "source": [
    "normalization_layer = Rescaling(1./255)\n",
    "\n",
    "# using the best params from last model but with adam default learning rate: good results, comparable to before\n",
    "# pool size tends to do well in size 5, tried [2,3,5]\n",
    "# [64, 128] filters and neurons tried, 64 is best\n",
    "# momentum (beta_1) is the same, beta_2 is better at 0.99 for [0.99, 0.999]\n",
    "\n",
    "# sdg is better than adam in this case\n",
    "base_params_second_model = {'n_filters': 128, 'n_neurons': 64, 'learning_rate': 1e-3, 'dropout_rate': 0.5,\n",
    "'kernel_size': 5, 'pool_size': 2, 'momentum': 0.9, 'beta_2': 0.99, \"conv_layer_factor\": 1}\n",
    "\n",
    "def build_second_model(n_filters = 128, n_neurons = 64, learning_rate = 1e-2, dropout_rate = 0.5, conv_layer_factor = 1, \n",
    "                      kernel_size = 5, pool_size = 2, sparse = True, momentum = 0.9, beta_2 = 0.99 ,**kwargs):\n",
    "    \n",
    "    #todo: true/false data augmentation\n",
    "    print(dimension)\n",
    "    model = Sequential([\n",
    "    Input(shape = (image_size[0], image_size[1], dimension)),\n",
    "    normalization_layer,\n",
    "    Conv2D(n_filters, kernel_size, activation = \"relu\", padding = \"same\"),\n",
    "    MaxPooling2D(pool_size),\n",
    "    Conv2D(int(n_filters*conv_layer_factor), kernel_size, activation = \"relu\", padding = \"same\"),\n",
    "    MaxPooling2D(pool_size),\n",
    "    Flatten(),\n",
    "    Dense(n_neurons, activation=\"relu\"),\n",
    "    Dropout(dropout_rate),\n",
    "    Dense(int(n_neurons/2), activation=\"relu\"),\n",
    "    Dropout(dropout_rate),\n",
    "    Dense(3, activation = \"softmax\")\n",
    "                    ])\n",
    "    \n",
    "    # optimizer = Adam(learning_rate=learning_rate, beta_1=momentum, beta_2=beta_2)\n",
    "    optimizer = SGD(learning_rate = learning_rate, momentum = momentum)\n",
    "    \n",
    "    loss = \"categorical_crossentropy\"\n",
    "    if sparse:\n",
    "        loss = \"sparse_categorical_crossentropy\"\n",
    "    model.compile(loss = loss,\n",
    "        optimizer = optimizer,\n",
    "        metrics = [\"accuracy\"])\n",
    "    \n",
    "    return model"
   ]
  },
  {
   "cell_type": "code",
   "execution_count": 81,
   "id": "27778c9f",
   "metadata": {},
   "outputs": [],
   "source": [
    "param_grid = {'learning_rate': [1e-2, 1e-3],\n",
    "              'conv_layer_factor': [2],\n",
    "              \"momentum\": [0.9, 0.95],\n",
    "              \"beta_2\": [0.99],\n",
    "              \"pool_size\": [5],\n",
    "              \"kernel_size\": [5],\n",
    "              \"n_filters\": [128],\n",
    "              \"n_neurons\": [64]}"
   ]
  },
  {
   "cell_type": "code",
   "execution_count": 82,
   "id": "62705b90",
   "metadata": {},
   "outputs": [],
   "source": [
    "best_params, best_accuracy, mean_scores  = CNN_GridSearchCV(X_train_array, y_train_array, param_grid, build_second_model, 42, 5, n_jobs = -1)"
   ]
  },
  {
   "cell_type": "code",
   "execution_count": 84,
   "id": "00df6bd7",
   "metadata": {},
   "outputs": [
    {
     "data": {
      "text/plain": [
       "({'learning_rate': 0.01,\n",
       "  'conv_layer_factor': 2,\n",
       "  'momentum': 0.9,\n",
       "  'beta_2': 0.99,\n",
       "  'pool_size': 5,\n",
       "  'kernel_size': 5,\n",
       "  'n_filters': 128,\n",
       "  'n_neurons': 64},\n",
       " np.float64(0.991428554058075))"
      ]
     },
     "execution_count": 84,
     "metadata": {},
     "output_type": "execute_result"
    }
   ],
   "source": [
    "best_params, best_accuracy"
   ]
  },
  {
   "cell_type": "code",
   "execution_count": 85,
   "id": "eaced01e",
   "metadata": {},
   "outputs": [],
   "source": [
    "run_id, run_logdir = get_run_logdir(\"second_architecture\", \"2\")"
   ]
  },
  {
   "cell_type": "code",
   "execution_count": 86,
   "id": "448daf38",
   "metadata": {},
   "outputs": [
    {
     "name": "stdout",
     "output_type": "stream",
     "text": [
      "Epoch 1/100\n",
      "\u001b[1m55/55\u001b[0m \u001b[32m━━━━━━━━━━━━━━━━━━━━\u001b[0m\u001b[37m\u001b[0m \u001b[1m1s\u001b[0m 10ms/step - accuracy: 0.4126 - loss: 1.0795 - val_accuracy: 0.6530 - val_loss: 0.9400\n",
      "Epoch 2/100\n",
      "\u001b[1m55/55\u001b[0m \u001b[32m━━━━━━━━━━━━━━━━━━━━\u001b[0m\u001b[37m\u001b[0m \u001b[1m1s\u001b[0m 8ms/step - accuracy: 0.7148 - loss: 0.7861 - val_accuracy: 0.8995 - val_loss: 0.3634\n",
      "Epoch 3/100\n",
      "\u001b[1m55/55\u001b[0m \u001b[32m━━━━━━━━━━━━━━━━━━━━\u001b[0m\u001b[37m\u001b[0m \u001b[1m1s\u001b[0m 7ms/step - accuracy: 0.8683 - loss: 0.3645 - val_accuracy: 0.8402 - val_loss: 0.4329\n",
      "Epoch 4/100\n",
      "\u001b[1m55/55\u001b[0m \u001b[32m━━━━━━━━━━━━━━━━━━━━\u001b[0m\u001b[37m\u001b[0m \u001b[1m1s\u001b[0m 8ms/step - accuracy: 0.8858 - loss: 0.3151 - val_accuracy: 0.9315 - val_loss: 0.1901\n",
      "Epoch 5/100\n",
      "\u001b[1m55/55\u001b[0m \u001b[32m━━━━━━━━━━━━━━━━━━━━\u001b[0m\u001b[37m\u001b[0m \u001b[1m1s\u001b[0m 8ms/step - accuracy: 0.9403 - loss: 0.1829 - val_accuracy: 0.9543 - val_loss: 0.1424\n",
      "Epoch 6/100\n",
      "\u001b[1m55/55\u001b[0m \u001b[32m━━━━━━━━━━━━━━━━━━━━\u001b[0m\u001b[37m\u001b[0m \u001b[1m1s\u001b[0m 8ms/step - accuracy: 0.9576 - loss: 0.1360 - val_accuracy: 0.9452 - val_loss: 0.1327\n",
      "Epoch 7/100\n",
      "\u001b[1m55/55\u001b[0m \u001b[32m━━━━━━━━━━━━━━━━━━━━\u001b[0m\u001b[37m\u001b[0m \u001b[1m1s\u001b[0m 7ms/step - accuracy: 0.9459 - loss: 0.1642 - val_accuracy: 0.9361 - val_loss: 0.1914\n",
      "Epoch 8/100\n",
      "\u001b[1m55/55\u001b[0m \u001b[32m━━━━━━━━━━━━━━━━━━━━\u001b[0m\u001b[37m\u001b[0m \u001b[1m1s\u001b[0m 7ms/step - accuracy: 0.9536 - loss: 0.1467 - val_accuracy: 0.9498 - val_loss: 0.1283\n",
      "Epoch 9/100\n",
      "\u001b[1m55/55\u001b[0m \u001b[32m━━━━━━━━━━━━━━━━━━━━\u001b[0m\u001b[37m\u001b[0m \u001b[1m1s\u001b[0m 7ms/step - accuracy: 0.9632 - loss: 0.1133 - val_accuracy: 0.9452 - val_loss: 0.1403\n",
      "Epoch 10/100\n",
      "\u001b[1m55/55\u001b[0m \u001b[32m━━━━━━━━━━━━━━━━━━━━\u001b[0m\u001b[37m\u001b[0m \u001b[1m1s\u001b[0m 7ms/step - accuracy: 0.9512 - loss: 0.1514 - val_accuracy: 0.9863 - val_loss: 0.0701\n",
      "Epoch 11/100\n",
      "\u001b[1m55/55\u001b[0m \u001b[32m━━━━━━━━━━━━━━━━━━━━\u001b[0m\u001b[37m\u001b[0m \u001b[1m1s\u001b[0m 7ms/step - accuracy: 0.9739 - loss: 0.0959 - val_accuracy: 0.9589 - val_loss: 0.0930\n",
      "Epoch 12/100\n",
      "\u001b[1m55/55\u001b[0m \u001b[32m━━━━━━━━━━━━━━━━━━━━\u001b[0m\u001b[37m\u001b[0m \u001b[1m1s\u001b[0m 7ms/step - accuracy: 0.9709 - loss: 0.0824 - val_accuracy: 0.9543 - val_loss: 0.1340\n",
      "Epoch 13/100\n",
      "\u001b[1m55/55\u001b[0m \u001b[32m━━━━━━━━━━━━━━━━━━━━\u001b[0m\u001b[37m\u001b[0m \u001b[1m1s\u001b[0m 7ms/step - accuracy: 0.9730 - loss: 0.0792 - val_accuracy: 0.9772 - val_loss: 0.0720\n",
      "Epoch 14/100\n",
      "\u001b[1m55/55\u001b[0m \u001b[32m━━━━━━━━━━━━━━━━━━━━\u001b[0m\u001b[37m\u001b[0m \u001b[1m1s\u001b[0m 8ms/step - accuracy: 0.9779 - loss: 0.0657 - val_accuracy: 0.9909 - val_loss: 0.0523\n",
      "Epoch 15/100\n",
      "\u001b[1m55/55\u001b[0m \u001b[32m━━━━━━━━━━━━━━━━━━━━\u001b[0m\u001b[37m\u001b[0m \u001b[1m1s\u001b[0m 7ms/step - accuracy: 0.9725 - loss: 0.0826 - val_accuracy: 0.9680 - val_loss: 0.0754\n",
      "Epoch 16/100\n",
      "\u001b[1m55/55\u001b[0m \u001b[32m━━━━━━━━━━━━━━━━━━━━\u001b[0m\u001b[37m\u001b[0m \u001b[1m1s\u001b[0m 7ms/step - accuracy: 0.9741 - loss: 0.0689 - val_accuracy: 0.9680 - val_loss: 0.0857\n",
      "Epoch 17/100\n",
      "\u001b[1m55/55\u001b[0m \u001b[32m━━━━━━━━━━━━━━━━━━━━\u001b[0m\u001b[37m\u001b[0m \u001b[1m1s\u001b[0m 7ms/step - accuracy: 0.9833 - loss: 0.0526 - val_accuracy: 0.9635 - val_loss: 0.0909\n",
      "Epoch 18/100\n",
      "\u001b[1m55/55\u001b[0m \u001b[32m━━━━━━━━━━━━━━━━━━━━\u001b[0m\u001b[37m\u001b[0m \u001b[1m1s\u001b[0m 7ms/step - accuracy: 0.9693 - loss: 0.0975 - val_accuracy: 0.9772 - val_loss: 0.0719\n",
      "Epoch 19/100\n",
      "\u001b[1m55/55\u001b[0m \u001b[32m━━━━━━━━━━━━━━━━━━━━\u001b[0m\u001b[37m\u001b[0m \u001b[1m1s\u001b[0m 7ms/step - accuracy: 0.9698 - loss: 0.0774 - val_accuracy: 0.9680 - val_loss: 0.0749\n",
      "Epoch 20/100\n",
      "\u001b[1m55/55\u001b[0m \u001b[32m━━━━━━━━━━━━━━━━━━━━\u001b[0m\u001b[37m\u001b[0m \u001b[1m1s\u001b[0m 7ms/step - accuracy: 0.9774 - loss: 0.0532 - val_accuracy: 0.9772 - val_loss: 0.0652\n",
      "Epoch 21/100\n",
      "\u001b[1m55/55\u001b[0m \u001b[32m━━━━━━━━━━━━━━━━━━━━\u001b[0m\u001b[37m\u001b[0m \u001b[1m1s\u001b[0m 8ms/step - accuracy: 0.9825 - loss: 0.0540 - val_accuracy: 0.9772 - val_loss: 0.0526\n",
      "Epoch 22/100\n",
      "\u001b[1m55/55\u001b[0m \u001b[32m━━━━━━━━━━━━━━━━━━━━\u001b[0m\u001b[37m\u001b[0m \u001b[1m1s\u001b[0m 8ms/step - accuracy: 0.9816 - loss: 0.0472 - val_accuracy: 0.9772 - val_loss: 0.0520\n",
      "Epoch 23/100\n",
      "\u001b[1m55/55\u001b[0m \u001b[32m━━━━━━━━━━━━━━━━━━━━\u001b[0m\u001b[37m\u001b[0m \u001b[1m1s\u001b[0m 8ms/step - accuracy: 0.9808 - loss: 0.0670 - val_accuracy: 0.9680 - val_loss: 0.0765\n",
      "Epoch 24/100\n",
      "\u001b[1m55/55\u001b[0m \u001b[32m━━━━━━━━━━━━━━━━━━━━\u001b[0m\u001b[37m\u001b[0m \u001b[1m1s\u001b[0m 8ms/step - accuracy: 0.9667 - loss: 0.0865 - val_accuracy: 0.9863 - val_loss: 0.0414\n",
      "Epoch 25/100\n",
      "\u001b[1m55/55\u001b[0m \u001b[32m━━━━━━━━━━━━━━━━━━━━\u001b[0m\u001b[37m\u001b[0m \u001b[1m1s\u001b[0m 8ms/step - accuracy: 0.9815 - loss: 0.0536 - val_accuracy: 0.9954 - val_loss: 0.0243\n",
      "Epoch 26/100\n",
      "\u001b[1m55/55\u001b[0m \u001b[32m━━━━━━━━━━━━━━━━━━━━\u001b[0m\u001b[37m\u001b[0m \u001b[1m1s\u001b[0m 8ms/step - accuracy: 0.9920 - loss: 0.0298 - val_accuracy: 0.9909 - val_loss: 0.0236\n",
      "Epoch 27/100\n",
      "\u001b[1m55/55\u001b[0m \u001b[32m━━━━━━━━━━━━━━━━━━━━\u001b[0m\u001b[37m\u001b[0m \u001b[1m1s\u001b[0m 7ms/step - accuracy: 0.9896 - loss: 0.0375 - val_accuracy: 0.9635 - val_loss: 0.0957\n",
      "Epoch 28/100\n",
      "\u001b[1m55/55\u001b[0m \u001b[32m━━━━━━━━━━━━━━━━━━━━\u001b[0m\u001b[37m\u001b[0m \u001b[1m1s\u001b[0m 8ms/step - accuracy: 0.9882 - loss: 0.0375 - val_accuracy: 1.0000 - val_loss: 0.0171\n",
      "Epoch 29/100\n",
      "\u001b[1m55/55\u001b[0m \u001b[32m━━━━━━━━━━━━━━━━━━━━\u001b[0m\u001b[37m\u001b[0m \u001b[1m1s\u001b[0m 8ms/step - accuracy: 0.9891 - loss: 0.0535 - val_accuracy: 0.9909 - val_loss: 0.0222\n",
      "Epoch 30/100\n",
      "\u001b[1m55/55\u001b[0m \u001b[32m━━━━━━━━━━━━━━━━━━━━\u001b[0m\u001b[37m\u001b[0m \u001b[1m1s\u001b[0m 7ms/step - accuracy: 0.9846 - loss: 0.0506 - val_accuracy: 0.9954 - val_loss: 0.0182\n",
      "Epoch 31/100\n",
      "\u001b[1m55/55\u001b[0m \u001b[32m━━━━━━━━━━━━━━━━━━━━\u001b[0m\u001b[37m\u001b[0m \u001b[1m1s\u001b[0m 8ms/step - accuracy: 0.9905 - loss: 0.0307 - val_accuracy: 1.0000 - val_loss: 0.0096\n",
      "Epoch 32/100\n",
      "\u001b[1m55/55\u001b[0m \u001b[32m━━━━━━━━━━━━━━━━━━━━\u001b[0m\u001b[37m\u001b[0m \u001b[1m1s\u001b[0m 7ms/step - accuracy: 0.9964 - loss: 0.0218 - val_accuracy: 0.9909 - val_loss: 0.0291\n",
      "Epoch 33/100\n",
      "\u001b[1m55/55\u001b[0m \u001b[32m━━━━━━━━━━━━━━━━━━━━\u001b[0m\u001b[37m\u001b[0m \u001b[1m1s\u001b[0m 7ms/step - accuracy: 0.9905 - loss: 0.0283 - val_accuracy: 0.9909 - val_loss: 0.0244\n",
      "Epoch 34/100\n",
      "\u001b[1m55/55\u001b[0m \u001b[32m━━━━━━━━━━━━━━━━━━━━\u001b[0m\u001b[37m\u001b[0m \u001b[1m1s\u001b[0m 7ms/step - accuracy: 0.9861 - loss: 0.0380 - val_accuracy: 0.9954 - val_loss: 0.0101\n",
      "Epoch 35/100\n",
      "\u001b[1m55/55\u001b[0m \u001b[32m━━━━━━━━━━━━━━━━━━━━\u001b[0m\u001b[37m\u001b[0m \u001b[1m1s\u001b[0m 8ms/step - accuracy: 0.9913 - loss: 0.0320 - val_accuracy: 1.0000 - val_loss: 0.0070\n",
      "Epoch 36/100\n",
      "\u001b[1m55/55\u001b[0m \u001b[32m━━━━━━━━━━━━━━━━━━━━\u001b[0m\u001b[37m\u001b[0m \u001b[1m1s\u001b[0m 7ms/step - accuracy: 0.9937 - loss: 0.0203 - val_accuracy: 0.9909 - val_loss: 0.0146\n",
      "Epoch 37/100\n",
      "\u001b[1m55/55\u001b[0m \u001b[32m━━━━━━━━━━━━━━━━━━━━\u001b[0m\u001b[37m\u001b[0m \u001b[1m1s\u001b[0m 8ms/step - accuracy: 0.9884 - loss: 0.0349 - val_accuracy: 0.9954 - val_loss: 0.0133\n",
      "Epoch 38/100\n",
      "\u001b[1m55/55\u001b[0m \u001b[32m━━━━━━━━━━━━━━━━━━━━\u001b[0m\u001b[37m\u001b[0m \u001b[1m1s\u001b[0m 7ms/step - accuracy: 0.9953 - loss: 0.0175 - val_accuracy: 0.9909 - val_loss: 0.0224\n",
      "Epoch 39/100\n",
      "\u001b[1m55/55\u001b[0m \u001b[32m━━━━━━━━━━━━━━━━━━━━\u001b[0m\u001b[37m\u001b[0m \u001b[1m1s\u001b[0m 7ms/step - accuracy: 0.9920 - loss: 0.0269 - val_accuracy: 0.9909 - val_loss: 0.0251\n",
      "Epoch 40/100\n",
      "\u001b[1m55/55\u001b[0m \u001b[32m━━━━━━━━━━━━━━━━━━━━\u001b[0m\u001b[37m\u001b[0m \u001b[1m1s\u001b[0m 7ms/step - accuracy: 0.9968 - loss: 0.0151 - val_accuracy: 0.9954 - val_loss: 0.0112\n",
      "Epoch 41/100\n",
      "\u001b[1m55/55\u001b[0m \u001b[32m━━━━━━━━━━━━━━━━━━━━\u001b[0m\u001b[37m\u001b[0m \u001b[1m1s\u001b[0m 7ms/step - accuracy: 0.9943 - loss: 0.0215 - val_accuracy: 1.0000 - val_loss: 0.0086\n",
      "Epoch 42/100\n",
      "\u001b[1m55/55\u001b[0m \u001b[32m━━━━━━━━━━━━━━━━━━━━\u001b[0m\u001b[37m\u001b[0m \u001b[1m1s\u001b[0m 7ms/step - accuracy: 0.9958 - loss: 0.0170 - val_accuracy: 1.0000 - val_loss: 0.0101\n",
      "Epoch 43/100\n",
      "\u001b[1m55/55\u001b[0m \u001b[32m━━━━━━━━━━━━━━━━━━━━\u001b[0m\u001b[37m\u001b[0m \u001b[1m1s\u001b[0m 7ms/step - accuracy: 0.9932 - loss: 0.0179 - val_accuracy: 0.9909 - val_loss: 0.0298\n",
      "Epoch 44/100\n",
      "\u001b[1m55/55\u001b[0m \u001b[32m━━━━━━━━━━━━━━━━━━━━\u001b[0m\u001b[37m\u001b[0m \u001b[1m1s\u001b[0m 8ms/step - accuracy: 0.9973 - loss: 0.0147 - val_accuracy: 1.0000 - val_loss: 0.0065\n",
      "Epoch 45/100\n",
      "\u001b[1m55/55\u001b[0m \u001b[32m━━━━━━━━━━━━━━━━━━━━\u001b[0m\u001b[37m\u001b[0m \u001b[1m1s\u001b[0m 7ms/step - accuracy: 0.9978 - loss: 0.0176 - val_accuracy: 1.0000 - val_loss: 0.0106\n",
      "Epoch 46/100\n",
      "\u001b[1m55/55\u001b[0m \u001b[32m━━━━━━━━━━━━━━━━━━━━\u001b[0m\u001b[37m\u001b[0m \u001b[1m1s\u001b[0m 7ms/step - accuracy: 0.9957 - loss: 0.0165 - val_accuracy: 0.9863 - val_loss: 0.0574\n",
      "Epoch 47/100\n",
      "\u001b[1m55/55\u001b[0m \u001b[32m━━━━━━━━━━━━━━━━━━━━\u001b[0m\u001b[37m\u001b[0m \u001b[1m1s\u001b[0m 7ms/step - accuracy: 0.9904 - loss: 0.0257 - val_accuracy: 0.9909 - val_loss: 0.0243\n",
      "Epoch 48/100\n",
      "\u001b[1m55/55\u001b[0m \u001b[32m━━━━━━━━━━━━━━━━━━━━\u001b[0m\u001b[37m\u001b[0m \u001b[1m1s\u001b[0m 8ms/step - accuracy: 0.9967 - loss: 0.0126 - val_accuracy: 0.9954 - val_loss: 0.0102\n",
      "Epoch 49/100\n",
      "\u001b[1m55/55\u001b[0m \u001b[32m━━━━━━━━━━━━━━━━━━━━\u001b[0m\u001b[37m\u001b[0m \u001b[1m1s\u001b[0m 8ms/step - accuracy: 0.9970 - loss: 0.0195 - val_accuracy: 1.0000 - val_loss: 0.0039\n",
      "Epoch 50/100\n",
      "\u001b[1m55/55\u001b[0m \u001b[32m━━━━━━━━━━━━━━━━━━━━\u001b[0m\u001b[37m\u001b[0m \u001b[1m1s\u001b[0m 8ms/step - accuracy: 0.9958 - loss: 0.0161 - val_accuracy: 0.9909 - val_loss: 0.0321\n",
      "Epoch 51/100\n",
      "\u001b[1m55/55\u001b[0m \u001b[32m━━━━━━━━━━━━━━━━━━━━\u001b[0m\u001b[37m\u001b[0m \u001b[1m1s\u001b[0m 8ms/step - accuracy: 0.9951 - loss: 0.0195 - val_accuracy: 1.0000 - val_loss: 0.0053\n",
      "Epoch 52/100\n",
      "\u001b[1m55/55\u001b[0m \u001b[32m━━━━━━━━━━━━━━━━━━━━\u001b[0m\u001b[37m\u001b[0m \u001b[1m1s\u001b[0m 7ms/step - accuracy: 0.9995 - loss: 0.0073 - val_accuracy: 1.0000 - val_loss: 0.0079\n",
      "Epoch 53/100\n",
      "\u001b[1m55/55\u001b[0m \u001b[32m━━━━━━━━━━━━━━━━━━━━\u001b[0m\u001b[37m\u001b[0m \u001b[1m1s\u001b[0m 7ms/step - accuracy: 0.9941 - loss: 0.0212 - val_accuracy: 0.9954 - val_loss: 0.0127\n",
      "Epoch 54/100\n",
      "\u001b[1m55/55\u001b[0m \u001b[32m━━━━━━━━━━━━━━━━━━━━\u001b[0m\u001b[37m\u001b[0m \u001b[1m1s\u001b[0m 7ms/step - accuracy: 0.9966 - loss: 0.0150 - val_accuracy: 0.9909 - val_loss: 0.0212\n",
      "Epoch 55/100\n",
      "\u001b[1m55/55\u001b[0m \u001b[32m━━━━━━━━━━━━━━━━━━━━\u001b[0m\u001b[37m\u001b[0m \u001b[1m1s\u001b[0m 8ms/step - accuracy: 0.9976 - loss: 0.0123 - val_accuracy: 1.0000 - val_loss: 0.0076\n",
      "Epoch 56/100\n",
      "\u001b[1m55/55\u001b[0m \u001b[32m━━━━━━━━━━━━━━━━━━━━\u001b[0m\u001b[37m\u001b[0m \u001b[1m1s\u001b[0m 7ms/step - accuracy: 0.9977 - loss: 0.0110 - val_accuracy: 1.0000 - val_loss: 0.0075\n",
      "Epoch 57/100\n",
      "\u001b[1m55/55\u001b[0m \u001b[32m━━━━━━━━━━━━━━━━━━━━\u001b[0m\u001b[37m\u001b[0m \u001b[1m1s\u001b[0m 8ms/step - accuracy: 0.9976 - loss: 0.0071 - val_accuracy: 1.0000 - val_loss: 0.0055\n",
      "Epoch 58/100\n",
      "\u001b[1m55/55\u001b[0m \u001b[32m━━━━━━━━━━━━━━━━━━━━\u001b[0m\u001b[37m\u001b[0m \u001b[1m1s\u001b[0m 8ms/step - accuracy: 0.9986 - loss: 0.0107 - val_accuracy: 0.9909 - val_loss: 0.0375\n",
      "Epoch 59/100\n",
      "\u001b[1m55/55\u001b[0m \u001b[32m━━━━━━━━━━━━━━━━━━━━\u001b[0m\u001b[37m\u001b[0m \u001b[1m1s\u001b[0m 7ms/step - accuracy: 0.9961 - loss: 0.0134 - val_accuracy: 1.0000 - val_loss: 0.0056\n"
     ]
    }
   ],
   "source": [
    "model_checkpoint = ModelCheckpoint(run_logdir +\"\\\\second_model.keras\", save_best_only=True)\n",
    "tensorboard_cb = TensorBoard(run_logdir)\n",
    "early_stopping = EarlyStopping(patience = 10, restore_best_weights=True)\n",
    "\n",
    "\n",
    "model = build_first_model(**best_params, sparse= False)\n",
    "# here we can save the best model\n",
    "model.fit(cv_train_set, validation_data=cv_val_set, epochs=100, callbacks= [tensorboard_cb,model_checkpoint, early_stopping])\n",
    "\n",
    "save_params(run_logdir, \"best_params_second_model.pkl\", best_params)"
   ]
  },
  {
   "cell_type": "code",
   "execution_count": 87,
   "id": "9b9af966",
   "metadata": {},
   "outputs": [
    {
     "name": "stdout",
     "output_type": "stream",
     "text": [
      "\u001b[1m7/7\u001b[0m \u001b[32m━━━━━━━━━━━━━━━━━━━━\u001b[0m\u001b[37m\u001b[0m \u001b[1m0s\u001b[0m 6ms/step - accuracy: 0.9831 - loss: 0.0333 \n"
     ]
    },
    {
     "data": {
      "text/plain": [
       "[0.048995912075042725, 0.9817351698875427]"
      ]
     },
     "execution_count": 87,
     "metadata": {},
     "output_type": "execute_result"
    }
   ],
   "source": [
    "model.evaluate(cv_test_set)"
   ]
  },
  {
   "cell_type": "code",
   "execution_count": 55,
   "id": "c241e61e",
   "metadata": {},
   "outputs": [
    {
     "name": "stdout",
     "output_type": "stream",
     "text": [
      "\u001b[1m7/7\u001b[0m \u001b[32m━━━━━━━━━━━━━━━━━━━━\u001b[0m\u001b[37m\u001b[0m \u001b[1m0s\u001b[0m 6ms/step - accuracy: 0.9526 - loss: 0.2191  \n"
     ]
    },
    {
     "data": {
      "text/plain": [
       "[0.17464038729667664, 0.9543378949165344]"
      ]
     },
     "execution_count": 55,
     "metadata": {},
     "output_type": "execute_result"
    }
   ],
   "source": [
    "path_second = \"C:/Users/faarc/OneDrive/Escritorio/projects/paper_rock_scissors_pr/rock_paper_scissors/rps_deep/notebooks/logs/second_architecture/2_run_2025_07_19-19_43_03/second_model.keras\"\n",
    "# best_model = tf.keras.models.load_model(run_logdir +\"\\\\first_model.keras\")\n",
    "best_model = tf.keras.models.load_model(path_second)\n",
    "\n",
    "best_model.evaluate(cv_test_set)"
   ]
  },
  {
   "cell_type": "markdown",
   "id": "4507d526",
   "metadata": {},
   "source": [
    "## Third"
   ]
  },
  {
   "cell_type": "code",
   "execution_count": 96,
   "id": "839a8724",
   "metadata": {},
   "outputs": [
    {
     "data": {
      "text/plain": [
       "{'n_filters': 64,\n",
       " 'n_neurons': 128,\n",
       " 'learning_rate': 0.001,\n",
       " 'dropout_rate': 0.5,\n",
       " 'kernel_size': 5,\n",
       " 'pool_size': 5,\n",
       " 'sparse': True,\n",
       " 'momentum': 0.9,\n",
       " 'beta_2': 0.99}"
      ]
     },
     "execution_count": 96,
     "metadata": {},
     "output_type": "execute_result"
    }
   ],
   "source": [
    "updated_params"
   ]
  },
  {
   "cell_type": "code",
   "execution_count": null,
   "id": "82c2cb09",
   "metadata": {},
   "outputs": [],
   "source": [
    "normalization_layer = Rescaling(1./255)\n",
    "\n",
    "base_params_second_model = {'n_filters': 64, 'n_neurons': 128, 'learning_rate': 1e-3, 'dropout_rate': 0.5,\n",
    "'kernel_size': 5, 'pool_size': 5, 'momentum': 0.9, 'beta_2': 0.99}\n",
    "\n",
    "def build_third_model(n_filters = 64, n_neurons = 64, learning_rate = 1e-3, dropout_rate = 0.5, \n",
    "                      kernel_size = 5, pool_size = 2, sparse = True, momentum = 0.9, beta_2 = 0.99 ,**kwargs):\n",
    "    model = Sequential([\n",
    "    Input(shape = (image_size[0], image_size[1], dimension)),\n",
    "    normalization_layer,\n",
    "    Conv2D(n_filters, kernel_size, activation = \"relu\", padding = \"same\"),\n",
    "    MaxPooling2D(pool_size),\n",
    "    Conv2D(int(n_filters*2), kernel_size, activation = \"relu\", padding = \"same\"),\n",
    "    Conv2D(int(n_filters*2), kernel_size, activation = \"relu\", padding = \"same\"),\n",
    "    MaxPooling2D(pool_size),\n",
    "    Conv2D(int(n_filters*4), kernel_size, activation = \"relu\", padding = \"same\"),\n",
    "    Conv2D(int(n_filters*4), kernel_size, activation = \"relu\", padding = \"same\"),\n",
    "    MaxPooling2D(pool_size),\n",
    "    Flatten(),\n",
    "    Dense(n_neurons, activation=\"relu\"),\n",
    "    Dropout(dropout_rate),\n",
    "    Dense(int(n_neurons/2), activation=\"relu\"),\n",
    "    Dropout(dropout_rate),\n",
    "    Dense(int(n_neurons/4), activation=\"relu\"),\n",
    "    Dense(3, activation = \"softmax\")\n",
    "                    ])\n",
    "    \n",
    "    # optimizer = Adam(learning_rate=learning_rate, beta_1=momentum, beta_2=beta_2)\n",
    "    optimizer = SGD(learning_rate = learning_rate, momentum = momentum)\n",
    "    \n",
    "    loss = \"categorical_crossentropy\"\n",
    "    if sparse:\n",
    "        loss = \"sparse_categorical_crossentropy\"\n",
    "    model.compile(loss = loss,\n",
    "        optimizer = optimizer,\n",
    "        metrics = [\"accuracy\"])\n",
    "    \n",
    "    return model"
   ]
  },
  {
   "cell_type": "code",
   "execution_count": 28,
   "id": "49fa83e9",
   "metadata": {},
   "outputs": [],
   "source": [
    "param_grid = {'learning_rate': [1e-2],\n",
    "              'conv_layer_factor': [2],\n",
    "              \"momentum\": [0.9],\n",
    "              \"beta_2\": [0.99],\n",
    "              \"pool_size\": [2],\n",
    "              \"kernel_size\": [5],\n",
    "              \"n_filters\": [32],\n",
    "              \"n_neurons\": [64]}\n",
    "\n",
    "best_params, best_accuracy, mean_scores  = CNN_GridSearchCV(X_train_array, y_train_array, param_grid, build_third_model, 42, 5, n_jobs = -1)"
   ]
  },
  {
   "cell_type": "code",
   "execution_count": 32,
   "id": "98913f42",
   "metadata": {},
   "outputs": [
    {
     "data": {
      "text/plain": [
       "({'learning_rate': 0.01,\n",
       "  'conv_layer_factor': 2,\n",
       "  'momentum': 0.9,\n",
       "  'beta_2': 0.99,\n",
       "  'pool_size': 2,\n",
       "  'kernel_size': 5,\n",
       "  'n_filters': 32,\n",
       "  'n_neurons': 64},\n",
       " np.float64(0.9874285578727722))"
      ]
     },
     "execution_count": 32,
     "metadata": {},
     "output_type": "execute_result"
    }
   ],
   "source": [
    "best_params, best_accuracy"
   ]
  },
  {
   "cell_type": "code",
   "execution_count": 33,
   "id": "40d56cb7",
   "metadata": {},
   "outputs": [],
   "source": [
    "run_id, run_logdir = get_run_logdir(\"third_architecture\", \"3\")"
   ]
  },
  {
   "cell_type": "code",
   "execution_count": 34,
   "id": "40b3150e",
   "metadata": {},
   "outputs": [
    {
     "name": "stdout",
     "output_type": "stream",
     "text": [
      "Epoch 1/100\n",
      "\u001b[1m55/55\u001b[0m \u001b[32m━━━━━━━━━━━━━━━━━━━━\u001b[0m\u001b[37m\u001b[0m \u001b[1m3s\u001b[0m 24ms/step - accuracy: 0.3687 - loss: 1.0983 - val_accuracy: 0.4155 - val_loss: 1.0966\n",
      "Epoch 2/100\n",
      "\u001b[1m55/55\u001b[0m \u001b[32m━━━━━━━━━━━━━━━━━━━━\u001b[0m\u001b[37m\u001b[0m \u001b[1m1s\u001b[0m 16ms/step - accuracy: 0.3448 - loss: 1.0972 - val_accuracy: 0.3333 - val_loss: 1.0947\n",
      "Epoch 3/100\n",
      "\u001b[1m55/55\u001b[0m \u001b[32m━━━━━━━━━━━━━━━━━━━━\u001b[0m\u001b[37m\u001b[0m \u001b[1m1s\u001b[0m 16ms/step - accuracy: 0.3561 - loss: 1.0990 - val_accuracy: 0.3562 - val_loss: 1.0885\n",
      "Epoch 4/100\n",
      "\u001b[1m55/55\u001b[0m \u001b[32m━━━━━━━━━━━━━━━━━━━━\u001b[0m\u001b[37m\u001b[0m \u001b[1m1s\u001b[0m 16ms/step - accuracy: 0.4534 - loss: 1.0374 - val_accuracy: 0.8493 - val_loss: 0.4934\n",
      "Epoch 5/100\n",
      "\u001b[1m55/55\u001b[0m \u001b[32m━━━━━━━━━━━━━━━━━━━━\u001b[0m\u001b[37m\u001b[0m \u001b[1m1s\u001b[0m 16ms/step - accuracy: 0.7637 - loss: 0.6156 - val_accuracy: 0.9087 - val_loss: 0.2921\n",
      "Epoch 6/100\n",
      "\u001b[1m55/55\u001b[0m \u001b[32m━━━━━━━━━━━━━━━━━━━━\u001b[0m\u001b[37m\u001b[0m \u001b[1m1s\u001b[0m 16ms/step - accuracy: 0.7932 - loss: 0.5549 - val_accuracy: 0.9635 - val_loss: 0.1337\n",
      "Epoch 7/100\n",
      "\u001b[1m55/55\u001b[0m \u001b[32m━━━━━━━━━━━━━━━━━━━━\u001b[0m\u001b[37m\u001b[0m \u001b[1m1s\u001b[0m 17ms/step - accuracy: 0.9068 - loss: 0.3297 - val_accuracy: 0.9680 - val_loss: 0.1186\n",
      "Epoch 8/100\n",
      "\u001b[1m55/55\u001b[0m \u001b[32m━━━━━━━━━━━━━━━━━━━━\u001b[0m\u001b[37m\u001b[0m \u001b[1m1s\u001b[0m 16ms/step - accuracy: 0.9004 - loss: 0.3078 - val_accuracy: 0.9406 - val_loss: 0.2066\n",
      "Epoch 9/100\n",
      "\u001b[1m55/55\u001b[0m \u001b[32m━━━━━━━━━━━━━━━━━━━━\u001b[0m\u001b[37m\u001b[0m \u001b[1m1s\u001b[0m 17ms/step - accuracy: 0.8986 - loss: 0.3628 - val_accuracy: 0.9589 - val_loss: 0.0918\n",
      "Epoch 10/100\n",
      "\u001b[1m55/55\u001b[0m \u001b[32m━━━━━━━━━━━━━━━━━━━━\u001b[0m\u001b[37m\u001b[0m \u001b[1m1s\u001b[0m 17ms/step - accuracy: 0.9220 - loss: 0.2146 - val_accuracy: 0.9863 - val_loss: 0.0281\n",
      "Epoch 11/100\n",
      "\u001b[1m55/55\u001b[0m \u001b[32m━━━━━━━━━━━━━━━━━━━━\u001b[0m\u001b[37m\u001b[0m \u001b[1m1s\u001b[0m 17ms/step - accuracy: 0.9486 - loss: 0.1695 - val_accuracy: 0.9909 - val_loss: 0.0210\n",
      "Epoch 12/100\n",
      "\u001b[1m55/55\u001b[0m \u001b[32m━━━━━━━━━━━━━━━━━━━━\u001b[0m\u001b[37m\u001b[0m \u001b[1m1s\u001b[0m 16ms/step - accuracy: 0.9656 - loss: 0.1249 - val_accuracy: 0.9269 - val_loss: 0.2571\n",
      "Epoch 13/100\n",
      "\u001b[1m55/55\u001b[0m \u001b[32m━━━━━━━━━━━━━━━━━━━━\u001b[0m\u001b[37m\u001b[0m \u001b[1m1s\u001b[0m 16ms/step - accuracy: 0.9598 - loss: 0.1543 - val_accuracy: 0.9726 - val_loss: 0.0994\n",
      "Epoch 14/100\n",
      "\u001b[1m55/55\u001b[0m \u001b[32m━━━━━━━━━━━━━━━━━━━━\u001b[0m\u001b[37m\u001b[0m \u001b[1m1s\u001b[0m 16ms/step - accuracy: 0.9489 - loss: 0.1989 - val_accuracy: 0.9817 - val_loss: 0.0538\n",
      "Epoch 15/100\n",
      "\u001b[1m55/55\u001b[0m \u001b[32m━━━━━━━━━━━━━━━━━━━━\u001b[0m\u001b[37m\u001b[0m \u001b[1m1s\u001b[0m 16ms/step - accuracy: 0.9395 - loss: 0.2000 - val_accuracy: 0.9589 - val_loss: 0.0805\n",
      "Epoch 16/100\n",
      "\u001b[1m55/55\u001b[0m \u001b[32m━━━━━━━━━━━━━━━━━━━━\u001b[0m\u001b[37m\u001b[0m \u001b[1m1s\u001b[0m 17ms/step - accuracy: 0.9697 - loss: 0.1201 - val_accuracy: 0.9863 - val_loss: 0.0148\n",
      "Epoch 17/100\n",
      "\u001b[1m55/55\u001b[0m \u001b[32m━━━━━━━━━━━━━━━━━━━━\u001b[0m\u001b[37m\u001b[0m \u001b[1m1s\u001b[0m 15ms/step - accuracy: 0.9706 - loss: 0.1032 - val_accuracy: 0.9589 - val_loss: 0.1448\n",
      "Epoch 18/100\n",
      "\u001b[1m55/55\u001b[0m \u001b[32m━━━━━━━━━━━━━━━━━━━━\u001b[0m\u001b[37m\u001b[0m \u001b[1m1s\u001b[0m 16ms/step - accuracy: 0.9097 - loss: 0.2604 - val_accuracy: 0.9909 - val_loss: 0.0378\n",
      "Epoch 19/100\n",
      "\u001b[1m55/55\u001b[0m \u001b[32m━━━━━━━━━━━━━━━━━━━━\u001b[0m\u001b[37m\u001b[0m \u001b[1m1s\u001b[0m 16ms/step - accuracy: 0.9756 - loss: 0.0989 - val_accuracy: 1.0000 - val_loss: 0.0149\n",
      "Epoch 20/100\n",
      "\u001b[1m55/55\u001b[0m \u001b[32m━━━━━━━━━━━━━━━━━━━━\u001b[0m\u001b[37m\u001b[0m \u001b[1m1s\u001b[0m 16ms/step - accuracy: 0.9707 - loss: 0.0884 - val_accuracy: 1.0000 - val_loss: 0.0100\n",
      "Epoch 21/100\n",
      "\u001b[1m55/55\u001b[0m \u001b[32m━━━━━━━━━━━━━━━━━━━━\u001b[0m\u001b[37m\u001b[0m \u001b[1m1s\u001b[0m 16ms/step - accuracy: 0.9807 - loss: 0.0707 - val_accuracy: 0.9954 - val_loss: 0.1227\n",
      "Epoch 22/100\n",
      "\u001b[1m55/55\u001b[0m \u001b[32m━━━━━━━━━━━━━━━━━━━━\u001b[0m\u001b[37m\u001b[0m \u001b[1m1s\u001b[0m 16ms/step - accuracy: 0.9766 - loss: 0.0848 - val_accuracy: 0.9909 - val_loss: 0.0165\n",
      "Epoch 23/100\n",
      "\u001b[1m55/55\u001b[0m \u001b[32m━━━━━━━━━━━━━━━━━━━━\u001b[0m\u001b[37m\u001b[0m \u001b[1m1s\u001b[0m 16ms/step - accuracy: 0.9776 - loss: 0.0757 - val_accuracy: 0.9680 - val_loss: 0.2199\n",
      "Epoch 24/100\n",
      "\u001b[1m55/55\u001b[0m \u001b[32m━━━━━━━━━━━━━━━━━━━━\u001b[0m\u001b[37m\u001b[0m \u001b[1m1s\u001b[0m 15ms/step - accuracy: 0.9853 - loss: 0.0522 - val_accuracy: 0.9909 - val_loss: 0.0495\n",
      "Epoch 25/100\n",
      "\u001b[1m55/55\u001b[0m \u001b[32m━━━━━━━━━━━━━━━━━━━━\u001b[0m\u001b[37m\u001b[0m \u001b[1m1s\u001b[0m 16ms/step - accuracy: 0.9695 - loss: 0.0916 - val_accuracy: 0.9863 - val_loss: 0.0148\n",
      "Epoch 26/100\n",
      "\u001b[1m55/55\u001b[0m \u001b[32m━━━━━━━━━━━━━━━━━━━━\u001b[0m\u001b[37m\u001b[0m \u001b[1m1s\u001b[0m 16ms/step - accuracy: 0.9798 - loss: 0.0658 - val_accuracy: 0.9909 - val_loss: 0.0162\n",
      "Epoch 27/100\n",
      "\u001b[1m55/55\u001b[0m \u001b[32m━━━━━━━━━━━━━━━━━━━━\u001b[0m\u001b[37m\u001b[0m \u001b[1m1s\u001b[0m 17ms/step - accuracy: 0.9775 - loss: 0.0686 - val_accuracy: 1.0000 - val_loss: 0.0052\n",
      "Epoch 28/100\n",
      "\u001b[1m55/55\u001b[0m \u001b[32m━━━━━━━━━━━━━━━━━━━━\u001b[0m\u001b[37m\u001b[0m \u001b[1m1s\u001b[0m 17ms/step - accuracy: 0.9898 - loss: 0.0281 - val_accuracy: 1.0000 - val_loss: 0.0022\n",
      "Epoch 29/100\n",
      "\u001b[1m55/55\u001b[0m \u001b[32m━━━━━━━━━━━━━━━━━━━━\u001b[0m\u001b[37m\u001b[0m \u001b[1m1s\u001b[0m 16ms/step - accuracy: 0.9800 - loss: 0.0718 - val_accuracy: 1.0000 - val_loss: 0.0038\n",
      "Epoch 30/100\n",
      "\u001b[1m55/55\u001b[0m \u001b[32m━━━━━━━━━━━━━━━━━━━━\u001b[0m\u001b[37m\u001b[0m \u001b[1m1s\u001b[0m 16ms/step - accuracy: 0.9758 - loss: 0.0882 - val_accuracy: 1.0000 - val_loss: 0.0051\n",
      "Epoch 31/100\n",
      "\u001b[1m55/55\u001b[0m \u001b[32m━━━━━━━━━━━━━━━━━━━━\u001b[0m\u001b[37m\u001b[0m \u001b[1m1s\u001b[0m 16ms/step - accuracy: 0.9884 - loss: 0.0376 - val_accuracy: 0.9954 - val_loss: 0.0059\n",
      "Epoch 32/100\n",
      "\u001b[1m55/55\u001b[0m \u001b[32m━━━━━━━━━━━━━━━━━━━━\u001b[0m\u001b[37m\u001b[0m \u001b[1m1s\u001b[0m 17ms/step - accuracy: 0.9859 - loss: 0.0333 - val_accuracy: 1.0000 - val_loss: 0.0016\n",
      "Epoch 33/100\n",
      "\u001b[1m55/55\u001b[0m \u001b[32m━━━━━━━━━━━━━━━━━━━━\u001b[0m\u001b[37m\u001b[0m \u001b[1m1s\u001b[0m 16ms/step - accuracy: 0.9675 - loss: 0.0830 - val_accuracy: 1.0000 - val_loss: 0.0045\n",
      "Epoch 34/100\n",
      "\u001b[1m55/55\u001b[0m \u001b[32m━━━━━━━━━━━━━━━━━━━━\u001b[0m\u001b[37m\u001b[0m \u001b[1m1s\u001b[0m 16ms/step - accuracy: 0.9893 - loss: 0.0523 - val_accuracy: 1.0000 - val_loss: 0.0079\n",
      "Epoch 35/100\n",
      "\u001b[1m55/55\u001b[0m \u001b[32m━━━━━━━━━━━━━━━━━━━━\u001b[0m\u001b[37m\u001b[0m \u001b[1m1s\u001b[0m 17ms/step - accuracy: 0.9871 - loss: 0.0448 - val_accuracy: 1.0000 - val_loss: 0.0015\n",
      "Epoch 36/100\n",
      "\u001b[1m55/55\u001b[0m \u001b[32m━━━━━━━━━━━━━━━━━━━━\u001b[0m\u001b[37m\u001b[0m \u001b[1m1s\u001b[0m 17ms/step - accuracy: 0.9921 - loss: 0.0324 - val_accuracy: 1.0000 - val_loss: 0.0021\n",
      "Epoch 37/100\n",
      "\u001b[1m55/55\u001b[0m \u001b[32m━━━━━━━━━━━━━━━━━━━━\u001b[0m\u001b[37m\u001b[0m \u001b[1m1s\u001b[0m 16ms/step - accuracy: 0.9930 - loss: 0.0294 - val_accuracy: 0.9954 - val_loss: 0.0276\n",
      "Epoch 38/100\n",
      "\u001b[1m55/55\u001b[0m \u001b[32m━━━━━━━━━━━━━━━━━━━━\u001b[0m\u001b[37m\u001b[0m \u001b[1m1s\u001b[0m 16ms/step - accuracy: 0.9890 - loss: 0.0317 - val_accuracy: 0.9909 - val_loss: 0.0231\n",
      "Epoch 39/100\n",
      "\u001b[1m55/55\u001b[0m \u001b[32m━━━━━━━━━━━━━━━━━━━━\u001b[0m\u001b[37m\u001b[0m \u001b[1m1s\u001b[0m 16ms/step - accuracy: 0.9831 - loss: 0.1129 - val_accuracy: 0.9909 - val_loss: 0.0362\n",
      "Epoch 40/100\n",
      "\u001b[1m55/55\u001b[0m \u001b[32m━━━━━━━━━━━━━━━━━━━━\u001b[0m\u001b[37m\u001b[0m \u001b[1m1s\u001b[0m 16ms/step - accuracy: 0.9841 - loss: 0.0444 - val_accuracy: 1.0000 - val_loss: 0.0025\n",
      "Epoch 41/100\n",
      "\u001b[1m55/55\u001b[0m \u001b[32m━━━━━━━━━━━━━━━━━━━━\u001b[0m\u001b[37m\u001b[0m \u001b[1m1s\u001b[0m 18ms/step - accuracy: 0.9903 - loss: 0.0379 - val_accuracy: 1.0000 - val_loss: 0.0027\n",
      "Epoch 42/100\n",
      "\u001b[1m55/55\u001b[0m \u001b[32m━━━━━━━━━━━━━━━━━━━━\u001b[0m\u001b[37m\u001b[0m \u001b[1m1s\u001b[0m 18ms/step - accuracy: 0.9773 - loss: 0.0945 - val_accuracy: 1.0000 - val_loss: 0.0040\n",
      "Epoch 43/100\n",
      "\u001b[1m55/55\u001b[0m \u001b[32m━━━━━━━━━━━━━━━━━━━━\u001b[0m\u001b[37m\u001b[0m \u001b[1m1s\u001b[0m 18ms/step - accuracy: 0.9891 - loss: 0.0306 - val_accuracy: 1.0000 - val_loss: 0.0021\n",
      "Epoch 44/100\n",
      "\u001b[1m55/55\u001b[0m \u001b[32m━━━━━━━━━━━━━━━━━━━━\u001b[0m\u001b[37m\u001b[0m \u001b[1m1s\u001b[0m 17ms/step - accuracy: 0.9903 - loss: 0.0555 - val_accuracy: 0.9954 - val_loss: 0.0120\n",
      "Epoch 45/100\n",
      "\u001b[1m55/55\u001b[0m \u001b[32m━━━━━━━━━━━━━━━━━━━━\u001b[0m\u001b[37m\u001b[0m \u001b[1m1s\u001b[0m 18ms/step - accuracy: 0.9881 - loss: 0.0495 - val_accuracy: 1.0000 - val_loss: 8.2241e-04\n",
      "Epoch 46/100\n",
      "\u001b[1m55/55\u001b[0m \u001b[32m━━━━━━━━━━━━━━━━━━━━\u001b[0m\u001b[37m\u001b[0m \u001b[1m1s\u001b[0m 17ms/step - accuracy: 0.9951 - loss: 0.0167 - val_accuracy: 0.9863 - val_loss: 0.0395\n",
      "Epoch 47/100\n",
      "\u001b[1m55/55\u001b[0m \u001b[32m━━━━━━━━━━━━━━━━━━━━\u001b[0m\u001b[37m\u001b[0m \u001b[1m1s\u001b[0m 17ms/step - accuracy: 0.9900 - loss: 0.0395 - val_accuracy: 0.9954 - val_loss: 0.0234\n",
      "Epoch 48/100\n",
      "\u001b[1m55/55\u001b[0m \u001b[32m━━━━━━━━━━━━━━━━━━━━\u001b[0m\u001b[37m\u001b[0m \u001b[1m1s\u001b[0m 17ms/step - accuracy: 0.9829 - loss: 0.0586 - val_accuracy: 1.0000 - val_loss: 0.0116\n",
      "Epoch 49/100\n",
      "\u001b[1m55/55\u001b[0m \u001b[32m━━━━━━━━━━━━━━━━━━━━\u001b[0m\u001b[37m\u001b[0m \u001b[1m1s\u001b[0m 17ms/step - accuracy: 0.9863 - loss: 0.0483 - val_accuracy: 1.0000 - val_loss: 0.0049\n",
      "Epoch 50/100\n",
      "\u001b[1m55/55\u001b[0m \u001b[32m━━━━━━━━━━━━━━━━━━━━\u001b[0m\u001b[37m\u001b[0m \u001b[1m1s\u001b[0m 18ms/step - accuracy: 0.9961 - loss: 0.0180 - val_accuracy: 1.0000 - val_loss: 3.6829e-04\n",
      "Epoch 51/100\n",
      "\u001b[1m55/55\u001b[0m \u001b[32m━━━━━━━━━━━━━━━━━━━━\u001b[0m\u001b[37m\u001b[0m \u001b[1m1s\u001b[0m 17ms/step - accuracy: 0.9949 - loss: 0.0174 - val_accuracy: 1.0000 - val_loss: 0.0014\n",
      "Epoch 52/100\n",
      "\u001b[1m55/55\u001b[0m \u001b[32m━━━━━━━━━━━━━━━━━━━━\u001b[0m\u001b[37m\u001b[0m \u001b[1m1s\u001b[0m 17ms/step - accuracy: 0.9880 - loss: 0.0445 - val_accuracy: 0.9909 - val_loss: 0.0369\n",
      "Epoch 53/100\n",
      "\u001b[1m55/55\u001b[0m \u001b[32m━━━━━━━━━━━━━━━━━━━━\u001b[0m\u001b[37m\u001b[0m \u001b[1m1s\u001b[0m 18ms/step - accuracy: 0.9876 - loss: 0.0439 - val_accuracy: 1.0000 - val_loss: 0.0016\n",
      "Epoch 54/100\n",
      "\u001b[1m55/55\u001b[0m \u001b[32m━━━━━━━━━━━━━━━━━━━━\u001b[0m\u001b[37m\u001b[0m \u001b[1m1s\u001b[0m 17ms/step - accuracy: 0.9826 - loss: 0.0436 - val_accuracy: 0.9817 - val_loss: 0.0536\n",
      "Epoch 55/100\n",
      "\u001b[1m55/55\u001b[0m \u001b[32m━━━━━━━━━━━━━━━━━━━━\u001b[0m\u001b[37m\u001b[0m \u001b[1m1s\u001b[0m 17ms/step - accuracy: 0.9852 - loss: 0.0442 - val_accuracy: 0.9954 - val_loss: 0.0073\n",
      "Epoch 56/100\n",
      "\u001b[1m55/55\u001b[0m \u001b[32m━━━━━━━━━━━━━━━━━━━━\u001b[0m\u001b[37m\u001b[0m \u001b[1m1s\u001b[0m 17ms/step - accuracy: 0.9947 - loss: 0.0212 - val_accuracy: 0.9954 - val_loss: 0.0131\n",
      "Epoch 57/100\n",
      "\u001b[1m55/55\u001b[0m \u001b[32m━━━━━━━━━━━━━━━━━━━━\u001b[0m\u001b[37m\u001b[0m \u001b[1m1s\u001b[0m 17ms/step - accuracy: 0.9844 - loss: 0.0540 - val_accuracy: 1.0000 - val_loss: 0.0035\n",
      "Epoch 58/100\n",
      "\u001b[1m55/55\u001b[0m \u001b[32m━━━━━━━━━━━━━━━━━━━━\u001b[0m\u001b[37m\u001b[0m \u001b[1m1s\u001b[0m 17ms/step - accuracy: 0.9914 - loss: 0.0309 - val_accuracy: 0.9589 - val_loss: 0.1176\n",
      "Epoch 59/100\n",
      "\u001b[1m55/55\u001b[0m \u001b[32m━━━━━━━━━━━━━━━━━━━━\u001b[0m\u001b[37m\u001b[0m \u001b[1m1s\u001b[0m 17ms/step - accuracy: 0.9733 - loss: 0.0959 - val_accuracy: 1.0000 - val_loss: 0.0091\n",
      "Epoch 60/100\n",
      "\u001b[1m55/55\u001b[0m \u001b[32m━━━━━━━━━━━━━━━━━━━━\u001b[0m\u001b[37m\u001b[0m \u001b[1m1s\u001b[0m 17ms/step - accuracy: 0.9874 - loss: 0.0474 - val_accuracy: 0.9954 - val_loss: 0.0162\n"
     ]
    }
   ],
   "source": [
    "model_checkpoint = ModelCheckpoint(run_logdir +\"\\\\third_model.keras\", save_best_only=True)\n",
    "tensorboard_cb = TensorBoard(run_logdir)\n",
    "early_stopping = EarlyStopping(patience = 10, restore_best_weights=True)\n",
    "\n",
    "\n",
    "model = build_third_model(**best_params, sparse= False)\n",
    "# here we can save the best model\n",
    "model.fit(cv_train_set, validation_data=cv_val_set, epochs=100, callbacks= [tensorboard_cb,model_checkpoint, early_stopping])\n",
    "\n",
    "save_params(run_logdir, \"best_params_third_model.pkl\", best_params)"
   ]
  },
  {
   "cell_type": "code",
   "execution_count": 35,
   "id": "cc857f35",
   "metadata": {},
   "outputs": [
    {
     "name": "stdout",
     "output_type": "stream",
     "text": [
      "\u001b[1m7/7\u001b[0m \u001b[32m━━━━━━━━━━━━━━━━━━━━\u001b[0m\u001b[37m\u001b[0m \u001b[1m0s\u001b[0m 23ms/step - accuracy: 0.9982 - loss: 0.0199\n"
     ]
    },
    {
     "data": {
      "text/plain": [
       "[0.029822370037436485, 0.9954338073730469]"
      ]
     },
     "execution_count": 35,
     "metadata": {},
     "output_type": "execute_result"
    }
   ],
   "source": [
    "model.evaluate(cv_test_set)"
   ]
  },
  {
   "cell_type": "markdown",
   "id": "d6d8aead",
   "metadata": {},
   "source": [
    "# Comparing results"
   ]
  },
  {
   "cell_type": "code",
   "execution_count": 25,
   "id": "93334379",
   "metadata": {},
   "outputs": [],
   "source": [
    "X_test_array, y_test_array = pass_batchs_to_arrays(cv_test_set, pass_dummy=True)"
   ]
  },
  {
   "cell_type": "code",
   "execution_count": 26,
   "id": "99c5b60f",
   "metadata": {},
   "outputs": [],
   "source": [
    "logs_path = \"C:/Users/faarc/OneDrive/Escritorio/projects/paper_rock_scissors_pr/rock_paper_scissors/rps_deep/notebooks/logs\"\n"
   ]
  },
  {
   "cell_type": "code",
   "execution_count": 27,
   "id": "773949eb",
   "metadata": {},
   "outputs": [],
   "source": [
    "path_best_first_arch = \"/first_architecture/1_run_2025_07_19-15_54_58\"\n",
    "params_first_arch = load_params(logs_path+path_best_first_arch+\"/best_params_first_model.pkl\")\n",
    "model_first_arch = tf.keras.models.load_model(logs_path+path_best_first_arch+\"/first_model.keras\")\n",
    "\n",
    "path_best_second_arch = \"/second_architecture/2_run_2025_08_13-20_54_50\"\n",
    "params_second_arch = load_params(logs_path+path_best_second_arch+\"/best_params_second_model.pkl\")\n",
    "model_second_arch = tf.keras.models.load_model(logs_path+path_best_second_arch+\"/second_model.keras\")\n",
    "\n",
    "path_best_third_arch = \"/third_architecture/3_run_2025_08_14-13_56_08\"\n",
    "params_third_arch = load_params(logs_path+path_best_third_arch+\"/best_params_third_model.pkl\")\n",
    "model_third_arch = tf.keras.models.load_model(logs_path+path_best_third_arch+\"/third_model.keras\")"
   ]
  },
  {
   "cell_type": "markdown",
   "id": "02def9cd",
   "metadata": {},
   "source": [
    "## First arch"
   ]
  },
  {
   "cell_type": "code",
   "execution_count": 28,
   "id": "44add033",
   "metadata": {},
   "outputs": [
    {
     "name": "stdout",
     "output_type": "stream",
     "text": [
      "\u001b[1m7/7\u001b[0m \u001b[32m━━━━━━━━━━━━━━━━━━━━\u001b[0m\u001b[37m\u001b[0m \u001b[1m0s\u001b[0m 10ms/step - accuracy: 0.9655 - loss: 0.0830\n"
     ]
    },
    {
     "data": {
      "text/plain": [
       "[0.09145935624837875, 0.9634703397750854]"
      ]
     },
     "execution_count": 28,
     "metadata": {},
     "output_type": "execute_result"
    }
   ],
   "source": [
    "model_first_arch.evaluate(cv_test_set)"
   ]
  },
  {
   "cell_type": "code",
   "execution_count": 29,
   "id": "bf19c643",
   "metadata": {},
   "outputs": [
    {
     "name": "stdout",
     "output_type": "stream",
     "text": [
      "\u001b[1m7/7\u001b[0m \u001b[32m━━━━━━━━━━━━━━━━━━━━\u001b[0m\u001b[37m\u001b[0m \u001b[1m0s\u001b[0m 8ms/step \n"
     ]
    }
   ],
   "source": [
    "y_pred = np.argmax(model_first_arch.predict(cv_test_set), axis = 1)"
   ]
  },
  {
   "cell_type": "code",
   "execution_count": 30,
   "id": "b0b76c58",
   "metadata": {},
   "outputs": [
    {
     "name": "stdout",
     "output_type": "stream",
     "text": [
      "              precision    recall  f1-score   support\n",
      "\n",
      "       paper       0.97      0.92      0.94        72\n",
      "        rock       0.99      0.97      0.98        72\n",
      "    scissors       0.94      1.00      0.97        75\n",
      "\n",
      "    accuracy                           0.96       219\n",
      "   macro avg       0.96      0.96      0.96       219\n",
      "weighted avg       0.96      0.96      0.96       219\n",
      "\n"
     ]
    }
   ],
   "source": [
    "cm = compute_classification_metrics(y_test_array, y_pred, class_names)"
   ]
  },
  {
   "cell_type": "code",
   "execution_count": 31,
   "id": "3f5448dc",
   "metadata": {},
   "outputs": [
    {
     "data": {
      "image/png": "[encoded data removed]",
      "text/plain": [
       "<Figure size 600x500 with 2 Axes>"
      ]
     },
     "metadata": {},
     "output_type": "display_data"
    }
   ],
   "source": [
    "plot_conf_matrix(cm)"
   ]
  },
  {
   "cell_type": "code",
   "execution_count": 62,
   "id": "7b3dcdb7",
   "metadata": {},
   "outputs": [
    {
     "data": {
      "image/png": "[encoded data removed]",
      "text/plain": [
       "<Figure size 1500x1000 with 8 Axes>"
      ]
     },
     "metadata": {},
     "output_type": "display_data"
    }
   ],
   "source": [
    "show_misclassified_images(model_first_arch, cv_test_set, class_names)"
   ]
  },
  {
   "cell_type": "markdown",
   "id": "5678c83a",
   "metadata": {},
   "source": [
    "## Second arch"
   ]
  },
  {
   "cell_type": "code",
   "execution_count": 32,
   "id": "515ee34a",
   "metadata": {},
   "outputs": [
    {
     "name": "stdout",
     "output_type": "stream",
     "text": [
      "\u001b[1m7/7\u001b[0m \u001b[32m━━━━━━━━━━━━━━━━━━━━\u001b[0m\u001b[37m\u001b[0m \u001b[1m0s\u001b[0m 6ms/step - accuracy: 0.9831 - loss: 0.0333  \n"
     ]
    },
    {
     "data": {
      "text/plain": [
       "[0.048995912075042725, 0.9817351698875427]"
      ]
     },
     "execution_count": 32,
     "metadata": {},
     "output_type": "execute_result"
    }
   ],
   "source": [
    "model_second_arch.evaluate(cv_test_set)"
   ]
  },
  {
   "cell_type": "code",
   "execution_count": 33,
   "id": "a6b28793",
   "metadata": {},
   "outputs": [
    {
     "name": "stdout",
     "output_type": "stream",
     "text": [
      "\u001b[1m7/7\u001b[0m \u001b[32m━━━━━━━━━━━━━━━━━━━━\u001b[0m\u001b[37m\u001b[0m \u001b[1m0s\u001b[0m 9ms/step\n"
     ]
    }
   ],
   "source": [
    "y_pred = np.argmax(model_second_arch.predict(cv_test_set), axis = 1)"
   ]
  },
  {
   "cell_type": "code",
   "execution_count": 34,
   "id": "ff6a5676",
   "metadata": {},
   "outputs": [
    {
     "name": "stdout",
     "output_type": "stream",
     "text": [
      "              precision    recall  f1-score   support\n",
      "\n",
      "       paper       1.00      0.94      0.97        72\n",
      "        rock       0.97      1.00      0.99        72\n",
      "    scissors       0.97      1.00      0.99        75\n",
      "\n",
      "    accuracy                           0.98       219\n",
      "   macro avg       0.98      0.98      0.98       219\n",
      "weighted avg       0.98      0.98      0.98       219\n",
      "\n"
     ]
    }
   ],
   "source": [
    "cm = compute_classification_metrics(y_test_array, y_pred, class_names)"
   ]
  },
  {
   "cell_type": "code",
   "execution_count": 35,
   "id": "0e5d3018",
   "metadata": {},
   "outputs": [
    {
     "data": {
      "image/png": "[encoded data removed]",
      "text/plain": [
       "<Figure size 600x500 with 2 Axes>"
      ]
     },
     "metadata": {},
     "output_type": "display_data"
    }
   ],
   "source": [
    "plot_conf_matrix(cm)"
   ]
  },
  {
   "cell_type": "code",
   "execution_count": 36,
   "id": "18eaa7b0",
   "metadata": {},
   "outputs": [
    {
     "name": "stdout",
     "output_type": "stream",
     "text": [
      "WARNING:tensorflow:5 out of the last 15 calls to <function TensorFlowTrainer.make_predict_function.<locals>.one_step_on_data_distributed at 0x0000027B21D0C860> triggered tf.function retracing. Tracing is expensive and the excessive number of tracings could be due to (1) creating @tf.function repeatedly in a loop, (2) passing tensors with different shapes, (3) passing Python objects instead of tensors. For (1), please define your @tf.function outside of the loop. For (2), @tf.function has reduce_retracing=True option that can avoid unnecessary retracing. For (3), please refer to https://www.tensorflow.org/guide/function#controlling_retracing and https://www.tensorflow.org/api_docs/python/tf/function for  more details.\n"
     ]
    },
    {
     "data": {
      "image/png": "[encoded data removed]",
      "text/plain": [
       "<Figure size 1500x1000 with 4 Axes>"
      ]
     },
     "metadata": {},
     "output_type": "display_data"
    }
   ],
   "source": [
    "show_misclassified_images(model_second_arch, cv_test_set, class_names)"
   ]
  },
  {
   "cell_type": "markdown",
   "id": "cdee79eb",
   "metadata": {},
   "source": [
    "## Third arch"
   ]
  },
  {
   "cell_type": "code",
   "execution_count": 37,
   "id": "36728ce0",
   "metadata": {},
   "outputs": [
    {
     "name": "stdout",
     "output_type": "stream",
     "text": [
      "\u001b[1m7/7\u001b[0m \u001b[32m━━━━━━━━━━━━━━━━━━━━\u001b[0m\u001b[37m\u001b[0m \u001b[1m0s\u001b[0m 9ms/step - accuracy: 0.9982 - loss: 0.0199  \n"
     ]
    },
    {
     "data": {
      "text/plain": [
       "[0.029822370037436485, 0.9954338073730469]"
      ]
     },
     "execution_count": 37,
     "metadata": {},
     "output_type": "execute_result"
    }
   ],
   "source": [
    "model_third_arch.evaluate(cv_test_set)"
   ]
  },
  {
   "cell_type": "code",
   "execution_count": 38,
   "id": "66973152",
   "metadata": {},
   "outputs": [
    {
     "name": "stdout",
     "output_type": "stream",
     "text": [
      "\u001b[1m7/7\u001b[0m \u001b[32m━━━━━━━━━━━━━━━━━━━━\u001b[0m\u001b[37m\u001b[0m \u001b[1m0s\u001b[0m 16ms/step\n"
     ]
    }
   ],
   "source": [
    "y_pred = np.argmax(model_third_arch.predict(cv_test_set), axis = 1)"
   ]
  },
  {
   "cell_type": "code",
   "execution_count": 39,
   "id": "cf2609f5",
   "metadata": {},
   "outputs": [
    {
     "name": "stdout",
     "output_type": "stream",
     "text": [
      "              precision    recall  f1-score   support\n",
      "\n",
      "       paper       1.00      0.99      0.99        72\n",
      "        rock       0.99      1.00      0.99        72\n",
      "    scissors       1.00      1.00      1.00        75\n",
      "\n",
      "    accuracy                           1.00       219\n",
      "   macro avg       1.00      1.00      1.00       219\n",
      "weighted avg       1.00      1.00      1.00       219\n",
      "\n"
     ]
    }
   ],
   "source": [
    "cm = compute_classification_metrics(y_test_array, y_pred, class_names)"
   ]
  },
  {
   "cell_type": "code",
   "execution_count": 40,
   "id": "235bd7d1",
   "metadata": {},
   "outputs": [
    {
     "data": {
      "image/png": "[encoded data removed]",
      "text/plain": [
       "<Figure size 600x500 with 2 Axes>"
      ]
     },
     "metadata": {},
     "output_type": "display_data"
    }
   ],
   "source": [
    "plot_conf_matrix(cm)"
   ]
  },
  {
   "cell_type": "code",
   "execution_count": 73,
   "id": "00edf2e5",
   "metadata": {},
   "outputs": [
    {
     "data": {
      "image/png": "[encoded data removed]",
      "text/plain": [
       "<Figure size 1500x1000 with 1 Axes>"
      ]
     },
     "metadata": {},
     "output_type": "display_data"
    }
   ],
   "source": [
    "show_misclassified_images(model_third_arch, cv_test_set, class_names)"
   ]
  },
  {
   "cell_type": "markdown",
   "id": "90cca88a",
   "metadata": {},
   "source": [
    "# Robustness test"
   ]
  },
  {
   "cell_type": "code",
   "execution_count": 41,
   "id": "6caee2af",
   "metadata": {},
   "outputs": [],
   "source": [
    "# from tensorflow.image import rgb_to_grayscale"
   ]
  },
  {
   "cell_type": "code",
   "execution_count": 42,
   "id": "2c90ba4f",
   "metadata": {},
   "outputs": [
    {
     "name": "stdout",
     "output_type": "stream",
     "text": [
      "Found 11 files belonging to 3 classes.\n"
     ]
    }
   ],
   "source": [
    "original_size = (300,200)\n",
    "full_dataset = image_dataset_from_directory(\n",
    "    'C:/Users/faarc/OneDrive/Escritorio/projects/paper_rock_scissors_pr/rock_paper_scissors/rps_deep/generalization_data/diego',\n",
    "    image_size=image_size,\n",
    "    label_mode=\"categorical\",\n",
    "    shuffle=False,\n",
    "    seed=42\n",
    ")"
   ]
  },
  {
   "cell_type": "code",
   "execution_count": 43,
   "id": "f5acdf8b",
   "metadata": {},
   "outputs": [
    {
     "name": "stdout",
     "output_type": "stream",
     "text": [
      "\u001b[1m1/1\u001b[0m \u001b[32m━━━━━━━━━━━━━━━━━━━━\u001b[0m\u001b[37m\u001b[0m \u001b[1m0s\u001b[0m 54ms/step - accuracy: 0.2727 - loss: 7.0265\n"
     ]
    },
    {
     "data": {
      "text/plain": [
       "[7.026455879211426, 0.27272728085517883]"
      ]
     },
     "execution_count": 43,
     "metadata": {},
     "output_type": "execute_result"
    }
   ],
   "source": [
    "model_first_arch.evaluate(full_dataset)"
   ]
  },
  {
   "cell_type": "code",
   "execution_count": 44,
   "id": "2de3f1b3",
   "metadata": {},
   "outputs": [
    {
     "name": "stdout",
     "output_type": "stream",
     "text": [
      "\u001b[1m1/1\u001b[0m \u001b[32m━━━━━━━━━━━━━━━━━━━━\u001b[0m\u001b[37m\u001b[0m \u001b[1m0s\u001b[0m 40ms/step - accuracy: 0.2727 - loss: 6.3584\n"
     ]
    },
    {
     "data": {
      "text/plain": [
       "[6.358428478240967, 0.27272728085517883]"
      ]
     },
     "execution_count": 44,
     "metadata": {},
     "output_type": "execute_result"
    }
   ],
   "source": [
    "model_second_arch.evaluate(full_dataset)"
   ]
  },
  {
   "cell_type": "code",
   "execution_count": 45,
   "id": "0e6475c0",
   "metadata": {},
   "outputs": [
    {
     "name": "stdout",
     "output_type": "stream",
     "text": [
      "\u001b[1m1/1\u001b[0m \u001b[32m━━━━━━━━━━━━━━━━━━━━\u001b[0m\u001b[37m\u001b[0m \u001b[1m0s\u001b[0m 50ms/step - accuracy: 0.5455 - loss: 1.5391\n"
     ]
    },
    {
     "data": {
      "text/plain": [
       "[1.539096474647522, 0.5454545617103577]"
      ]
     },
     "execution_count": 45,
     "metadata": {},
     "output_type": "execute_result"
    }
   ],
   "source": [
    "model_third_arch.evaluate(full_dataset)"
   ]
  },
  {
   "cell_type": "code",
   "execution_count": 46,
   "id": "a6dee2c7",
   "metadata": {},
   "outputs": [
    {
     "data": {
      "image/png": "[encoded data removed]",
      "text/plain": [
       "<Figure size 1500x1000 with 5 Axes>"
      ]
     },
     "metadata": {},
     "output_type": "display_data"
    }
   ],
   "source": [
    "show_misclassified_images(model_third_arch, full_dataset, class_names)"
   ]
  },
  {
   "cell_type": "code",
   "execution_count": null,
   "id": "92e757e6",
   "metadata": {},
   "outputs": [],
   "source": []
  }
 ],
 "metadata": {
  "kernelspec": {
   "display_name": "deepl",
   "language": "python",
   "name": "python3"
  },
  "language_info": {
   "codemirror_mode": {
    "name": "ipython",
    "version": 3
   },
   "file_extension": ".py",
   "mimetype": "text/x-python",
   "name": "python",
   "nbconvert_exporter": "python",
   "pygments_lexer": "ipython3",
   "version": "3.11.13"
  }
 },
 "nbformat": 4,
 "nbformat_minor": 5
}
