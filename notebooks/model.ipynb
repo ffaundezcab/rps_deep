{
 "cells": [
  {
   "cell_type": "code",
   "execution_count": 1,
   "id": "323b9a72",
   "metadata": {},
   "outputs": [],
   "source": [
    "import os\n",
    "from pathlib import Path\n",
    "from joblib import Parallel, delayed\n",
    "\n",
    "import pandas as pd\n",
    "import numpy as np\n",
    "import matplotlib.pyplot as plt\n",
    "import seaborn as sns\n",
    "import itertools\n",
    "\n",
    "import tensorflow as tf\n",
    "from sklearn.model_selection import train_test_split\n",
    "from sklearn.metrics import confusion_matrix, classification_report\n",
    "from sklearn.model_selection import RandomizedSearchCV, StratifiedKFold\n",
    "\n",
    "from tensorflow.keras.utils import image_dataset_from_directory, load_img, img_to_array \n",
    "from tensorflow.keras.models import Sequential\n",
    "from tensorflow.keras.layers import Conv2D, MaxPooling2D, AvgPool2D, Flatten, Dense, Dropout, RandomFlip, RandomRotation, RandomZoom, Rescaling, Input, Lambda\n",
    "from tensorflow.keras.callbacks import TensorBoard, ModelCheckpoint, EarlyStopping\n",
    "from tensorflow.keras.optimizers import SGD, Adam\n",
    "from tensorflow.keras.wrappers import SKLearnRegressor\n",
    "from tensorboard.backend.event_processing import event_accumulator\n",
    "from collections import Counter\n"
   ]
  },
  {
   "cell_type": "markdown",
   "id": "e822c757",
   "metadata": {},
   "source": [
    "# Data"
   ]
  },
  {
   "cell_type": "code",
   "execution_count": 2,
   "id": "e5b496d4",
   "metadata": {},
   "outputs": [],
   "source": [
    "# pass thru tf to convert paths to images\n",
    "def preprocess_image(file_path, label):\n",
    "    # final_path_file = data_dir+\"/\"+file_path\n",
    "    img = tf.io.read_file(file_path)\n",
    "    # rgb, later we normalize\n",
    "    img = tf.image.decode_image(img, channels=3)\n",
    "    # todo: make it optional passing to grayscale\n",
    "    if grayscale:\n",
    "        img = tf.image.rgb_to_grayscale(img)\n",
    "        img.set_shape([None, None, 1])\n",
    "    else:\n",
    "        img.set_shape([None, None, 3]) #rgb\n",
    "    img = tf.image.resize(img, image_size)\n",
    "    return img, tf.one_hot(label, depth=len(class_names))"
   ]
  },
  {
   "cell_type": "code",
   "execution_count": 3,
   "id": "bb95cef5",
   "metadata": {},
   "outputs": [],
   "source": [
    "data_dir = \"../data\"\n",
    "original_size = (300,200)\n",
    "image_size = (37, 25)\n",
    "batch_size = 32\n",
    "\n",
    "file_paths = []\n",
    "labels = []\n",
    "class_names = os.listdir(data_dir)\n",
    "class_to_index = {name: i for i, name in enumerate(class_names)}\n",
    "\n",
    "for class_name in class_names:\n",
    "    class_dir = f\"{data_dir}/{class_name}\"\n",
    "    images = sorted(os.listdir(class_dir))\n",
    "    for img_path in images:\n",
    "        file_paths.append(class_dir + \"/\" + str(img_path))\n",
    "        labels.append(class_to_index[class_name])\n",
    "\n",
    "file_paths = np.array(file_paths)\n",
    "labels = np.array(labels)\n",
    "grayscale = False\n",
    "\n",
    "X_train, X_val, y_train, y_val = train_test_split(\n",
    "    file_paths,\n",
    "    labels,\n",
    "    test_size=0.2,\n",
    "    stratify=labels,\n",
    "    random_state=42\n",
    ")\n",
    "\n",
    "# for CV\n",
    "cv_train_set = tf.data.Dataset.from_tensor_slices((X_train, y_train))\n",
    "cv_train_set = cv_train_set.map(preprocess_image, num_parallel_calls=tf.data.AUTOTUNE)\n",
    "cv_train_set = cv_train_set.shuffle(1000).batch(batch_size).prefetch(tf.data.AUTOTUNE)\n",
    "\n",
    "cv_test_set = tf.data.Dataset.from_tensor_slices((X_val, y_val))\n",
    "cv_test_set = cv_test_set.map(preprocess_image, num_parallel_calls=tf.data.AUTOTUNE)\n",
    "cv_test_set = cv_test_set.batch(batch_size).prefetch(tf.data.AUTOTUNE)\n",
    "\n",
    "\n",
    "X_val, X_test, y_val, y_test = train_test_split(\n",
    "    X_val,\n",
    "    y_val,\n",
    "    test_size=0.5,\n",
    "    stratify=y_val,\n",
    "    random_state=42\n",
    ")\n",
    "\n",
    "# for iteration over models\n",
    "train_set = tf.data.Dataset.from_tensor_slices((X_train, y_train))\n",
    "train_set = train_set.map(preprocess_image, num_parallel_calls=tf.data.AUTOTUNE)\n",
    "train_set = train_set.shuffle(1000).batch(batch_size).prefetch(tf.data.AUTOTUNE)\n",
    "\n",
    "val_set = tf.data.Dataset.from_tensor_slices((X_val, y_val))\n",
    "val_set = val_set.map(preprocess_image, num_parallel_calls=tf.data.AUTOTUNE)\n",
    "val_set = val_set.batch(batch_size).prefetch(tf.data.AUTOTUNE)\n",
    "\n",
    "test_set = tf.data.Dataset.from_tensor_slices((X_test, y_test))\n",
    "test_set = test_set.map(preprocess_image, num_parallel_calls=tf.data.AUTOTUNE)\n",
    "test_set = test_set.batch(batch_size).prefetch(tf.data.AUTOTUNE)\n"
   ]
  },
  {
   "cell_type": "code",
   "execution_count": 4,
   "id": "b134d929",
   "metadata": {},
   "outputs": [],
   "source": [
    "def count_label_distribution(dset):\n",
    "    label_array = [x[1] for x in dset]\n",
    "    \n",
    "    labels_in_dset = []\n",
    "    for x in label_array:\n",
    "        labels_in_dset.extend(np.argmax(x, axis = 1))\n",
    "    \n",
    "    return len(labels_in_dset), Counter(labels_in_dset)\n",
    "    "
   ]
  },
  {
   "cell_type": "code",
   "execution_count": 5,
   "id": "92d7ddda",
   "metadata": {},
   "outputs": [],
   "source": [
    "total_train, train_label_count = count_label_distribution(train_set)\n",
    "total_val, val_label_count = count_label_distribution(val_set)\n",
    "total_test, test_label_count = count_label_distribution(test_set)\n",
    "\n",
    "total_cv_train, cv_train_label_count = count_label_distribution(cv_train_set)\n",
    "total_cv_test, cv_test_label_count = count_label_distribution(cv_test_set)\n"
   ]
  },
  {
   "cell_type": "code",
   "execution_count": 6,
   "id": "c31e2d96",
   "metadata": {},
   "outputs": [
    {
     "data": {
      "text/plain": [
       "(Counter({np.int64(2): 600, np.int64(1): 581, np.int64(0): 569}),\n",
       " Counter({np.int64(2): 75, np.int64(1): 73, np.int64(0): 71}),\n",
       " Counter({np.int64(2): 75, np.int64(0): 72, np.int64(1): 72}),\n",
       " Counter({np.int64(2): 600, np.int64(1): 581, np.int64(0): 569}),\n",
       " Counter({np.int64(2): 150, np.int64(1): 145, np.int64(0): 143}))"
      ]
     },
     "execution_count": 6,
     "metadata": {},
     "output_type": "execute_result"
    }
   ],
   "source": [
    "train_label_count,val_label_count, test_label_count,cv_train_label_count,cv_test_label_count"
   ]
  },
  {
   "cell_type": "code",
   "execution_count": 7,
   "id": "f5848c92",
   "metadata": {},
   "outputs": [
    {
     "data": {
      "text/plain": [
       "2188"
      ]
     },
     "execution_count": 7,
     "metadata": {},
     "output_type": "execute_result"
    }
   ],
   "source": [
    "sum([total_train, total_val, total_test])"
   ]
  },
  {
   "cell_type": "code",
   "execution_count": 8,
   "id": "840ded8c",
   "metadata": {},
   "outputs": [
    {
     "data": {
      "text/plain": [
       "2188"
      ]
     },
     "execution_count": 8,
     "metadata": {},
     "output_type": "execute_result"
    }
   ],
   "source": [
    "len(file_paths)"
   ]
  },
  {
   "cell_type": "markdown",
   "id": "c90caa37",
   "metadata": {},
   "source": [
    "# Model"
   ]
  },
  {
   "cell_type": "markdown",
   "id": "9ad0090f",
   "metadata": {},
   "source": [
    "## Data Augmentation"
   ]
  },
  {
   "cell_type": "code",
   "execution_count": 9,
   "id": "05384d0d",
   "metadata": {},
   "outputs": [],
   "source": [
    "# vertical here should only make sense since images are right-oriented\n",
    "data_augmentation = Sequential([\n",
    "    RandomFlip(\"vertical\"),\n",
    "    RandomRotation(0.05),\n",
    "    RandomZoom(0.05)\n",
    "])"
   ]
  },
  {
   "cell_type": "code",
   "execution_count": 10,
   "id": "720fd0f2",
   "metadata": {},
   "outputs": [
    {
     "data": {
      "image/png": "[encoded data removed]",
      "text/plain": [
       "<Figure size 1000x400 with 10 Axes>"
      ]
     },
     "metadata": {},
     "output_type": "display_data"
    }
   ],
   "source": [
    "for images, label in train_set.take(1):\n",
    "    augmented_images = data_augmentation(images)\n",
    "\n",
    "    num_images = 5\n",
    "    plt.figure(figsize=(10, 4))\n",
    "\n",
    "    for i in range(num_images):\n",
    "        # original\n",
    "        ax = plt.subplot(2, num_images, i + 1)\n",
    "        plt.imshow(images[i].numpy().astype(\"uint8\"))\n",
    "        plt.title(class_names[np.argmax(label[i])])\n",
    "        plt.axis(\"off\")\n",
    "\n",
    "        # aug\n",
    "        ax = plt.subplot(2, num_images, i + 1 + num_images)\n",
    "        plt.imshow(augmented_images[i].numpy().astype(\"uint8\"))\n",
    "        plt.title(\"augmented\")\n",
    "        plt.axis(\"off\")\n",
    "\n",
    "    plt.tight_layout()\n",
    "    plt.show()"
   ]
  },
  {
   "cell_type": "code",
   "execution_count": 11,
   "id": "263f313b",
   "metadata": {},
   "outputs": [
    {
     "data": {
      "image/png": "[encoded data removed]",
      "text/plain": [
       "<Figure size 1000x400 with 10 Axes>"
      ]
     },
     "metadata": {},
     "output_type": "display_data"
    },
    {
     "data": {
      "image/png": "[encoded data removed]",
      "text/plain": [
       "<Figure size 1000x400 with 10 Axes>"
      ]
     },
     "metadata": {},
     "output_type": "display_data"
    }
   ],
   "source": [
    "for images, label in val_set.take(2):\n",
    "    # augmented_images = data_augmentation(images)\n",
    "    num_images = 10\n",
    "    plt.figure(figsize=(10, 4))\n",
    "    for i in range(num_images):\n",
    "        ax = plt.subplot(2, num_images, i + 1)\n",
    "        plt.imshow(images[i].numpy().astype(\"uint8\"))\n",
    "        plt.title(class_names[np.argmax(label[i])])\n",
    "        plt.axis(\"off\")\n",
    "        \n",
    "\n",
    "    plt.tight_layout()\n",
    "    plt.show()"
   ]
  },
  {
   "cell_type": "code",
   "execution_count": 12,
   "id": "c69986a5",
   "metadata": {},
   "outputs": [
    {
     "data": {
      "image/png": "[encoded data removed]",
      "text/plain": [
       "<Figure size 1000x400 with 10 Axes>"
      ]
     },
     "metadata": {},
     "output_type": "display_data"
    }
   ],
   "source": [
    "for images, label in test_set.take(1):\n",
    "    # augmented_images = data_augmentation(images)\n",
    "    num_images = 10\n",
    "    plt.figure(figsize=(10, 4))\n",
    "    for i in range(num_images):\n",
    "        ax = plt.subplot(2, num_images, i + 1)\n",
    "        plt.imshow(images[i].numpy().astype(\"uint8\"))\n",
    "        plt.title(class_names[np.argmax(label[i])])\n",
    "        plt.axis(\"off\")\n",
    "        \n",
    "\n",
    "    plt.tight_layout()\n",
    "    plt.show()"
   ]
  },
  {
   "cell_type": "code",
   "execution_count": 13,
   "id": "7c8facd9",
   "metadata": {},
   "outputs": [],
   "source": [
    "def show_misclassified_images(model, dataset, class_names, n=9):\n",
    "    import numpy as np\n",
    "\n",
    "    images = []\n",
    "    true_labels = []\n",
    "    pred_labels = []\n",
    "\n",
    "    for img_batch, label_batch in dataset.unbatch().batch(1).take(1000):\n",
    "        preds = model.predict(img_batch, verbose=0)\n",
    "        pred_class = tf.argmax(preds[0])\n",
    "        true_class = tf.argmax(label_batch[0])\n",
    "\n",
    "        if pred_class != true_class:\n",
    "            images.append(img_batch[0].numpy())\n",
    "            true_labels.append(class_names[true_class.numpy()])\n",
    "            pred_labels.append(class_names[pred_class.numpy()])\n",
    "\n",
    "        if len(images) >= n:\n",
    "            break\n",
    "\n",
    "    plt.figure(figsize=(15, 10))\n",
    "    for i in range(len(images)):\n",
    "        plt.subplot(3, 3, i+1)\n",
    "\n",
    "        img = images[i]\n",
    "        if img.max() <= 1.0:\n",
    "            img = img * 255.0\n",
    "        img = np.clip(img.astype(\"uint8\"), 0, 255)\n",
    "\n",
    "        plt.imshow(img)\n",
    "        plt.title(f\"true: {true_labels[i]}\\npred: {pred_labels[i]}\", color='red')\n",
    "        plt.axis(\"off\")\n",
    "    plt.tight_layout()\n",
    "    plt.show()"
   ]
  },
  {
   "cell_type": "code",
   "execution_count": 14,
   "id": "64ff8c53",
   "metadata": {},
   "outputs": [],
   "source": [
    "def show_filters(model, layer_number = 2):\n",
    "    filters, biases = model.layers[2].get_weights()\n",
    "\n",
    "    # normalize\n",
    "    f_min, f_max = filters.min(), filters.max()\n",
    "    filters = (filters - f_min) / (f_max - f_min)\n",
    "\n",
    "    n_filters = filters.shape[3]\n",
    "    grid_size = 32\n",
    "    fig, axs = plt.subplots(grid_size, grid_size, figsize=(20, 20))\n",
    "\n",
    "    for i in range(grid_size * grid_size):\n",
    "        ax = axs[i // grid_size, i % grid_size]\n",
    "        ax.axis('off')\n",
    "        \n",
    "        if i < n_filters:\n",
    "            f = filters[:, :, :, i]\n",
    "            if f.shape[2] == 3:  # if rgb\n",
    "                ax.imshow(f)\n",
    "            else:  # grayscale\n",
    "                ax.imshow(f[:, :, 0], cmap='gray')\n",
    "        else:\n",
    "            ax.set_visible(False)\n",
    "\n",
    "    plt.subplots_adjust(wspace=0.1, hspace=0.1)\n",
    "    plt.show()\n"
   ]
  },
  {
   "cell_type": "markdown",
   "id": "4dee4f78",
   "metadata": {},
   "source": [
    "## First"
   ]
  },
  {
   "cell_type": "code",
   "execution_count": 15,
   "id": "6adfdf36",
   "metadata": {},
   "outputs": [],
   "source": [
    "which_model = \"first_architecture\"\n",
    "\n",
    "def root_logdir(architecture_name):\n",
    "    return os.path.join(os.curdir, \"logs\\\\\"+architecture_name)\n",
    "\n",
    "def get_run_logdir(architecture_name, it):\n",
    "    import time\n",
    "    run_id = str(it) +\"_\"+ time.strftime(\"run_%Y_%m_%d-%H_%M_%S\")\n",
    "    return run_id, os.path.join(root_logdir(architecture_name), run_id)\n",
    "\n",
    "def table_from_history(history_table, run_id):\n",
    "    dft = pd.DataFrame(history_table)\n",
    "    dft['run'] = run_id\n",
    "    dft = dft.reset_index(names = \"epoch\")\n",
    "    return dft "
   ]
  },
  {
   "cell_type": "code",
   "execution_count": 16,
   "id": "1bd41ff3",
   "metadata": {},
   "outputs": [],
   "source": [
    "def pass_batchs_to_arrays(dset, pass_dummy = False):\n",
    "\n",
    "    X_list = []\n",
    "    y_list = []\n",
    "\n",
    "    for x_batch, y_batch in dset:\n",
    "        X_list.append(x_batch.numpy())\n",
    "        y_list.append(y_batch.numpy())\n",
    "\n",
    "    X = np.concatenate(X_list, axis=0)\n",
    "    y = np.concatenate(y_list, axis=0)\n",
    "    \n",
    "    if pass_dummy:\n",
    "        y = np.argmax(y, axis = 1)\n",
    "    \n",
    "    return X, y\n"
   ]
  },
  {
   "cell_type": "code",
   "execution_count": 17,
   "id": "7674cda8",
   "metadata": {},
   "outputs": [],
   "source": [
    "def compute_classification_metrics(y_true, y_pred, class_names):\n",
    "    cm = confusion_matrix(y_true, y_pred)\n",
    "    str_summary = classification_report(y_true, y_pred, target_names=class_names)\n",
    "    print(str_summary)\n",
    "    \n",
    "    # todo: manually compute other metrics\n",
    "    return cm"
   ]
  },
  {
   "cell_type": "code",
   "execution_count": 18,
   "id": "32da8808",
   "metadata": {},
   "outputs": [],
   "source": [
    "def plot_conf_matrix(cm):\n",
    "    plt.figure(figsize=(6, 5))\n",
    "    sns.heatmap(cm, annot=True, fmt=\"d\", cmap=\"Blues\", \n",
    "                xticklabels=class_names, yticklabels=class_names)\n",
    "    plt.xlabel(\"pred\")\n",
    "    plt.ylabel(\"true\")\n",
    "    plt.show()"
   ]
  },
  {
   "cell_type": "markdown",
   "id": "c92b0f6b",
   "metadata": {},
   "source": [
    "### Using CV\n",
    "\n",
    "- CV would give us slightly better results and also we can use it for hyperparameter tuning"
   ]
  },
  {
   "cell_type": "code",
   "execution_count": null,
   "id": "da67f223",
   "metadata": {},
   "outputs": [],
   "source": [
    "normalization_layer = Rescaling(1./255)\n",
    "data_augmentation = Sequential([\n",
    "    RandomFlip(\"vertical\"),\n",
    "    RandomRotation(0.05),\n",
    "    RandomZoom(0.05)\n",
    "])\n",
    "\n",
    "# todo: this can be better...\n",
    "if grayscale:\n",
    "    dimension = 1\n",
    "else:\n",
    "    dimension = 3\n",
    "\n",
    "def build_first_model(n_filters = 64, n_neurons = 64, learning_rate = 1e-2, momentum = 0.0, \n",
    "                      kernel_size = 3, pool_size = 2, sparse = True, **kwargs):\n",
    "    \n",
    "    #todo: true/false data augmentation\n",
    "    model = Sequential([\n",
    "    Input(shape = (image_size[0], image_size[1], dimension)),\n",
    "    normalization_layer,\n",
    "    data_augmentation,\n",
    "    Conv2D(n_filters, kernel_size, activation = \"relu\", padding = \"same\"),\n",
    "    MaxPooling2D(pool_size),\n",
    "    Flatten(),\n",
    "    Dense(n_neurons, activation=\"relu\"),\n",
    "    Dense(3, activation = \"softmax\")\n",
    "                    ])\n",
    "    \n",
    "    optimizer = SGD(learning_rate=learning_rate, momentum=momentum)\n",
    "    \n",
    "    loss = \"categorical_crossentropy\"\n",
    "    if sparse:\n",
    "        loss = \"sparse_categorical_crossentropy\"\n",
    "    model.compile(loss = loss,\n",
    "        optimizer = optimizer,\n",
    "        metrics = [\"accuracy\"])\n",
    "    \n",
    "    return model"
   ]
  },
  {
   "cell_type": "code",
   "execution_count": 19,
   "id": "1937f039",
   "metadata": {},
   "outputs": [],
   "source": [
    "X_train_array, y_train_array = pass_batchs_to_arrays(cv_train_set, pass_dummy=True)"
   ]
  },
  {
   "cell_type": "code",
   "execution_count": 20,
   "id": "b73159d5",
   "metadata": {},
   "outputs": [],
   "source": [
    "def CNN_GridSearchCV_non_parallel(X_train_array, y_train_array, param_grid, random_state, n_splits = 5, shuffle = True):\n",
    "\n",
    "    mean_scores = []\n",
    "\n",
    "    skf = StratifiedKFold(n_splits=n_splits, shuffle = shuffle, random_state=random_state)\n",
    "\n",
    "    param_combinations = [\n",
    "        dict(zip(param_grid.keys(), values))\n",
    "        for values in itertools.product(*param_grid.values())\n",
    "    ]\n",
    "\n",
    "    for i_p, params in enumerate(param_combinations):\n",
    "        \n",
    "        history_tables = []\n",
    "        print(\"params: \" + str(params))\n",
    "        print(\"-\"*10)\n",
    "        # iterate first through each of the folds (with tuning)\n",
    "        for i, (train_i, val_i) in enumerate(skf.split(X_train_array, y_train_array)):\n",
    "            fold = f\"Fold{i+1}\"\n",
    "            # print(fold)\n",
    "            \n",
    "            # data\n",
    "            X_train, y_train = X_train_array[train_i], y_train_array[train_i]\n",
    "            X_val, y_val = X_train_array[val_i], y_train_array[val_i]\n",
    "            \n",
    "            model = build_first_model(**params)\n",
    "            \n",
    "            # if we want to later check CV results\n",
    "            run_id, run_logdir = get_run_logdir(\"first_architecture\", f\"ip_{i_p}\"+fold)\n",
    "            \n",
    "            history = model.fit(X_train, y_train, validation_data=(X_val,y_val), \n",
    "                                epochs=30, verbose = 0)\n",
    "            \n",
    "            history_tables.append(table_from_history(history.history, run_id))\n",
    "        \n",
    "        df_history = pd.concat(history_tables)\n",
    "        # same as best_model_checkpoint / checks the epoch where the model had its lowest loss\n",
    "        best_train_val = df_history.groupby('run').apply(lambda x: x.loc[x[\"val_loss\"].idxmin()], include_groups = False).reset_index()\n",
    "        \n",
    "        val_loss, val_accuracy = (best_train_val['val_loss'].mean(), best_train_val['val_accuracy'].mean())\n",
    "        mean_scores.append((val_loss, val_accuracy))\n",
    "        \n",
    "        # print(\"-\"*10)\n",
    "        if i_p == 0:\n",
    "            best_params = params\n",
    "            best_accuracy = val_accuracy\n",
    "        else:\n",
    "            if val_accuracy > best_accuracy:\n",
    "                best_params = params\n",
    "                best_accuracy = val_accuracy\n",
    "                print(f\"*new_best | score: {val_accuracy}\")\n",
    "        print(\" \")\n",
    "    return best_params, best_accuracy, mean_scores\n",
    "    "
   ]
  },
  {
   "cell_type": "code",
   "execution_count": 21,
   "id": "a038cb20",
   "metadata": {},
   "outputs": [],
   "source": [
    "def evaluate_combination(i_p, params, X_train_array, y_train_array, skf, build_model):\n",
    "    history_tables = []\n",
    "    \n",
    "    print(f\"params: {params}\")\n",
    "    print(\"-\" * 10)\n",
    "\n",
    "    for i, (train_i, val_i) in enumerate(skf.split(X_train_array, y_train_array)):\n",
    "        fold = f\"Fold{i+1}\"\n",
    "        X_train, y_train = X_train_array[train_i], y_train_array[train_i]\n",
    "        X_val, y_val = X_train_array[val_i], y_train_array[val_i]\n",
    "\n",
    "        # model = build_first_model(**params)\n",
    "        model = build_model(**params)\n",
    "        run_id, run_logdir = get_run_logdir(\"first_architecture\", f\"ip_{i_p}\"+fold)\n",
    "\n",
    "        history = model.fit(X_train, y_train, validation_data=(X_val, y_val),\n",
    "                            epochs=30, verbose=0)\n",
    "\n",
    "        history_tables.append(table_from_history(history.history, run_id))\n",
    "\n",
    "    df_history = pd.concat(history_tables)\n",
    "    best_train_val = df_history.groupby('run').apply(\n",
    "        lambda x: x.loc[x[\"val_loss\"].idxmin()],\n",
    "        include_groups=False\n",
    "    ).reset_index()\n",
    "\n",
    "    val_loss = best_train_val['val_loss'].mean()\n",
    "    val_accuracy = best_train_val['val_accuracy'].mean()\n",
    "\n",
    "    return {\n",
    "        'index': i_p,\n",
    "        'params': params,\n",
    "        'val_loss': val_loss,\n",
    "        'val_accuracy': val_accuracy\n",
    "    }\n"
   ]
  },
  {
   "cell_type": "code",
   "execution_count": 22,
   "id": "97886f58",
   "metadata": {},
   "outputs": [],
   "source": [
    "def CNN_GridSearchCV(X_train_array, y_train_array, param_grid, build_model,random_state, n_splits=5, shuffle=True, n_jobs=1):\n",
    "    skf = StratifiedKFold(n_splits=n_splits, shuffle=shuffle, random_state=random_state)\n",
    "\n",
    "    param_combinations = [\n",
    "        dict(zip(param_grid.keys(), values))\n",
    "        for values in itertools.product(*param_grid.values())\n",
    "    ]\n",
    "\n",
    "    # if 1 then it's sequential\n",
    "    results = Parallel(n_jobs=n_jobs)(\n",
    "        delayed(evaluate_combination)(i, params, X_train_array, y_train_array, skf, build_model)\n",
    "        for i, params in enumerate(param_combinations)\n",
    "    )\n",
    "\n",
    "    best_result = max(results, key=lambda r: r['val_accuracy'])\n",
    "    best_params = best_result['params']\n",
    "    best_accuracy = best_result['val_accuracy']\n",
    "\n",
    "    mean_scores = [(r['val_loss'], r['val_accuracy']) for r in results]\n",
    "\n",
    "    return best_params, best_accuracy, mean_scores\n"
   ]
  },
  {
   "cell_type": "code",
   "execution_count": 23,
   "id": "fdb653e8",
   "metadata": {},
   "outputs": [
    {
     "name": "stdout",
     "output_type": "stream",
     "text": [
      "Num GPUs Available: 0\n"
     ]
    }
   ],
   "source": [
    "print(\"Num GPUs Available:\", len(tf.config.list_physical_devices('GPU')))"
   ]
  },
  {
   "cell_type": "code",
   "execution_count": 53,
   "id": "ff710e36",
   "metadata": {},
   "outputs": [],
   "source": [
    "param_grid = {\"learning_rate\": [1e-2, 1e-4],\n",
    "              \"momentum\": [0.0, 0.9],\n",
    "              \"kernel_size\": [3,5],\n",
    "              \"n_filters\": [64, 128],\n",
    "              \"n_neurons\": [64, 128]}"
   ]
  },
  {
   "cell_type": "code",
   "execution_count": 54,
   "id": "b569e2a3",
   "metadata": {},
   "outputs": [
    {
     "ename": "KeyboardInterrupt",
     "evalue": "",
     "output_type": "error",
     "traceback": [
      "\u001b[31m---------------------------------------------------------------------------\u001b[39m",
      "\u001b[31mKeyboardInterrupt\u001b[39m                         Traceback (most recent call last)",
      "\u001b[36mCell\u001b[39m\u001b[36m \u001b[39m\u001b[32mIn[54]\u001b[39m\u001b[32m, line 1\u001b[39m\n\u001b[32m----> \u001b[39m\u001b[32m1\u001b[39m best_params, best_accuracy, mean_scores  = \u001b[43mCNN_GridSearchCV\u001b[49m\u001b[43m(\u001b[49m\u001b[43mX_train_array\u001b[49m\u001b[43m,\u001b[49m\u001b[43m \u001b[49m\u001b[43my_train_array\u001b[49m\u001b[43m,\u001b[49m\u001b[43m \u001b[49m\u001b[43mparam_grid\u001b[49m\u001b[43m,\u001b[49m\u001b[43m \u001b[49m\u001b[43mbuild_first_model\u001b[49m\u001b[43m,\u001b[49m\u001b[43m \u001b[49m\u001b[32;43m42\u001b[39;49m\u001b[43m,\u001b[49m\u001b[43m \u001b[49m\u001b[32;43m2\u001b[39;49m\u001b[43m,\u001b[49m\u001b[43m \u001b[49m\u001b[43mn_jobs\u001b[49m\u001b[43m \u001b[49m\u001b[43m=\u001b[49m\u001b[43m \u001b[49m\u001b[43m-\u001b[49m\u001b[32;43m1\u001b[39;49m\u001b[43m)\u001b[49m\n",
      "\u001b[36mCell\u001b[39m\u001b[36m \u001b[39m\u001b[32mIn[51]\u001b[39m\u001b[32m, line 10\u001b[39m, in \u001b[36mCNN_GridSearchCV\u001b[39m\u001b[34m(X_train_array, y_train_array, param_grid, build_model, random_state, n_splits, shuffle, n_jobs)\u001b[39m\n\u001b[32m      4\u001b[39m param_combinations = [\n\u001b[32m      5\u001b[39m     \u001b[38;5;28mdict\u001b[39m(\u001b[38;5;28mzip\u001b[39m(param_grid.keys(), values))\n\u001b[32m      6\u001b[39m     \u001b[38;5;28;01mfor\u001b[39;00m values \u001b[38;5;129;01min\u001b[39;00m itertools.product(*param_grid.values())\n\u001b[32m      7\u001b[39m ]\n\u001b[32m      9\u001b[39m \u001b[38;5;66;03m# if 1 then it's sequential\u001b[39;00m\n\u001b[32m---> \u001b[39m\u001b[32m10\u001b[39m results = \u001b[43mParallel\u001b[49m\u001b[43m(\u001b[49m\u001b[43mn_jobs\u001b[49m\u001b[43m=\u001b[49m\u001b[43mn_jobs\u001b[49m\u001b[43m)\u001b[49m\u001b[43m(\u001b[49m\n\u001b[32m     11\u001b[39m \u001b[43m    \u001b[49m\u001b[43mdelayed\u001b[49m\u001b[43m(\u001b[49m\u001b[43mevaluate_combination\u001b[49m\u001b[43m)\u001b[49m\u001b[43m(\u001b[49m\u001b[43mi\u001b[49m\u001b[43m,\u001b[49m\u001b[43m \u001b[49m\u001b[43mparams\u001b[49m\u001b[43m,\u001b[49m\u001b[43m \u001b[49m\u001b[43mX_train_array\u001b[49m\u001b[43m,\u001b[49m\u001b[43m \u001b[49m\u001b[43my_train_array\u001b[49m\u001b[43m,\u001b[49m\u001b[43m \u001b[49m\u001b[43mskf\u001b[49m\u001b[43m,\u001b[49m\u001b[43m \u001b[49m\u001b[43mbuild_model\u001b[49m\u001b[43m)\u001b[49m\n\u001b[32m     12\u001b[39m \u001b[43m    \u001b[49m\u001b[38;5;28;43;01mfor\u001b[39;49;00m\u001b[43m \u001b[49m\u001b[43mi\u001b[49m\u001b[43m,\u001b[49m\u001b[43m \u001b[49m\u001b[43mparams\u001b[49m\u001b[43m \u001b[49m\u001b[38;5;129;43;01min\u001b[39;49;00m\u001b[43m \u001b[49m\u001b[38;5;28;43menumerate\u001b[39;49m\u001b[43m(\u001b[49m\u001b[43mparam_combinations\u001b[49m\u001b[43m)\u001b[49m\n\u001b[32m     13\u001b[39m \u001b[43m\u001b[49m\u001b[43m)\u001b[49m\n\u001b[32m     15\u001b[39m best_result = \u001b[38;5;28mmax\u001b[39m(results, key=\u001b[38;5;28;01mlambda\u001b[39;00m r: r[\u001b[33m'\u001b[39m\u001b[33mval_accuracy\u001b[39m\u001b[33m'\u001b[39m])\n\u001b[32m     16\u001b[39m best_params = best_result[\u001b[33m'\u001b[39m\u001b[33mparams\u001b[39m\u001b[33m'\u001b[39m]\n",
      "\u001b[36mFile \u001b[39m\u001b[32mc:\\Users\\faarc\\anaconda3\\envs\\deepl\\Lib\\site-packages\\joblib\\parallel.py:2072\u001b[39m, in \u001b[36mParallel.__call__\u001b[39m\u001b[34m(self, iterable)\u001b[39m\n\u001b[32m   2066\u001b[39m \u001b[38;5;66;03m# The first item from the output is blank, but it makes the interpreter\u001b[39;00m\n\u001b[32m   2067\u001b[39m \u001b[38;5;66;03m# progress until it enters the Try/Except block of the generator and\u001b[39;00m\n\u001b[32m   2068\u001b[39m \u001b[38;5;66;03m# reaches the first `yield` statement. This starts the asynchronous\u001b[39;00m\n\u001b[32m   2069\u001b[39m \u001b[38;5;66;03m# dispatch of the tasks to the workers.\u001b[39;00m\n\u001b[32m   2070\u001b[39m \u001b[38;5;28mnext\u001b[39m(output)\n\u001b[32m-> \u001b[39m\u001b[32m2072\u001b[39m \u001b[38;5;28;01mreturn\u001b[39;00m output \u001b[38;5;28;01mif\u001b[39;00m \u001b[38;5;28mself\u001b[39m.return_generator \u001b[38;5;28;01melse\u001b[39;00m \u001b[38;5;28;43mlist\u001b[39;49m\u001b[43m(\u001b[49m\u001b[43moutput\u001b[49m\u001b[43m)\u001b[49m\n",
      "\u001b[36mFile \u001b[39m\u001b[32mc:\\Users\\faarc\\anaconda3\\envs\\deepl\\Lib\\site-packages\\joblib\\parallel.py:1682\u001b[39m, in \u001b[36mParallel._get_outputs\u001b[39m\u001b[34m(self, iterator, pre_dispatch)\u001b[39m\n\u001b[32m   1679\u001b[39m     \u001b[38;5;28;01myield\u001b[39;00m\n\u001b[32m   1681\u001b[39m     \u001b[38;5;28;01mwith\u001b[39;00m \u001b[38;5;28mself\u001b[39m._backend.retrieval_context():\n\u001b[32m-> \u001b[39m\u001b[32m1682\u001b[39m         \u001b[38;5;28;01myield from\u001b[39;00m \u001b[38;5;28mself\u001b[39m._retrieve()\n\u001b[32m   1684\u001b[39m \u001b[38;5;28;01mexcept\u001b[39;00m \u001b[38;5;167;01mGeneratorExit\u001b[39;00m:\n\u001b[32m   1685\u001b[39m     \u001b[38;5;66;03m# The generator has been garbage collected before being fully\u001b[39;00m\n\u001b[32m   1686\u001b[39m     \u001b[38;5;66;03m# consumed. This aborts the remaining tasks if possible and warn\u001b[39;00m\n\u001b[32m   1687\u001b[39m     \u001b[38;5;66;03m# the user if necessary.\u001b[39;00m\n\u001b[32m   1688\u001b[39m     \u001b[38;5;28mself\u001b[39m._exception = \u001b[38;5;28;01mTrue\u001b[39;00m\n",
      "\u001b[36mFile \u001b[39m\u001b[32mc:\\Users\\faarc\\anaconda3\\envs\\deepl\\Lib\\site-packages\\joblib\\parallel.py:1800\u001b[39m, in \u001b[36mParallel._retrieve\u001b[39m\u001b[34m(self)\u001b[39m\n\u001b[32m   1789\u001b[39m \u001b[38;5;28;01mif\u001b[39;00m \u001b[38;5;28mself\u001b[39m.return_ordered:\n\u001b[32m   1790\u001b[39m     \u001b[38;5;66;03m# Case ordered: wait for completion (or error) of the next job\u001b[39;00m\n\u001b[32m   1791\u001b[39m     \u001b[38;5;66;03m# that have been dispatched and not retrieved yet. If no job\u001b[39;00m\n\u001b[32m   (...)\u001b[39m\u001b[32m   1795\u001b[39m     \u001b[38;5;66;03m# control only have to be done on the amount of time the next\u001b[39;00m\n\u001b[32m   1796\u001b[39m     \u001b[38;5;66;03m# dispatched job is pending.\u001b[39;00m\n\u001b[32m   1797\u001b[39m     \u001b[38;5;28;01mif\u001b[39;00m (nb_jobs == \u001b[32m0\u001b[39m) \u001b[38;5;129;01mor\u001b[39;00m (\n\u001b[32m   1798\u001b[39m         \u001b[38;5;28mself\u001b[39m._jobs[\u001b[32m0\u001b[39m].get_status(timeout=\u001b[38;5;28mself\u001b[39m.timeout) == TASK_PENDING\n\u001b[32m   1799\u001b[39m     ):\n\u001b[32m-> \u001b[39m\u001b[32m1800\u001b[39m         time.sleep(\u001b[32m0.01\u001b[39m)\n\u001b[32m   1801\u001b[39m         \u001b[38;5;28;01mcontinue\u001b[39;00m\n\u001b[32m   1803\u001b[39m \u001b[38;5;28;01melif\u001b[39;00m nb_jobs == \u001b[32m0\u001b[39m:\n\u001b[32m   1804\u001b[39m     \u001b[38;5;66;03m# Case unordered: jobs are added to the list of jobs to\u001b[39;00m\n\u001b[32m   1805\u001b[39m     \u001b[38;5;66;03m# retrieve `self._jobs` only once completed or in error, which\u001b[39;00m\n\u001b[32m   (...)\u001b[39m\u001b[32m   1811\u001b[39m     \u001b[38;5;66;03m# timeouts before any other dispatched job has completed and\u001b[39;00m\n\u001b[32m   1812\u001b[39m     \u001b[38;5;66;03m# been added to `self._jobs` to be retrieved.\u001b[39;00m\n",
      "\u001b[31mKeyboardInterrupt\u001b[39m: "
     ]
    }
   ],
   "source": [
    "best_params, best_accuracy, mean_scores  = CNN_GridSearchCV(X_train_array, y_train_array, param_grid, build_first_model, 42, 2, n_jobs = -1)"
   ]
  },
  {
   "cell_type": "code",
   "execution_count": 40,
   "id": "5dd35ad5",
   "metadata": {},
   "outputs": [
    {
     "data": {
      "text/plain": [
       "({'learning_rate': 0.01,\n",
       "  'momentum': 0.9,\n",
       "  'kernel_size': 5,\n",
       "  'n_filters': 64,\n",
       "  'n_neurons': 128},\n",
       " np.float64(0.9885714173316955))"
      ]
     },
     "execution_count": 40,
     "metadata": {},
     "output_type": "execute_result"
    }
   ],
   "source": [
    "best_params, best_accuracy"
   ]
  },
  {
   "cell_type": "code",
   "execution_count": 41,
   "id": "84f5ccf4",
   "metadata": {},
   "outputs": [
    {
     "name": "stdout",
     "output_type": "stream",
     "text": [
      "Epoch 1/30\n",
      "\u001b[1m55/55\u001b[0m \u001b[32m━━━━━━━━━━━━━━━━━━━━\u001b[0m\u001b[37m\u001b[0m \u001b[1m1s\u001b[0m 8ms/step - accuracy: 0.4085 - loss: 1.0586\n",
      "Epoch 2/30\n",
      "\u001b[1m55/55\u001b[0m \u001b[32m━━━━━━━━━━━━━━━━━━━━\u001b[0m\u001b[37m\u001b[0m \u001b[1m1s\u001b[0m 9ms/step - accuracy: 0.7663 - loss: 0.6290\n",
      "Epoch 3/30\n",
      "\u001b[1m55/55\u001b[0m \u001b[32m━━━━━━━━━━━━━━━━━━━━\u001b[0m\u001b[37m\u001b[0m \u001b[1m1s\u001b[0m 8ms/step - accuracy: 0.8488 - loss: 0.4285\n",
      "Epoch 4/30\n",
      "\u001b[1m55/55\u001b[0m \u001b[32m━━━━━━━━━━━━━━━━━━━━\u001b[0m\u001b[37m\u001b[0m \u001b[1m1s\u001b[0m 8ms/step - accuracy: 0.9083 - loss: 0.2708\n",
      "Epoch 5/30\n",
      "\u001b[1m55/55\u001b[0m \u001b[32m━━━━━━━━━━━━━━━━━━━━\u001b[0m\u001b[37m\u001b[0m \u001b[1m1s\u001b[0m 8ms/step - accuracy: 0.9344 - loss: 0.1868\n",
      "Epoch 6/30\n",
      "\u001b[1m55/55\u001b[0m \u001b[32m━━━━━━━━━━━━━━━━━━━━\u001b[0m\u001b[37m\u001b[0m \u001b[1m1s\u001b[0m 8ms/step - accuracy: 0.9563 - loss: 0.1440\n",
      "Epoch 7/30\n",
      "\u001b[1m55/55\u001b[0m \u001b[32m━━━━━━━━━━━━━━━━━━━━\u001b[0m\u001b[37m\u001b[0m \u001b[1m1s\u001b[0m 8ms/step - accuracy: 0.9623 - loss: 0.1473\n",
      "Epoch 8/30\n",
      "\u001b[1m55/55\u001b[0m \u001b[32m━━━━━━━━━━━━━━━━━━━━\u001b[0m\u001b[37m\u001b[0m \u001b[1m1s\u001b[0m 9ms/step - accuracy: 0.9617 - loss: 0.1137\n",
      "Epoch 9/30\n",
      "\u001b[1m55/55\u001b[0m \u001b[32m━━━━━━━━━━━━━━━━━━━━\u001b[0m\u001b[37m\u001b[0m \u001b[1m1s\u001b[0m 8ms/step - accuracy: 0.9652 - loss: 0.1051\n",
      "Epoch 10/30\n",
      "\u001b[1m55/55\u001b[0m \u001b[32m━━━━━━━━━━━━━━━━━━━━\u001b[0m\u001b[37m\u001b[0m \u001b[1m1s\u001b[0m 8ms/step - accuracy: 0.9649 - loss: 0.1004\n",
      "Epoch 11/30\n",
      "\u001b[1m55/55\u001b[0m \u001b[32m━━━━━━━━━━━━━━━━━━━━\u001b[0m\u001b[37m\u001b[0m \u001b[1m1s\u001b[0m 8ms/step - accuracy: 0.9731 - loss: 0.0783\n",
      "Epoch 12/30\n",
      "\u001b[1m55/55\u001b[0m \u001b[32m━━━━━━━━━━━━━━━━━━━━\u001b[0m\u001b[37m\u001b[0m \u001b[1m1s\u001b[0m 8ms/step - accuracy: 0.9652 - loss: 0.1137\n",
      "Epoch 13/30\n",
      "\u001b[1m55/55\u001b[0m \u001b[32m━━━━━━━━━━━━━━━━━━━━\u001b[0m\u001b[37m\u001b[0m \u001b[1m1s\u001b[0m 8ms/step - accuracy: 0.9783 - loss: 0.0630\n",
      "Epoch 14/30\n",
      "\u001b[1m55/55\u001b[0m \u001b[32m━━━━━━━━━━━━━━━━━━━━\u001b[0m\u001b[37m\u001b[0m \u001b[1m1s\u001b[0m 8ms/step - accuracy: 0.9803 - loss: 0.0688\n",
      "Epoch 15/30\n",
      "\u001b[1m55/55\u001b[0m \u001b[32m━━━━━━━━━━━━━━━━━━━━\u001b[0m\u001b[37m\u001b[0m \u001b[1m1s\u001b[0m 8ms/step - accuracy: 0.9775 - loss: 0.0570\n",
      "Epoch 16/30\n",
      "\u001b[1m55/55\u001b[0m \u001b[32m━━━━━━━━━━━━━━━━━━━━\u001b[0m\u001b[37m\u001b[0m \u001b[1m1s\u001b[0m 8ms/step - accuracy: 0.9815 - loss: 0.0575\n",
      "Epoch 17/30\n",
      "\u001b[1m55/55\u001b[0m \u001b[32m━━━━━━━━━━━━━━━━━━━━\u001b[0m\u001b[37m\u001b[0m \u001b[1m1s\u001b[0m 8ms/step - accuracy: 0.9814 - loss: 0.0479\n",
      "Epoch 18/30\n",
      "\u001b[1m55/55\u001b[0m \u001b[32m━━━━━━━━━━━━━━━━━━━━\u001b[0m\u001b[37m\u001b[0m \u001b[1m1s\u001b[0m 8ms/step - accuracy: 0.9852 - loss: 0.0396\n",
      "Epoch 19/30\n",
      "\u001b[1m55/55\u001b[0m \u001b[32m━━━━━━━━━━━━━━━━━━━━\u001b[0m\u001b[37m\u001b[0m \u001b[1m1s\u001b[0m 8ms/step - accuracy: 0.9814 - loss: 0.0653\n",
      "Epoch 20/30\n",
      "\u001b[1m55/55\u001b[0m \u001b[32m━━━━━━━━━━━━━━━━━━━━\u001b[0m\u001b[37m\u001b[0m \u001b[1m1s\u001b[0m 8ms/step - accuracy: 0.9842 - loss: 0.0467\n",
      "Epoch 21/30\n",
      "\u001b[1m55/55\u001b[0m \u001b[32m━━━━━━━━━━━━━━━━━━━━\u001b[0m\u001b[37m\u001b[0m \u001b[1m1s\u001b[0m 9ms/step - accuracy: 0.9907 - loss: 0.0350\n",
      "Epoch 22/30\n",
      "\u001b[1m55/55\u001b[0m \u001b[32m━━━━━━━━━━━━━━━━━━━━\u001b[0m\u001b[37m\u001b[0m \u001b[1m1s\u001b[0m 9ms/step - accuracy: 0.9875 - loss: 0.0574\n",
      "Epoch 23/30\n",
      "\u001b[1m55/55\u001b[0m \u001b[32m━━━━━━━━━━━━━━━━━━━━\u001b[0m\u001b[37m\u001b[0m \u001b[1m1s\u001b[0m 8ms/step - accuracy: 0.9869 - loss: 0.0476\n",
      "Epoch 24/30\n",
      "\u001b[1m55/55\u001b[0m \u001b[32m━━━━━━━━━━━━━━━━━━━━\u001b[0m\u001b[37m\u001b[0m \u001b[1m1s\u001b[0m 8ms/step - accuracy: 0.9864 - loss: 0.0412\n",
      "Epoch 25/30\n",
      "\u001b[1m55/55\u001b[0m \u001b[32m━━━━━━━━━━━━━━━━━━━━\u001b[0m\u001b[37m\u001b[0m \u001b[1m1s\u001b[0m 9ms/step - accuracy: 0.9908 - loss: 0.0334\n",
      "Epoch 26/30\n",
      "\u001b[1m55/55\u001b[0m \u001b[32m━━━━━━━━━━━━━━━━━━━━\u001b[0m\u001b[37m\u001b[0m \u001b[1m1s\u001b[0m 9ms/step - accuracy: 0.9933 - loss: 0.0325\n",
      "Epoch 27/30\n",
      "\u001b[1m55/55\u001b[0m \u001b[32m━━━━━━━━━━━━━━━━━━━━\u001b[0m\u001b[37m\u001b[0m \u001b[1m1s\u001b[0m 8ms/step - accuracy: 0.9898 - loss: 0.0360\n",
      "Epoch 28/30\n",
      "\u001b[1m55/55\u001b[0m \u001b[32m━━━━━━━━━━━━━━━━━━━━\u001b[0m\u001b[37m\u001b[0m \u001b[1m1s\u001b[0m 8ms/step - accuracy: 0.9918 - loss: 0.0256\n",
      "Epoch 29/30\n",
      "\u001b[1m55/55\u001b[0m \u001b[32m━━━━━━━━━━━━━━━━━━━━\u001b[0m\u001b[37m\u001b[0m \u001b[1m1s\u001b[0m 8ms/step - accuracy: 0.9893 - loss: 0.0390\n",
      "Epoch 30/30\n",
      "\u001b[1m55/55\u001b[0m \u001b[32m━━━━━━━━━━━━━━━━━━━━\u001b[0m\u001b[37m\u001b[0m \u001b[1m1s\u001b[0m 8ms/step - accuracy: 0.9854 - loss: 0.0474\n"
     ]
    },
    {
     "data": {
      "text/plain": [
       "<keras.src.callbacks.history.History at 0x14604c9e610>"
      ]
     },
     "execution_count": 41,
     "metadata": {},
     "output_type": "execute_result"
    }
   ],
   "source": [
    "model = build_first_model(**best_params, sparse= False)\n",
    "model.fit(cv_train_set, epochs=30)"
   ]
  },
  {
   "cell_type": "code",
   "execution_count": 42,
   "id": "2b827a6e",
   "metadata": {},
   "outputs": [
    {
     "name": "stdout",
     "output_type": "stream",
     "text": [
      "\u001b[1m14/14\u001b[0m \u001b[32m━━━━━━━━━━━━━━━━━━━━\u001b[0m\u001b[37m\u001b[0m \u001b[1m0s\u001b[0m 6ms/step - accuracy: 0.9836 - loss: 0.0391\n"
     ]
    },
    {
     "data": {
      "text/plain": [
       "[0.03406902030110359, 0.9885844588279724]"
      ]
     },
     "execution_count": 42,
     "metadata": {},
     "output_type": "execute_result"
    }
   ],
   "source": [
    "model.evaluate(cv_test_set)"
   ]
  },
  {
   "cell_type": "code",
   "execution_count": 44,
   "id": "17942763",
   "metadata": {},
   "outputs": [
    {
     "data": {
      "text/html": [
       "<pre style=\"white-space:pre;overflow-x:auto;line-height:normal;font-family:Menlo,'DejaVu Sans Mono',consolas,'Courier New',monospace\"><span style=\"font-weight: bold\">Model: \"sequential_5\"</span>\n",
       "</pre>\n"
      ],
      "text/plain": [
       "\u001b[1mModel: \"sequential_5\"\u001b[0m\n"
      ]
     },
     "metadata": {},
     "output_type": "display_data"
    },
    {
     "data": {
      "text/html": [
       "<pre style=\"white-space:pre;overflow-x:auto;line-height:normal;font-family:Menlo,'DejaVu Sans Mono',consolas,'Courier New',monospace\">┏━━━━━━━━━━━━━━━━━━━━━━━━━━━━━━━━━┳━━━━━━━━━━━━━━━━━━━━━━━━┳━━━━━━━━━━━━━━━┓\n",
       "┃<span style=\"font-weight: bold\"> Layer (type)                    </span>┃<span style=\"font-weight: bold\"> Output Shape           </span>┃<span style=\"font-weight: bold\">       Param # </span>┃\n",
       "┡━━━━━━━━━━━━━━━━━━━━━━━━━━━━━━━━━╇━━━━━━━━━━━━━━━━━━━━━━━━╇━━━━━━━━━━━━━━━┩\n",
       "│ rescaling (<span style=\"color: #0087ff; text-decoration-color: #0087ff\">Rescaling</span>)           │ (<span style=\"color: #00d7ff; text-decoration-color: #00d7ff\">None</span>, <span style=\"color: #00af00; text-decoration-color: #00af00\">37</span>, <span style=\"color: #00af00; text-decoration-color: #00af00\">25</span>, <span style=\"color: #00af00; text-decoration-color: #00af00\">3</span>)      │             <span style=\"color: #00af00; text-decoration-color: #00af00\">0</span> │\n",
       "├─────────────────────────────────┼────────────────────────┼───────────────┤\n",
       "│ sequential_1 (<span style=\"color: #0087ff; text-decoration-color: #0087ff\">Sequential</span>)       │ (<span style=\"color: #00d7ff; text-decoration-color: #00d7ff\">None</span>, <span style=\"color: #00af00; text-decoration-color: #00af00\">37</span>, <span style=\"color: #00af00; text-decoration-color: #00af00\">25</span>, <span style=\"color: #00af00; text-decoration-color: #00af00\">3</span>)      │             <span style=\"color: #00af00; text-decoration-color: #00af00\">0</span> │\n",
       "├─────────────────────────────────┼────────────────────────┼───────────────┤\n",
       "│ conv2d_3 (<span style=\"color: #0087ff; text-decoration-color: #0087ff\">Conv2D</span>)               │ (<span style=\"color: #00d7ff; text-decoration-color: #00d7ff\">None</span>, <span style=\"color: #00af00; text-decoration-color: #00af00\">37</span>, <span style=\"color: #00af00; text-decoration-color: #00af00\">25</span>, <span style=\"color: #00af00; text-decoration-color: #00af00\">64</span>)     │         <span style=\"color: #00af00; text-decoration-color: #00af00\">4,864</span> │\n",
       "├─────────────────────────────────┼────────────────────────┼───────────────┤\n",
       "│ max_pooling2d_3 (<span style=\"color: #0087ff; text-decoration-color: #0087ff\">MaxPooling2D</span>)  │ (<span style=\"color: #00d7ff; text-decoration-color: #00d7ff\">None</span>, <span style=\"color: #00af00; text-decoration-color: #00af00\">18</span>, <span style=\"color: #00af00; text-decoration-color: #00af00\">12</span>, <span style=\"color: #00af00; text-decoration-color: #00af00\">64</span>)     │             <span style=\"color: #00af00; text-decoration-color: #00af00\">0</span> │\n",
       "├─────────────────────────────────┼────────────────────────┼───────────────┤\n",
       "│ flatten_3 (<span style=\"color: #0087ff; text-decoration-color: #0087ff\">Flatten</span>)             │ (<span style=\"color: #00d7ff; text-decoration-color: #00d7ff\">None</span>, <span style=\"color: #00af00; text-decoration-color: #00af00\">13824</span>)          │             <span style=\"color: #00af00; text-decoration-color: #00af00\">0</span> │\n",
       "├─────────────────────────────────┼────────────────────────┼───────────────┤\n",
       "│ dense_6 (<span style=\"color: #0087ff; text-decoration-color: #0087ff\">Dense</span>)                 │ (<span style=\"color: #00d7ff; text-decoration-color: #00d7ff\">None</span>, <span style=\"color: #00af00; text-decoration-color: #00af00\">128</span>)            │     <span style=\"color: #00af00; text-decoration-color: #00af00\">1,769,600</span> │\n",
       "├─────────────────────────────────┼────────────────────────┼───────────────┤\n",
       "│ dense_7 (<span style=\"color: #0087ff; text-decoration-color: #0087ff\">Dense</span>)                 │ (<span style=\"color: #00d7ff; text-decoration-color: #00d7ff\">None</span>, <span style=\"color: #00af00; text-decoration-color: #00af00\">3</span>)              │           <span style=\"color: #00af00; text-decoration-color: #00af00\">387</span> │\n",
       "└─────────────────────────────────┴────────────────────────┴───────────────┘\n",
       "</pre>\n"
      ],
      "text/plain": [
       "┏━━━━━━━━━━━━━━━━━━━━━━━━━━━━━━━━━┳━━━━━━━━━━━━━━━━━━━━━━━━┳━━━━━━━━━━━━━━━┓\n",
       "┃\u001b[1m \u001b[0m\u001b[1mLayer (type)                   \u001b[0m\u001b[1m \u001b[0m┃\u001b[1m \u001b[0m\u001b[1mOutput Shape          \u001b[0m\u001b[1m \u001b[0m┃\u001b[1m \u001b[0m\u001b[1m      Param #\u001b[0m\u001b[1m \u001b[0m┃\n",
       "┡━━━━━━━━━━━━━━━━━━━━━━━━━━━━━━━━━╇━━━━━━━━━━━━━━━━━━━━━━━━╇━━━━━━━━━━━━━━━┩\n",
       "│ rescaling (\u001b[38;5;33mRescaling\u001b[0m)           │ (\u001b[38;5;45mNone\u001b[0m, \u001b[38;5;34m37\u001b[0m, \u001b[38;5;34m25\u001b[0m, \u001b[38;5;34m3\u001b[0m)      │             \u001b[38;5;34m0\u001b[0m │\n",
       "├─────────────────────────────────┼────────────────────────┼───────────────┤\n",
       "│ sequential_1 (\u001b[38;5;33mSequential\u001b[0m)       │ (\u001b[38;5;45mNone\u001b[0m, \u001b[38;5;34m37\u001b[0m, \u001b[38;5;34m25\u001b[0m, \u001b[38;5;34m3\u001b[0m)      │             \u001b[38;5;34m0\u001b[0m │\n",
       "├─────────────────────────────────┼────────────────────────┼───────────────┤\n",
       "│ conv2d_3 (\u001b[38;5;33mConv2D\u001b[0m)               │ (\u001b[38;5;45mNone\u001b[0m, \u001b[38;5;34m37\u001b[0m, \u001b[38;5;34m25\u001b[0m, \u001b[38;5;34m64\u001b[0m)     │         \u001b[38;5;34m4,864\u001b[0m │\n",
       "├─────────────────────────────────┼────────────────────────┼───────────────┤\n",
       "│ max_pooling2d_3 (\u001b[38;5;33mMaxPooling2D\u001b[0m)  │ (\u001b[38;5;45mNone\u001b[0m, \u001b[38;5;34m18\u001b[0m, \u001b[38;5;34m12\u001b[0m, \u001b[38;5;34m64\u001b[0m)     │             \u001b[38;5;34m0\u001b[0m │\n",
       "├─────────────────────────────────┼────────────────────────┼───────────────┤\n",
       "│ flatten_3 (\u001b[38;5;33mFlatten\u001b[0m)             │ (\u001b[38;5;45mNone\u001b[0m, \u001b[38;5;34m13824\u001b[0m)          │             \u001b[38;5;34m0\u001b[0m │\n",
       "├─────────────────────────────────┼────────────────────────┼───────────────┤\n",
       "│ dense_6 (\u001b[38;5;33mDense\u001b[0m)                 │ (\u001b[38;5;45mNone\u001b[0m, \u001b[38;5;34m128\u001b[0m)            │     \u001b[38;5;34m1,769,600\u001b[0m │\n",
       "├─────────────────────────────────┼────────────────────────┼───────────────┤\n",
       "│ dense_7 (\u001b[38;5;33mDense\u001b[0m)                 │ (\u001b[38;5;45mNone\u001b[0m, \u001b[38;5;34m3\u001b[0m)              │           \u001b[38;5;34m387\u001b[0m │\n",
       "└─────────────────────────────────┴────────────────────────┴───────────────┘\n"
      ]
     },
     "metadata": {},
     "output_type": "display_data"
    },
    {
     "data": {
      "text/html": [
       "<pre style=\"white-space:pre;overflow-x:auto;line-height:normal;font-family:Menlo,'DejaVu Sans Mono',consolas,'Courier New',monospace\"><span style=\"font-weight: bold\"> Total params: </span><span style=\"color: #00af00; text-decoration-color: #00af00\">3,549,704</span> (13.54 MB)\n",
       "</pre>\n"
      ],
      "text/plain": [
       "\u001b[1m Total params: \u001b[0m\u001b[38;5;34m3,549,704\u001b[0m (13.54 MB)\n"
      ]
     },
     "metadata": {},
     "output_type": "display_data"
    },
    {
     "data": {
      "text/html": [
       "<pre style=\"white-space:pre;overflow-x:auto;line-height:normal;font-family:Menlo,'DejaVu Sans Mono',consolas,'Courier New',monospace\"><span style=\"font-weight: bold\"> Trainable params: </span><span style=\"color: #00af00; text-decoration-color: #00af00\">1,774,851</span> (6.77 MB)\n",
       "</pre>\n"
      ],
      "text/plain": [
       "\u001b[1m Trainable params: \u001b[0m\u001b[38;5;34m1,774,851\u001b[0m (6.77 MB)\n"
      ]
     },
     "metadata": {},
     "output_type": "display_data"
    },
    {
     "data": {
      "text/html": [
       "<pre style=\"white-space:pre;overflow-x:auto;line-height:normal;font-family:Menlo,'DejaVu Sans Mono',consolas,'Courier New',monospace\"><span style=\"font-weight: bold\"> Non-trainable params: </span><span style=\"color: #00af00; text-decoration-color: #00af00\">0</span> (0.00 B)\n",
       "</pre>\n"
      ],
      "text/plain": [
       "\u001b[1m Non-trainable params: \u001b[0m\u001b[38;5;34m0\u001b[0m (0.00 B)\n"
      ]
     },
     "metadata": {},
     "output_type": "display_data"
    },
    {
     "data": {
      "text/html": [
       "<pre style=\"white-space:pre;overflow-x:auto;line-height:normal;font-family:Menlo,'DejaVu Sans Mono',consolas,'Courier New',monospace\"><span style=\"font-weight: bold\"> Optimizer params: </span><span style=\"color: #00af00; text-decoration-color: #00af00\">1,774,853</span> (6.77 MB)\n",
       "</pre>\n"
      ],
      "text/plain": [
       "\u001b[1m Optimizer params: \u001b[0m\u001b[38;5;34m1,774,853\u001b[0m (6.77 MB)\n"
      ]
     },
     "metadata": {},
     "output_type": "display_data"
    }
   ],
   "source": [
    "model.summary()"
   ]
  },
  {
   "cell_type": "markdown",
   "id": "039c2908",
   "metadata": {},
   "source": [
    "## Second"
   ]
  },
  {
   "cell_type": "code",
   "execution_count": 100,
   "id": "dad792e4",
   "metadata": {},
   "outputs": [],
   "source": [
    "normalization_layer = Rescaling(1./255)\n",
    "data_augmentation = Sequential([\n",
    "    RandomFlip(\"vertical\"),\n",
    "    RandomRotation(0.05),\n",
    "    RandomZoom(0.05)\n",
    "])\n",
    "\n",
    "# todo: this can be better...\n",
    "if grayscale:\n",
    "    dimension = 1\n",
    "else:\n",
    "    dimension = 3\n",
    "\n",
    "# using the best params from last model but with adam default learning rate: good results, comparable to before\n",
    "# pool size tends to do well in size 5, tried [2,3,5]\n",
    "# [64, 128] filters and neurons tried, 64 is best\n",
    "# momentum (beta_1) is the same, beta_2 is better at 0.99 for [0.99, 0.999]\n",
    "\n",
    "base_params_second_model = {'n_filters': 64, 'n_neurons': 64, 'learning_rate': 1e-3, 'dropout_rate': 0.5,\n",
    "'kernel_size': 5, 'pool_size': 2, 'sparse': True, 'momentum': 0.9, 'beta_2': 0.99}\n",
    "\n",
    "def build_second_model(n_filters = 64, n_neurons = 64, learning_rate = 1e-3, dropout_rate = 0.5, \n",
    "                      kernel_size = 5, pool_size = 2, sparse = True, momentum = 0.9, beta_2 = 0.99 ,**kwargs):\n",
    "    \n",
    "    #todo: true/false data augmentation\n",
    "    model = Sequential([\n",
    "    Input(shape = (image_size[0], image_size[1], dimension)),\n",
    "    normalization_layer,\n",
    "    data_augmentation,\n",
    "    Conv2D(n_filters, kernel_size, activation = \"relu\", padding = \"same\"),\n",
    "    MaxPooling2D(pool_size),\n",
    "    Conv2D(n_filters, kernel_size, activation = \"relu\", padding = \"same\"),\n",
    "    MaxPooling2D(pool_size),\n",
    "    Flatten(),\n",
    "    Dense(n_neurons, activation=\"relu\"),\n",
    "    Dropout(dropout_rate),\n",
    "    Dense(int(n_neurons/2), activation=\"relu\"),\n",
    "    Dropout(dropout_rate),\n",
    "    Dense(3, activation = \"softmax\")\n",
    "                    ])\n",
    "    \n",
    "    optimizer = Adam(learning_rate=learning_rate, beta_1=momentum, beta_2=beta_2)\n",
    "    # optimizer = SGD(learning_rate = learning_rate, momentum = momentum)\n",
    "    \n",
    "    loss = \"categorical_crossentropy\"\n",
    "    if sparse:\n",
    "        loss = \"sparse_categorical_crossentropy\"\n",
    "    model.compile(loss = loss,\n",
    "        optimizer = optimizer,\n",
    "        metrics = [\"accuracy\"])\n",
    "    \n",
    "    return model"
   ]
  },
  {
   "cell_type": "code",
   "execution_count": 56,
   "id": "3a413e59",
   "metadata": {},
   "outputs": [
    {
     "data": {
      "text/plain": [
       "{'pool_size': [2, 3, 5, 7]}"
      ]
     },
     "execution_count": 56,
     "metadata": {},
     "output_type": "execute_result"
    }
   ],
   "source": [
    "param_grid"
   ]
  },
  {
   "cell_type": "code",
   "execution_count": 58,
   "id": "2a534f8e",
   "metadata": {},
   "outputs": [],
   "source": [
    "param_grid = {\"pool_size\": [2,5],\n",
    "              \"momentum\": [0.9, 0.95],\n",
    "              \"beta_2\": [0.99, 0.999]}\n",
    "\n",
    "# param_grid = {'learning_rate': [1e-2,1e-3,1e-4]}"
   ]
  },
  {
   "cell_type": "code",
   "execution_count": 59,
   "id": "62705b90",
   "metadata": {},
   "outputs": [],
   "source": [
    "best_params, best_accuracy, mean_scores  = CNN_GridSearchCV(X_train_array, y_train_array, param_grid, build_second_model, 42, 5, n_jobs = -1)"
   ]
  },
  {
   "cell_type": "code",
   "execution_count": 62,
   "id": "00df6bd7",
   "metadata": {},
   "outputs": [
    {
     "data": {
      "text/plain": [
       "np.float64(0.9977142810821533)"
      ]
     },
     "execution_count": 62,
     "metadata": {},
     "output_type": "execute_result"
    }
   ],
   "source": [
    "best_accuracy"
   ]
  },
  {
   "cell_type": "code",
   "execution_count": 99,
   "id": "e690bfe3",
   "metadata": {},
   "outputs": [],
   "source": [
    "def update_new_best_params(base_dict, new_params):\n",
    "    cbd = base_dict.copy()\n",
    "    cbd.update(new_params)\n",
    "    \n",
    "    return cbd"
   ]
  },
  {
   "cell_type": "code",
   "execution_count": 103,
   "id": "15ec78a3",
   "metadata": {},
   "outputs": [],
   "source": [
    "updated_params = update_new_best_params(base_params_second_model, best_params)"
   ]
  },
  {
   "cell_type": "code",
   "execution_count": 105,
   "id": "bf2a1014",
   "metadata": {},
   "outputs": [
    {
     "data": {
      "text/plain": [
       "{'n_filters': 64,\n",
       " 'n_neurons': 64,\n",
       " 'learning_rate': 0.001,\n",
       " 'dropout_rate': 0.5,\n",
       " 'kernel_size': 5,\n",
       " 'pool_size': 2,\n",
       " 'sparse': True,\n",
       " 'momentum': 0.9,\n",
       " 'beta_2': 0.99}"
      ]
     },
     "execution_count": 105,
     "metadata": {},
     "output_type": "execute_result"
    }
   ],
   "source": [
    "base_params_second_model"
   ]
  },
  {
   "cell_type": "code",
   "execution_count": 104,
   "id": "a5358ce0",
   "metadata": {},
   "outputs": [
    {
     "data": {
      "text/plain": [
       "{'n_filters': 64,\n",
       " 'n_neurons': 64,\n",
       " 'learning_rate': 0.001,\n",
       " 'dropout_rate': 0.5,\n",
       " 'kernel_size': 5,\n",
       " 'pool_size': 5,\n",
       " 'sparse': True,\n",
       " 'momentum': 0.9,\n",
       " 'beta_2': 0.99}"
      ]
     },
     "execution_count": 104,
     "metadata": {},
     "output_type": "execute_result"
    }
   ],
   "source": [
    "updated_params"
   ]
  },
  {
   "cell_type": "code",
   "execution_count": 97,
   "id": "8f7fb149",
   "metadata": {},
   "outputs": [],
   "source": [
    "base_params_second_model.update(best_params)"
   ]
  },
  {
   "cell_type": "code",
   "execution_count": 98,
   "id": "fb0d16c8",
   "metadata": {},
   "outputs": [
    {
     "data": {
      "text/plain": [
       "{'n_filters': 64,\n",
       " 'n_neurons': 64,\n",
       " 'learning_rate': 0.001,\n",
       " 'dropout_rate': 0.5,\n",
       " 'kernel_size': 5,\n",
       " 'pool_size': 5,\n",
       " 'sparse': True,\n",
       " 'momentum': 0.9,\n",
       " 'beta_2': 0.99}"
      ]
     },
     "execution_count": 98,
     "metadata": {},
     "output_type": "execute_result"
    }
   ],
   "source": [
    "base_params_second_model"
   ]
  },
  {
   "cell_type": "code",
   "execution_count": 75,
   "id": "d028a0c6",
   "metadata": {},
   "outputs": [
    {
     "data": {
      "text/html": [
       "<pre style=\"white-space:pre;overflow-x:auto;line-height:normal;font-family:Menlo,'DejaVu Sans Mono',consolas,'Courier New',monospace\"><span style=\"font-weight: bold\">Model: \"sequential_8\"</span>\n",
       "</pre>\n"
      ],
      "text/plain": [
       "\u001b[1mModel: \"sequential_8\"\u001b[0m\n"
      ]
     },
     "metadata": {},
     "output_type": "display_data"
    },
    {
     "data": {
      "text/html": [
       "<pre style=\"white-space:pre;overflow-x:auto;line-height:normal;font-family:Menlo,'DejaVu Sans Mono',consolas,'Courier New',monospace\">┏━━━━━━━━━━━━━━━━━━━━━━━━━━━━━━━━━┳━━━━━━━━━━━━━━━━━━━━━━━━┳━━━━━━━━━━━━━━━┓\n",
       "┃<span style=\"font-weight: bold\"> Layer (type)                    </span>┃<span style=\"font-weight: bold\"> Output Shape           </span>┃<span style=\"font-weight: bold\">       Param # </span>┃\n",
       "┡━━━━━━━━━━━━━━━━━━━━━━━━━━━━━━━━━╇━━━━━━━━━━━━━━━━━━━━━━━━╇━━━━━━━━━━━━━━━┩\n",
       "│ rescaling_2 (<span style=\"color: #0087ff; text-decoration-color: #0087ff\">Rescaling</span>)         │ (<span style=\"color: #00d7ff; text-decoration-color: #00d7ff\">None</span>, <span style=\"color: #00af00; text-decoration-color: #00af00\">37</span>, <span style=\"color: #00af00; text-decoration-color: #00af00\">25</span>, <span style=\"color: #00af00; text-decoration-color: #00af00\">3</span>)      │             <span style=\"color: #00af00; text-decoration-color: #00af00\">0</span> │\n",
       "├─────────────────────────────────┼────────────────────────┼───────────────┤\n",
       "│ sequential_6 (<span style=\"color: #0087ff; text-decoration-color: #0087ff\">Sequential</span>)       │ (<span style=\"color: #00d7ff; text-decoration-color: #00d7ff\">None</span>, <span style=\"color: #00af00; text-decoration-color: #00af00\">37</span>, <span style=\"color: #00af00; text-decoration-color: #00af00\">25</span>, <span style=\"color: #00af00; text-decoration-color: #00af00\">3</span>)      │             <span style=\"color: #00af00; text-decoration-color: #00af00\">0</span> │\n",
       "├─────────────────────────────────┼────────────────────────┼───────────────┤\n",
       "│ conv2d_8 (<span style=\"color: #0087ff; text-decoration-color: #0087ff\">Conv2D</span>)               │ (<span style=\"color: #00d7ff; text-decoration-color: #00d7ff\">None</span>, <span style=\"color: #00af00; text-decoration-color: #00af00\">37</span>, <span style=\"color: #00af00; text-decoration-color: #00af00\">25</span>, <span style=\"color: #00af00; text-decoration-color: #00af00\">64</span>)     │         <span style=\"color: #00af00; text-decoration-color: #00af00\">4,864</span> │\n",
       "├─────────────────────────────────┼────────────────────────┼───────────────┤\n",
       "│ max_pooling2d_8 (<span style=\"color: #0087ff; text-decoration-color: #0087ff\">MaxPooling2D</span>)  │ (<span style=\"color: #00d7ff; text-decoration-color: #00d7ff\">None</span>, <span style=\"color: #00af00; text-decoration-color: #00af00\">7</span>, <span style=\"color: #00af00; text-decoration-color: #00af00\">5</span>, <span style=\"color: #00af00; text-decoration-color: #00af00\">64</span>)       │             <span style=\"color: #00af00; text-decoration-color: #00af00\">0</span> │\n",
       "├─────────────────────────────────┼────────────────────────┼───────────────┤\n",
       "│ conv2d_9 (<span style=\"color: #0087ff; text-decoration-color: #0087ff\">Conv2D</span>)               │ (<span style=\"color: #00d7ff; text-decoration-color: #00d7ff\">None</span>, <span style=\"color: #00af00; text-decoration-color: #00af00\">7</span>, <span style=\"color: #00af00; text-decoration-color: #00af00\">5</span>, <span style=\"color: #00af00; text-decoration-color: #00af00\">64</span>)       │       <span style=\"color: #00af00; text-decoration-color: #00af00\">102,464</span> │\n",
       "├─────────────────────────────────┼────────────────────────┼───────────────┤\n",
       "│ max_pooling2d_9 (<span style=\"color: #0087ff; text-decoration-color: #0087ff\">MaxPooling2D</span>)  │ (<span style=\"color: #00d7ff; text-decoration-color: #00d7ff\">None</span>, <span style=\"color: #00af00; text-decoration-color: #00af00\">1</span>, <span style=\"color: #00af00; text-decoration-color: #00af00\">1</span>, <span style=\"color: #00af00; text-decoration-color: #00af00\">64</span>)       │             <span style=\"color: #00af00; text-decoration-color: #00af00\">0</span> │\n",
       "├─────────────────────────────────┼────────────────────────┼───────────────┤\n",
       "│ flatten_4 (<span style=\"color: #0087ff; text-decoration-color: #0087ff\">Flatten</span>)             │ (<span style=\"color: #00d7ff; text-decoration-color: #00d7ff\">None</span>, <span style=\"color: #00af00; text-decoration-color: #00af00\">64</span>)             │             <span style=\"color: #00af00; text-decoration-color: #00af00\">0</span> │\n",
       "├─────────────────────────────────┼────────────────────────┼───────────────┤\n",
       "│ dense_12 (<span style=\"color: #0087ff; text-decoration-color: #0087ff\">Dense</span>)                │ (<span style=\"color: #00d7ff; text-decoration-color: #00d7ff\">None</span>, <span style=\"color: #00af00; text-decoration-color: #00af00\">64</span>)             │         <span style=\"color: #00af00; text-decoration-color: #00af00\">4,160</span> │\n",
       "├─────────────────────────────────┼────────────────────────┼───────────────┤\n",
       "│ dropout_11 (<span style=\"color: #0087ff; text-decoration-color: #0087ff\">Dropout</span>)            │ (<span style=\"color: #00d7ff; text-decoration-color: #00d7ff\">None</span>, <span style=\"color: #00af00; text-decoration-color: #00af00\">64</span>)             │             <span style=\"color: #00af00; text-decoration-color: #00af00\">0</span> │\n",
       "├─────────────────────────────────┼────────────────────────┼───────────────┤\n",
       "│ dense_13 (<span style=\"color: #0087ff; text-decoration-color: #0087ff\">Dense</span>)                │ (<span style=\"color: #00d7ff; text-decoration-color: #00d7ff\">None</span>, <span style=\"color: #00af00; text-decoration-color: #00af00\">32</span>)             │         <span style=\"color: #00af00; text-decoration-color: #00af00\">2,080</span> │\n",
       "├─────────────────────────────────┼────────────────────────┼───────────────┤\n",
       "│ dropout_12 (<span style=\"color: #0087ff; text-decoration-color: #0087ff\">Dropout</span>)            │ (<span style=\"color: #00d7ff; text-decoration-color: #00d7ff\">None</span>, <span style=\"color: #00af00; text-decoration-color: #00af00\">32</span>)             │             <span style=\"color: #00af00; text-decoration-color: #00af00\">0</span> │\n",
       "├─────────────────────────────────┼────────────────────────┼───────────────┤\n",
       "│ dense_14 (<span style=\"color: #0087ff; text-decoration-color: #0087ff\">Dense</span>)                │ (<span style=\"color: #00d7ff; text-decoration-color: #00d7ff\">None</span>, <span style=\"color: #00af00; text-decoration-color: #00af00\">3</span>)              │            <span style=\"color: #00af00; text-decoration-color: #00af00\">99</span> │\n",
       "└─────────────────────────────────┴────────────────────────┴───────────────┘\n",
       "</pre>\n"
      ],
      "text/plain": [
       "┏━━━━━━━━━━━━━━━━━━━━━━━━━━━━━━━━━┳━━━━━━━━━━━━━━━━━━━━━━━━┳━━━━━━━━━━━━━━━┓\n",
       "┃\u001b[1m \u001b[0m\u001b[1mLayer (type)                   \u001b[0m\u001b[1m \u001b[0m┃\u001b[1m \u001b[0m\u001b[1mOutput Shape          \u001b[0m\u001b[1m \u001b[0m┃\u001b[1m \u001b[0m\u001b[1m      Param #\u001b[0m\u001b[1m \u001b[0m┃\n",
       "┡━━━━━━━━━━━━━━━━━━━━━━━━━━━━━━━━━╇━━━━━━━━━━━━━━━━━━━━━━━━╇━━━━━━━━━━━━━━━┩\n",
       "│ rescaling_2 (\u001b[38;5;33mRescaling\u001b[0m)         │ (\u001b[38;5;45mNone\u001b[0m, \u001b[38;5;34m37\u001b[0m, \u001b[38;5;34m25\u001b[0m, \u001b[38;5;34m3\u001b[0m)      │             \u001b[38;5;34m0\u001b[0m │\n",
       "├─────────────────────────────────┼────────────────────────┼───────────────┤\n",
       "│ sequential_6 (\u001b[38;5;33mSequential\u001b[0m)       │ (\u001b[38;5;45mNone\u001b[0m, \u001b[38;5;34m37\u001b[0m, \u001b[38;5;34m25\u001b[0m, \u001b[38;5;34m3\u001b[0m)      │             \u001b[38;5;34m0\u001b[0m │\n",
       "├─────────────────────────────────┼────────────────────────┼───────────────┤\n",
       "│ conv2d_8 (\u001b[38;5;33mConv2D\u001b[0m)               │ (\u001b[38;5;45mNone\u001b[0m, \u001b[38;5;34m37\u001b[0m, \u001b[38;5;34m25\u001b[0m, \u001b[38;5;34m64\u001b[0m)     │         \u001b[38;5;34m4,864\u001b[0m │\n",
       "├─────────────────────────────────┼────────────────────────┼───────────────┤\n",
       "│ max_pooling2d_8 (\u001b[38;5;33mMaxPooling2D\u001b[0m)  │ (\u001b[38;5;45mNone\u001b[0m, \u001b[38;5;34m7\u001b[0m, \u001b[38;5;34m5\u001b[0m, \u001b[38;5;34m64\u001b[0m)       │             \u001b[38;5;34m0\u001b[0m │\n",
       "├─────────────────────────────────┼────────────────────────┼───────────────┤\n",
       "│ conv2d_9 (\u001b[38;5;33mConv2D\u001b[0m)               │ (\u001b[38;5;45mNone\u001b[0m, \u001b[38;5;34m7\u001b[0m, \u001b[38;5;34m5\u001b[0m, \u001b[38;5;34m64\u001b[0m)       │       \u001b[38;5;34m102,464\u001b[0m │\n",
       "├─────────────────────────────────┼────────────────────────┼───────────────┤\n",
       "│ max_pooling2d_9 (\u001b[38;5;33mMaxPooling2D\u001b[0m)  │ (\u001b[38;5;45mNone\u001b[0m, \u001b[38;5;34m1\u001b[0m, \u001b[38;5;34m1\u001b[0m, \u001b[38;5;34m64\u001b[0m)       │             \u001b[38;5;34m0\u001b[0m │\n",
       "├─────────────────────────────────┼────────────────────────┼───────────────┤\n",
       "│ flatten_4 (\u001b[38;5;33mFlatten\u001b[0m)             │ (\u001b[38;5;45mNone\u001b[0m, \u001b[38;5;34m64\u001b[0m)             │             \u001b[38;5;34m0\u001b[0m │\n",
       "├─────────────────────────────────┼────────────────────────┼───────────────┤\n",
       "│ dense_12 (\u001b[38;5;33mDense\u001b[0m)                │ (\u001b[38;5;45mNone\u001b[0m, \u001b[38;5;34m64\u001b[0m)             │         \u001b[38;5;34m4,160\u001b[0m │\n",
       "├─────────────────────────────────┼────────────────────────┼───────────────┤\n",
       "│ dropout_11 (\u001b[38;5;33mDropout\u001b[0m)            │ (\u001b[38;5;45mNone\u001b[0m, \u001b[38;5;34m64\u001b[0m)             │             \u001b[38;5;34m0\u001b[0m │\n",
       "├─────────────────────────────────┼────────────────────────┼───────────────┤\n",
       "│ dense_13 (\u001b[38;5;33mDense\u001b[0m)                │ (\u001b[38;5;45mNone\u001b[0m, \u001b[38;5;34m32\u001b[0m)             │         \u001b[38;5;34m2,080\u001b[0m │\n",
       "├─────────────────────────────────┼────────────────────────┼───────────────┤\n",
       "│ dropout_12 (\u001b[38;5;33mDropout\u001b[0m)            │ (\u001b[38;5;45mNone\u001b[0m, \u001b[38;5;34m32\u001b[0m)             │             \u001b[38;5;34m0\u001b[0m │\n",
       "├─────────────────────────────────┼────────────────────────┼───────────────┤\n",
       "│ dense_14 (\u001b[38;5;33mDense\u001b[0m)                │ (\u001b[38;5;45mNone\u001b[0m, \u001b[38;5;34m3\u001b[0m)              │            \u001b[38;5;34m99\u001b[0m │\n",
       "└─────────────────────────────────┴────────────────────────┴───────────────┘\n"
      ]
     },
     "metadata": {},
     "output_type": "display_data"
    },
    {
     "data": {
      "text/html": [
       "<pre style=\"white-space:pre;overflow-x:auto;line-height:normal;font-family:Menlo,'DejaVu Sans Mono',consolas,'Courier New',monospace\"><span style=\"font-weight: bold\"> Total params: </span><span style=\"color: #00af00; text-decoration-color: #00af00\">341,003</span> (1.30 MB)\n",
       "</pre>\n"
      ],
      "text/plain": [
       "\u001b[1m Total params: \u001b[0m\u001b[38;5;34m341,003\u001b[0m (1.30 MB)\n"
      ]
     },
     "metadata": {},
     "output_type": "display_data"
    },
    {
     "data": {
      "text/html": [
       "<pre style=\"white-space:pre;overflow-x:auto;line-height:normal;font-family:Menlo,'DejaVu Sans Mono',consolas,'Courier New',monospace\"><span style=\"font-weight: bold\"> Trainable params: </span><span style=\"color: #00af00; text-decoration-color: #00af00\">113,667</span> (444.01 KB)\n",
       "</pre>\n"
      ],
      "text/plain": [
       "\u001b[1m Trainable params: \u001b[0m\u001b[38;5;34m113,667\u001b[0m (444.01 KB)\n"
      ]
     },
     "metadata": {},
     "output_type": "display_data"
    },
    {
     "data": {
      "text/html": [
       "<pre style=\"white-space:pre;overflow-x:auto;line-height:normal;font-family:Menlo,'DejaVu Sans Mono',consolas,'Courier New',monospace\"><span style=\"font-weight: bold\"> Non-trainable params: </span><span style=\"color: #00af00; text-decoration-color: #00af00\">0</span> (0.00 B)\n",
       "</pre>\n"
      ],
      "text/plain": [
       "\u001b[1m Non-trainable params: \u001b[0m\u001b[38;5;34m0\u001b[0m (0.00 B)\n"
      ]
     },
     "metadata": {},
     "output_type": "display_data"
    },
    {
     "data": {
      "text/html": [
       "<pre style=\"white-space:pre;overflow-x:auto;line-height:normal;font-family:Menlo,'DejaVu Sans Mono',consolas,'Courier New',monospace\"><span style=\"font-weight: bold\"> Optimizer params: </span><span style=\"color: #00af00; text-decoration-color: #00af00\">227,336</span> (888.04 KB)\n",
       "</pre>\n"
      ],
      "text/plain": [
       "\u001b[1m Optimizer params: \u001b[0m\u001b[38;5;34m227,336\u001b[0m (888.04 KB)\n"
      ]
     },
     "metadata": {},
     "output_type": "display_data"
    }
   ],
   "source": [
    "model.summary()"
   ]
  },
  {
   "cell_type": "code",
   "execution_count": null,
   "id": "839af433",
   "metadata": {},
   "outputs": [
    {
     "name": "stdout",
     "output_type": "stream",
     "text": [
      "Epoch 1/30\n",
      "\u001b[1m55/55\u001b[0m \u001b[32m━━━━━━━━━━━━━━━━━━━━\u001b[0m\u001b[37m\u001b[0m \u001b[1m2s\u001b[0m 8ms/step - accuracy: 0.3319 - loss: 1.1097\n",
      "Epoch 2/30\n",
      "\u001b[1m55/55\u001b[0m \u001b[32m━━━━━━━━━━━━━━━━━━━━\u001b[0m\u001b[37m\u001b[0m \u001b[1m1s\u001b[0m 8ms/step - accuracy: 0.4625 - loss: 1.0668\n",
      "Epoch 3/30\n",
      "\u001b[1m55/55\u001b[0m \u001b[32m━━━━━━━━━━━━━━━━━━━━\u001b[0m\u001b[37m\u001b[0m \u001b[1m1s\u001b[0m 8ms/step - accuracy: 0.7018 - loss: 0.7403\n",
      "Epoch 4/30\n",
      "\u001b[1m55/55\u001b[0m \u001b[32m━━━━━━━━━━━━━━━━━━━━\u001b[0m\u001b[37m\u001b[0m \u001b[1m1s\u001b[0m 8ms/step - accuracy: 0.8683 - loss: 0.4195\n",
      "Epoch 5/30\n",
      "\u001b[1m55/55\u001b[0m \u001b[32m━━━━━━━━━━━━━━━━━━━━\u001b[0m\u001b[37m\u001b[0m \u001b[1m1s\u001b[0m 8ms/step - accuracy: 0.9293 - loss: 0.2331\n",
      "Epoch 6/30\n",
      "\u001b[1m55/55\u001b[0m \u001b[32m━━━━━━━━━━━━━━━━━━━━\u001b[0m\u001b[37m\u001b[0m \u001b[1m1s\u001b[0m 8ms/step - accuracy: 0.9627 - loss: 0.1483\n",
      "Epoch 7/30\n",
      "\u001b[1m55/55\u001b[0m \u001b[32m━━━━━━━━━━━━━━━━━━━━\u001b[0m\u001b[37m\u001b[0m \u001b[1m1s\u001b[0m 8ms/step - accuracy: 0.9678 - loss: 0.1285\n",
      "Epoch 8/30\n",
      "\u001b[1m55/55\u001b[0m \u001b[32m━━━━━━━━━━━━━━━━━━━━\u001b[0m\u001b[37m\u001b[0m \u001b[1m1s\u001b[0m 8ms/step - accuracy: 0.9757 - loss: 0.0945\n",
      "Epoch 9/30\n",
      "\u001b[1m55/55\u001b[0m \u001b[32m━━━━━━━━━━━━━━━━━━━━\u001b[0m\u001b[37m\u001b[0m \u001b[1m1s\u001b[0m 8ms/step - accuracy: 0.9666 - loss: 0.1271\n",
      "Epoch 10/30\n",
      "\u001b[1m55/55\u001b[0m \u001b[32m━━━━━━━━━━━━━━━━━━━━\u001b[0m\u001b[37m\u001b[0m \u001b[1m1s\u001b[0m 8ms/step - accuracy: 0.9693 - loss: 0.1305\n",
      "Epoch 11/30\n",
      "\u001b[1m55/55\u001b[0m \u001b[32m━━━━━━━━━━━━━━━━━━━━\u001b[0m\u001b[37m\u001b[0m \u001b[1m1s\u001b[0m 8ms/step - accuracy: 0.9841 - loss: 0.0685\n",
      "Epoch 12/30\n",
      "\u001b[1m55/55\u001b[0m \u001b[32m━━━━━━━━━━━━━━━━━━━━\u001b[0m\u001b[37m\u001b[0m \u001b[1m1s\u001b[0m 8ms/step - accuracy: 0.9805 - loss: 0.0667\n",
      "Epoch 13/30\n",
      "\u001b[1m55/55\u001b[0m \u001b[32m━━━━━━━━━━━━━━━━━━━━\u001b[0m\u001b[37m\u001b[0m \u001b[1m1s\u001b[0m 7ms/step - accuracy: 0.9767 - loss: 0.0749\n",
      "Epoch 14/30\n",
      "\u001b[1m55/55\u001b[0m \u001b[32m━━━━━━━━━━━━━━━━━━━━\u001b[0m\u001b[37m\u001b[0m \u001b[1m1s\u001b[0m 8ms/step - accuracy: 0.9849 - loss: 0.0492\n",
      "Epoch 15/30\n",
      "\u001b[1m55/55\u001b[0m \u001b[32m━━━━━━━━━━━━━━━━━━━━\u001b[0m\u001b[37m\u001b[0m \u001b[1m1s\u001b[0m 8ms/step - accuracy: 0.9847 - loss: 0.0507\n",
      "Epoch 16/30\n",
      "\u001b[1m55/55\u001b[0m \u001b[32m━━━━━━━━━━━━━━━━━━━━\u001b[0m\u001b[37m\u001b[0m \u001b[1m1s\u001b[0m 8ms/step - accuracy: 0.9836 - loss: 0.0433\n",
      "Epoch 17/30\n",
      "\u001b[1m55/55\u001b[0m \u001b[32m━━━━━━━━━━━━━━━━━━━━\u001b[0m\u001b[37m\u001b[0m \u001b[1m1s\u001b[0m 8ms/step - accuracy: 0.9852 - loss: 0.0559\n",
      "Epoch 18/30\n",
      "\u001b[1m55/55\u001b[0m \u001b[32m━━━━━━━━━━━━━━━━━━━━\u001b[0m\u001b[37m\u001b[0m \u001b[1m1s\u001b[0m 8ms/step - accuracy: 0.9929 - loss: 0.0252\n",
      "Epoch 19/30\n",
      "\u001b[1m55/55\u001b[0m \u001b[32m━━━━━━━━━━━━━━━━━━━━\u001b[0m\u001b[37m\u001b[0m \u001b[1m1s\u001b[0m 8ms/step - accuracy: 0.9883 - loss: 0.0496\n",
      "Epoch 20/30\n",
      "\u001b[1m55/55\u001b[0m \u001b[32m━━━━━━━━━━━━━━━━━━━━\u001b[0m\u001b[37m\u001b[0m \u001b[1m1s\u001b[0m 8ms/step - accuracy: 0.9876 - loss: 0.0483\n",
      "Epoch 21/30\n",
      "\u001b[1m55/55\u001b[0m \u001b[32m━━━━━━━━━━━━━━━━━━━━\u001b[0m\u001b[37m\u001b[0m \u001b[1m1s\u001b[0m 8ms/step - accuracy: 0.9883 - loss: 0.0599\n",
      "Epoch 22/30\n",
      "\u001b[1m55/55\u001b[0m \u001b[32m━━━━━━━━━━━━━━━━━━━━\u001b[0m\u001b[37m\u001b[0m \u001b[1m1s\u001b[0m 8ms/step - accuracy: 0.9927 - loss: 0.0337\n",
      "Epoch 23/30\n",
      "\u001b[1m55/55\u001b[0m \u001b[32m━━━━━━━━━━━━━━━━━━━━\u001b[0m\u001b[37m\u001b[0m \u001b[1m1s\u001b[0m 8ms/step - accuracy: 0.9913 - loss: 0.0376\n",
      "Epoch 24/30\n",
      "\u001b[1m55/55\u001b[0m \u001b[32m━━━━━━━━━━━━━━━━━━━━\u001b[0m\u001b[37m\u001b[0m \u001b[1m1s\u001b[0m 8ms/step - accuracy: 0.9869 - loss: 0.0690\n",
      "Epoch 25/30\n",
      "\u001b[1m55/55\u001b[0m \u001b[32m━━━━━━━━━━━━━━━━━━━━\u001b[0m\u001b[37m\u001b[0m \u001b[1m1s\u001b[0m 8ms/step - accuracy: 0.9866 - loss: 0.0504\n",
      "Epoch 26/30\n",
      "\u001b[1m55/55\u001b[0m \u001b[32m━━━━━━━━━━━━━━━━━━━━\u001b[0m\u001b[37m\u001b[0m \u001b[1m1s\u001b[0m 8ms/step - accuracy: 0.9908 - loss: 0.0380\n",
      "Epoch 27/30\n",
      "\u001b[1m55/55\u001b[0m \u001b[32m━━━━━━━━━━━━━━━━━━━━\u001b[0m\u001b[37m\u001b[0m \u001b[1m1s\u001b[0m 8ms/step - accuracy: 0.9875 - loss: 0.0365\n",
      "Epoch 28/30\n",
      "\u001b[1m55/55\u001b[0m \u001b[32m━━━━━━━━━━━━━━━━━━━━\u001b[0m\u001b[37m\u001b[0m \u001b[1m1s\u001b[0m 8ms/step - accuracy: 0.9900 - loss: 0.0334\n",
      "Epoch 29/30\n",
      "\u001b[1m55/55\u001b[0m \u001b[32m━━━━━━━━━━━━━━━━━━━━\u001b[0m\u001b[37m\u001b[0m \u001b[1m1s\u001b[0m 8ms/step - accuracy: 0.9926 - loss: 0.0324\n",
      "Epoch 30/30\n",
      "\u001b[1m55/55\u001b[0m \u001b[32m━━━━━━━━━━━━━━━━━━━━\u001b[0m\u001b[37m\u001b[0m \u001b[1m1s\u001b[0m 8ms/step - accuracy: 0.9937 - loss: 0.0255\n"
     ]
    },
    {
     "data": {
      "text/plain": [
       "<keras.src.callbacks.history.History at 0x25105e6e610>"
      ]
     },
     "execution_count": 65,
     "metadata": {},
     "output_type": "execute_result"
    }
   ],
   "source": [
    "model = build_second_model(**best_params, sparse=False)\n",
    "model.fit(cv_train_set, epochs=30)\n",
    "\n",
    "# model.save(\"2nd_model.keras\")"
   ]
  },
  {
   "cell_type": "code",
   "execution_count": 67,
   "id": "9b9af966",
   "metadata": {},
   "outputs": [
    {
     "name": "stdout",
     "output_type": "stream",
     "text": [
      "\u001b[1m14/14\u001b[0m \u001b[32m━━━━━━━━━━━━━━━━━━━━\u001b[0m\u001b[37m\u001b[0m \u001b[1m0s\u001b[0m 6ms/step - accuracy: 1.0000 - loss: 0.0032\n"
     ]
    },
    {
     "data": {
      "text/plain": [
       "[0.0033525589387863874, 1.0]"
      ]
     },
     "execution_count": 67,
     "metadata": {},
     "output_type": "execute_result"
    }
   ],
   "source": [
    "model.evaluate(cv_test_set)"
   ]
  },
  {
   "cell_type": "code",
   "execution_count": 69,
   "id": "389b25b0",
   "metadata": {},
   "outputs": [
    {
     "name": "stdout",
     "output_type": "stream",
     "text": [
      "\u001b[1m55/55\u001b[0m \u001b[32m━━━━━━━━━━━━━━━━━━━━\u001b[0m\u001b[37m\u001b[0m \u001b[1m0s\u001b[0m 3ms/step - accuracy: 0.9987 - loss: 0.0037\n"
     ]
    },
    {
     "data": {
      "text/plain": [
       "[0.005323851015418768, 0.9977142810821533]"
      ]
     },
     "execution_count": 69,
     "metadata": {},
     "output_type": "execute_result"
    }
   ],
   "source": [
    "model.evaluate(cv_train_set)"
   ]
  },
  {
   "cell_type": "code",
   "execution_count": 78,
   "id": "23cfd0fc",
   "metadata": {},
   "outputs": [],
   "source": [
    "X_test_array, y_test_array = pass_batchs_to_arrays(cv_test_set, pass_dummy= True)"
   ]
  },
  {
   "cell_type": "code",
   "execution_count": 83,
   "id": "0d06db8c",
   "metadata": {},
   "outputs": [
    {
     "name": "stdout",
     "output_type": "stream",
     "text": [
      "\u001b[1m14/14\u001b[0m \u001b[32m━━━━━━━━━━━━━━━━━━━━\u001b[0m\u001b[37m\u001b[0m \u001b[1m0s\u001b[0m 5ms/step\n"
     ]
    }
   ],
   "source": [
    "y_pred = model.predict(cv_test_set)\n",
    "y_pred = np.argmax(y_pred, axis = 1)"
   ]
  },
  {
   "cell_type": "code",
   "execution_count": 87,
   "id": "8a71a4f0",
   "metadata": {},
   "outputs": [
    {
     "name": "stdout",
     "output_type": "stream",
     "text": [
      "              precision    recall  f1-score   support\n",
      "\n",
      "       paper       1.00      1.00      1.00       143\n",
      "        rock       1.00      1.00      1.00       145\n",
      "    scissors       1.00      1.00      1.00       150\n",
      "\n",
      "    accuracy                           1.00       438\n",
      "   macro avg       1.00      1.00      1.00       438\n",
      "weighted avg       1.00      1.00      1.00       438\n",
      "\n"
     ]
    }
   ],
   "source": [
    "cm = compute_classification_metrics(y_test_array, y_pred, class_names)"
   ]
  },
  {
   "cell_type": "code",
   "execution_count": 89,
   "id": "4e2d5a6e",
   "metadata": {},
   "outputs": [
    {
     "data": {
      "image/png": "[encoded data removed]",
      "text/plain": [
       "<Figure size 600x500 with 2 Axes>"
      ]
     },
     "metadata": {},
     "output_type": "display_data"
    }
   ],
   "source": [
    "plot_conf_matrix(cm)"
   ]
  },
  {
   "cell_type": "code",
   "execution_count": null,
   "id": "8d7116a7",
   "metadata": {},
   "outputs": [],
   "source": []
  },
  {
   "cell_type": "code",
   "execution_count": null,
   "id": "ff661d15",
   "metadata": {},
   "outputs": [],
   "source": []
  },
  {
   "cell_type": "markdown",
   "id": "4507d526",
   "metadata": {},
   "source": [
    "## Third"
   ]
  }
 ],
 "metadata": {
  "kernelspec": {
   "display_name": "deepl",
   "language": "python",
   "name": "python3"
  },
  "language_info": {
   "codemirror_mode": {
    "name": "ipython",
    "version": 3
   },
   "file_extension": ".py",
   "mimetype": "text/x-python",
   "name": "python",
   "nbconvert_exporter": "python",
   "pygments_lexer": "ipython3",
   "version": "3.11.13"
  }
 },
 "nbformat": 4,
 "nbformat_minor": 5
}
