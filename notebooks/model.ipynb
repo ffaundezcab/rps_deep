{
 "cells": [
  {
   "cell_type": "code",
   "execution_count": 1,
   "id": "323b9a72",
   "metadata": {},
   "outputs": [],
   "source": [
    "import os\n",
    "from pathlib import Path\n",
    "from joblib import Parallel, delayed\n",
    "\n",
    "import pandas as pd\n",
    "import numpy as np\n",
    "import matplotlib.pyplot as plt\n",
    "import seaborn as sns\n",
    "import itertools\n",
    "\n",
    "import tensorflow as tf\n",
    "from sklearn.model_selection import train_test_split\n",
    "from sklearn.metrics import confusion_matrix, classification_report\n",
    "from sklearn.model_selection import RandomizedSearchCV, StratifiedKFold\n",
    "\n",
    "from tensorflow.keras.utils import image_dataset_from_directory, load_img, img_to_array \n",
    "from tensorflow.keras.models import Sequential\n",
    "from tensorflow.keras.layers import Conv2D, MaxPooling2D, AvgPool2D, Flatten, Dense, Dropout, RandomFlip, RandomRotation, RandomZoom, Rescaling, Input, Lambda, RandomBrightness, RandomContrast, RandomHue, RandomSaturation\n",
    "from tensorflow.keras.callbacks import TensorBoard, ModelCheckpoint, EarlyStopping\n",
    "from tensorflow.keras.optimizers import SGD, Adam\n",
    "from tensorflow.keras.wrappers import SKLearnRegressor\n",
    "from tensorboard.backend.event_processing import event_accumulator\n",
    "from collections import Counter\n"
   ]
  },
  {
   "cell_type": "markdown",
   "id": "e822c757",
   "metadata": {},
   "source": [
    "# Data"
   ]
  },
  {
   "cell_type": "code",
   "execution_count": 2,
   "id": "e5b496d4",
   "metadata": {},
   "outputs": [],
   "source": [
    "# pass thru tf to convert paths to images\n",
    "def preprocess_image(file_path, label):\n",
    "    # final_path_file = data_dir+\"/\"+file_path\n",
    "    img = tf.io.read_file(file_path)\n",
    "    # rgb, later we normalize\n",
    "    img = tf.image.decode_image(img, channels=3)\n",
    "    # todo: make it optional passing to grayscale\n",
    "    if grayscale:\n",
    "        img = tf.image.rgb_to_grayscale(img)\n",
    "        img.set_shape([None, None, 1])\n",
    "    else:\n",
    "        img.set_shape([None, None, 3]) #rgb\n",
    "    img = tf.image.resize(img, image_size)\n",
    "    return img, tf.one_hot(label, depth=len(class_names))"
   ]
  },
  {
   "cell_type": "code",
   "execution_count": 4,
   "id": "bb95cef5",
   "metadata": {},
   "outputs": [],
   "source": [
    "data_dir = \"../data\"\n",
    "original_size = (300,200)\n",
    "image_size = (25, 25)\n",
    "batch_size = 32\n",
    "\n",
    "file_paths = []\n",
    "labels = []\n",
    "class_names = os.listdir(data_dir)\n",
    "class_to_index = {name: i for i, name in enumerate(class_names)}\n",
    "\n",
    "for class_name in class_names:\n",
    "    class_dir = f\"{data_dir}/{class_name}\"\n",
    "    images = sorted(os.listdir(class_dir))\n",
    "    for img_path in images:\n",
    "        file_paths.append(class_dir + \"/\" + str(img_path))\n",
    "        labels.append(class_to_index[class_name])\n",
    "\n",
    "file_paths = np.array(file_paths)\n",
    "labels = np.array(labels)\n",
    "grayscale = False\n",
    "\n",
    "# todo: this can be better...\n",
    "if grayscale:\n",
    "    dimension = 1\n",
    "else:\n",
    "    dimension = 3\n",
    "\n",
    "X_train, X_val, y_train, y_val = train_test_split(\n",
    "    file_paths,\n",
    "    labels,\n",
    "    test_size=0.2,\n",
    "    stratify=labels,\n",
    "    random_state=42\n",
    ")\n",
    "\n",
    "\n",
    "# for CV\n",
    "cv_train_set = tf.data.Dataset.from_tensor_slices((X_train, y_train))\n",
    "cv_train_set = cv_train_set.map(preprocess_image, num_parallel_calls=tf.data.AUTOTUNE)\n",
    "cv_train_set = cv_train_set.shuffle(1000).batch(batch_size).prefetch(tf.data.AUTOTUNE)\n",
    "\n",
    "data_augmentation = Sequential([\n",
    "    RandomFlip(),\n",
    "    RandomRotation(0.25),\n",
    "    RandomZoom(0.05),\n",
    "    RandomBrightness(0.3),\n",
    "    RandomContrast(0.3),\n",
    "    RandomHue(0.2),\n",
    "    RandomSaturation(0.2)\n",
    "    \n",
    "])\n",
    "\n",
    "cv_train_set = cv_train_set.map(lambda x, y: (data_augmentation(x, training=True), y))\n",
    "\n",
    "cv_test_set = tf.data.Dataset.from_tensor_slices((X_val, y_val))\n",
    "cv_test_set = cv_test_set.map(preprocess_image, num_parallel_calls=tf.data.AUTOTUNE)\n",
    "cv_test_set = cv_test_set.batch(batch_size).prefetch(tf.data.AUTOTUNE)"
   ]
  },
  {
   "cell_type": "code",
   "execution_count": 5,
   "id": "b134d929",
   "metadata": {},
   "outputs": [],
   "source": [
    "def count_label_distribution(dset):\n",
    "    label_array = [x[1] for x in dset]\n",
    "    \n",
    "    labels_in_dset = []\n",
    "    for x in label_array:\n",
    "        labels_in_dset.extend(np.argmax(x, axis = 1))\n",
    "    \n",
    "    return len(labels_in_dset), Counter(labels_in_dset)\n",
    "    "
   ]
  },
  {
   "cell_type": "code",
   "execution_count": 6,
   "id": "92d7ddda",
   "metadata": {},
   "outputs": [],
   "source": [
    "total_cv_train, cv_train_label_count = count_label_distribution(cv_train_set)\n",
    "total_cv_test, cv_test_label_count = count_label_distribution(cv_test_set)\n"
   ]
  },
  {
   "cell_type": "code",
   "execution_count": 7,
   "id": "c31e2d96",
   "metadata": {},
   "outputs": [
    {
     "data": {
      "text/plain": [
       "(Counter({np.int64(2): 600, np.int64(1): 581, np.int64(0): 569}),\n",
       " Counter({np.int64(2): 150, np.int64(1): 145, np.int64(0): 143}))"
      ]
     },
     "execution_count": 7,
     "metadata": {},
     "output_type": "execute_result"
    }
   ],
   "source": [
    "cv_train_label_count,cv_test_label_count"
   ]
  },
  {
   "cell_type": "code",
   "execution_count": 8,
   "id": "840ded8c",
   "metadata": {},
   "outputs": [
    {
     "data": {
      "text/plain": [
       "2188"
      ]
     },
     "execution_count": 8,
     "metadata": {},
     "output_type": "execute_result"
    }
   ],
   "source": [
    "len(file_paths)"
   ]
  },
  {
   "cell_type": "markdown",
   "id": "c90caa37",
   "metadata": {},
   "source": [
    "# Overview"
   ]
  },
  {
   "cell_type": "code",
   "execution_count": 9,
   "id": "05384d0d",
   "metadata": {},
   "outputs": [],
   "source": [
    "# # vertical here should only make sense since images are right-oriented\n",
    "# seed_da = 42\n",
    "# data_augmentation = Sequential([\n",
    "#     RandomFlip(\"vertical\",seed = seed_da),\n",
    "#     RandomRotation(0.05, seed = seed_da),\n",
    "#     RandomZoom(0.05, seed = seed_da)\n",
    "# ])"
   ]
  },
  {
   "cell_type": "code",
   "execution_count": 10,
   "id": "720fd0f2",
   "metadata": {},
   "outputs": [
    {
     "data": {
      "image/png": "[encoded data removed]",
      "text/plain": [
       "<Figure size 1000x400 with 5 Axes>"
      ]
     },
     "metadata": {},
     "output_type": "display_data"
    },
    {
     "data": {
      "image/png": "[encoded data removed]",
      "text/plain": [
       "<Figure size 1000x400 with 5 Axes>"
      ]
     },
     "metadata": {},
     "output_type": "display_data"
    }
   ],
   "source": [
    "for images, label in cv_train_set.take(2):\n",
    "    # augmented_images = data_augmentation(images)\n",
    "\n",
    "    num_images = 5\n",
    "    plt.figure(figsize=(10, 4))\n",
    "\n",
    "    for i in range(num_images):\n",
    "        # original\n",
    "        ax = plt.subplot(2, num_images, i + 1)\n",
    "        plt.imshow(images[i].numpy().astype(\"uint8\"))\n",
    "        plt.title(class_names[np.argmax(label[i])])\n",
    "        plt.axis(\"off\")\n",
    "\n",
    "    plt.tight_layout()\n",
    "    plt.show()"
   ]
  },
  {
   "cell_type": "markdown",
   "id": "a7c0afb3",
   "metadata": {},
   "source": [
    "# Model"
   ]
  },
  {
   "cell_type": "code",
   "execution_count": 11,
   "id": "5966f7cb",
   "metadata": {},
   "outputs": [],
   "source": [
    "def update_new_best_params(base_dict, new_params):\n",
    "    cbd = base_dict.copy()\n",
    "    cbd.update(new_params)\n",
    "    \n",
    "    return cbd"
   ]
  },
  {
   "cell_type": "code",
   "execution_count": 12,
   "id": "7c8facd9",
   "metadata": {},
   "outputs": [],
   "source": [
    "def show_misclassified_images(model, dataset, class_names, n=9):\n",
    "    import numpy as np\n",
    "\n",
    "    images = []\n",
    "    true_labels = []\n",
    "    pred_labels = []\n",
    "\n",
    "    for img_batch, label_batch in dataset.unbatch().batch(1).take(1000):\n",
    "        preds = model.predict(img_batch, verbose=0)\n",
    "        pred_class = tf.argmax(preds[0])\n",
    "        true_class = tf.argmax(label_batch[0])\n",
    "\n",
    "        if pred_class != true_class:\n",
    "            images.append(img_batch[0].numpy())\n",
    "            true_labels.append(class_names[true_class.numpy()])\n",
    "            pred_labels.append(class_names[pred_class.numpy()])\n",
    "\n",
    "        if len(images) >= n:\n",
    "            break\n",
    "\n",
    "    plt.figure(figsize=(15, 10))\n",
    "    for i in range(len(images)):\n",
    "        plt.subplot(3, 3, i+1)\n",
    "\n",
    "        img = images[i]\n",
    "        if img.max() <= 1.0:\n",
    "            img = img * 255.0\n",
    "        img = np.clip(img.astype(\"uint8\"), 0, 255)\n",
    "\n",
    "        plt.imshow(img)\n",
    "        plt.title(f\"true: {true_labels[i]}\\npred: {pred_labels[i]}\", color='red')\n",
    "        plt.axis(\"off\")\n",
    "    plt.tight_layout()\n",
    "    plt.show()"
   ]
  },
  {
   "cell_type": "code",
   "execution_count": 13,
   "id": "64ff8c53",
   "metadata": {},
   "outputs": [],
   "source": [
    "def show_filters(model, layer_number = 2):\n",
    "    filters, biases = model.layers[2].get_weights()\n",
    "\n",
    "    # normalize\n",
    "    f_min, f_max = filters.min(), filters.max()\n",
    "    filters = (filters - f_min) / (f_max - f_min)\n",
    "\n",
    "    n_filters = filters.shape[3]\n",
    "    grid_size = 32\n",
    "    fig, axs = plt.subplots(grid_size, grid_size, figsize=(20, 20))\n",
    "\n",
    "    for i in range(grid_size * grid_size):\n",
    "        ax = axs[i // grid_size, i % grid_size]\n",
    "        ax.axis('off')\n",
    "        \n",
    "        if i < n_filters:\n",
    "            f = filters[:, :, :, i]\n",
    "            if f.shape[2] == 3:  # if rgb\n",
    "                ax.imshow(f)\n",
    "            else:  # grayscale\n",
    "                ax.imshow(f[:, :, 0], cmap='gray')\n",
    "        else:\n",
    "            ax.set_visible(False)\n",
    "\n",
    "    plt.subplots_adjust(wspace=0.1, hspace=0.1)\n",
    "    plt.show()\n"
   ]
  },
  {
   "cell_type": "code",
   "execution_count": 14,
   "id": "6adfdf36",
   "metadata": {},
   "outputs": [],
   "source": [
    "which_model = \"first_architecture\"\n",
    "\n",
    "def root_logdir(architecture_name):\n",
    "    return os.path.join(os.curdir, \"logs\\\\\"+architecture_name)\n",
    "\n",
    "def get_run_logdir(architecture_name, it):\n",
    "    import time\n",
    "    run_id = str(it) +\"_\"+ time.strftime(\"run_%Y_%m_%d-%H_%M_%S\")\n",
    "    return run_id, os.path.join(root_logdir(architecture_name), run_id)\n",
    "\n",
    "def table_from_history(history_table, run_id):\n",
    "    dft = pd.DataFrame(history_table)\n",
    "    dft['run'] = run_id\n",
    "    dft = dft.reset_index(names = \"epoch\")\n",
    "    return dft "
   ]
  },
  {
   "cell_type": "code",
   "execution_count": 15,
   "id": "1bd41ff3",
   "metadata": {},
   "outputs": [],
   "source": [
    "def pass_batchs_to_arrays(dset, pass_dummy = False):\n",
    "\n",
    "    X_list = []\n",
    "    y_list = []\n",
    "\n",
    "    for x_batch, y_batch in dset:\n",
    "        X_list.append(x_batch.numpy())\n",
    "        y_list.append(y_batch.numpy())\n",
    "\n",
    "    X = np.concatenate(X_list, axis=0)\n",
    "    y = np.concatenate(y_list, axis=0)\n",
    "    \n",
    "    if pass_dummy:\n",
    "        y = np.argmax(y, axis = 1)\n",
    "    \n",
    "    return X, y\n"
   ]
  },
  {
   "cell_type": "code",
   "execution_count": 16,
   "id": "7674cda8",
   "metadata": {},
   "outputs": [],
   "source": [
    "def compute_classification_metrics(y_true, y_pred, class_names):\n",
    "    cm = confusion_matrix(y_true, y_pred)\n",
    "    str_summary = classification_report(y_true, y_pred, target_names=class_names)\n",
    "    print(str_summary)\n",
    "    \n",
    "    # todo: manually compute other metrics\n",
    "    return cm"
   ]
  },
  {
   "cell_type": "code",
   "execution_count": 17,
   "id": "32da8808",
   "metadata": {},
   "outputs": [],
   "source": [
    "def plot_conf_matrix(cm):\n",
    "    plt.figure(figsize=(6, 5))\n",
    "    sns.heatmap(cm, annot=True, fmt=\"d\", cmap=\"Blues\", \n",
    "                xticklabels=class_names, yticklabels=class_names)\n",
    "    plt.xlabel(\"pred\")\n",
    "    plt.ylabel(\"true\")\n",
    "    plt.show()"
   ]
  },
  {
   "cell_type": "code",
   "execution_count": 18,
   "id": "ecca8943",
   "metadata": {},
   "outputs": [],
   "source": [
    "def evaluate_combination(i_p, params, X_train_array, y_train_array, skf, build_model):\n",
    "    history_tables = []\n",
    "    \n",
    "    print(f\"params: {params}\")\n",
    "    print(\"-\" * 10)\n",
    "\n",
    "    for i, (train_i, val_i) in enumerate(skf.split(X_train_array, y_train_array)):\n",
    "        fold = f\"Fold{i+1}\"\n",
    "        X_train, y_train = X_train_array[train_i], y_train_array[train_i]\n",
    "        X_val, y_val = X_train_array[val_i], y_train_array[val_i]\n",
    "\n",
    "        # model = build_first_model(**params)\n",
    "        model = build_model(**params)\n",
    "        run_id, run_logdir = get_run_logdir(\"first_architecture\", f\"ip_{i_p}\"+fold)\n",
    "\n",
    "        history = model.fit(X_train, y_train, validation_data=(X_val, y_val),\n",
    "                            epochs=30, verbose=0)\n",
    "\n",
    "        history_tables.append(table_from_history(history.history, run_id))\n",
    "\n",
    "    df_history = pd.concat(history_tables)\n",
    "    best_train_val = df_history.groupby('run').apply(\n",
    "        lambda x: x.loc[x[\"val_loss\"].idxmin()],\n",
    "        include_groups=False\n",
    "    ).reset_index()\n",
    "\n",
    "    val_loss = best_train_val['val_loss'].mean()\n",
    "    val_accuracy = best_train_val['val_accuracy'].mean()\n",
    "\n",
    "    return {\n",
    "        'index': i_p,\n",
    "        'params': params,\n",
    "        'val_loss': val_loss,\n",
    "        'val_accuracy': val_accuracy\n",
    "    }\n"
   ]
  },
  {
   "cell_type": "code",
   "execution_count": 19,
   "id": "c6d43e2e",
   "metadata": {},
   "outputs": [],
   "source": [
    "def CNN_GridSearchCV_non_parallel(X_train_array, y_train_array, param_grid, random_state, n_splits = 5, shuffle = True):\n",
    "\n",
    "    mean_scores = []\n",
    "\n",
    "    skf = StratifiedKFold(n_splits=n_splits, shuffle = shuffle, random_state=random_state)\n",
    "\n",
    "    param_combinations = [\n",
    "        dict(zip(param_grid.keys(), values))\n",
    "        for values in itertools.product(*param_grid.values())\n",
    "    ]\n",
    "\n",
    "    for i_p, params in enumerate(param_combinations):\n",
    "        \n",
    "        history_tables = []\n",
    "        print(\"params: \" + str(params))\n",
    "        print(\"-\"*10)\n",
    "        # iterate first through each of the folds (with tuning)\n",
    "        for i, (train_i, val_i) in enumerate(skf.split(X_train_array, y_train_array)):\n",
    "            fold = f\"Fold{i+1}\"\n",
    "            # print(fold)\n",
    "            \n",
    "            # data\n",
    "            X_train, y_train = X_train_array[train_i], y_train_array[train_i]\n",
    "            X_val, y_val = X_train_array[val_i], y_train_array[val_i]\n",
    "            \n",
    "            model = build_first_model(**params)\n",
    "            \n",
    "            # if we want to later check CV results\n",
    "            run_id, run_logdir = get_run_logdir(\"first_architecture\", f\"ip_{i_p}\"+fold)\n",
    "            \n",
    "            history = model.fit(X_train, y_train, validation_data=(X_val,y_val), \n",
    "                                epochs=30, verbose = 0)\n",
    "            \n",
    "            history_tables.append(table_from_history(history.history, run_id))\n",
    "        \n",
    "        df_history = pd.concat(history_tables)\n",
    "        # same as best_model_checkpoint / checks the epoch where the model had its lowest loss\n",
    "        best_train_val = df_history.groupby('run').apply(lambda x: x.loc[x[\"val_loss\"].idxmin()], include_groups = False).reset_index()\n",
    "        \n",
    "        val_loss, val_accuracy = (best_train_val['val_loss'].mean(), best_train_val['val_accuracy'].mean())\n",
    "        mean_scores.append((val_loss, val_accuracy))\n",
    "        \n",
    "        # print(\"-\"*10)\n",
    "        if i_p == 0:\n",
    "            best_params = params\n",
    "            best_accuracy = val_accuracy\n",
    "        else:\n",
    "            if val_accuracy > best_accuracy:\n",
    "                best_params = params\n",
    "                best_accuracy = val_accuracy\n",
    "                print(f\"*new_best | score: {val_accuracy}\")\n",
    "        print(\" \")\n",
    "    return best_params, best_accuracy, mean_scores\n",
    "    "
   ]
  },
  {
   "cell_type": "code",
   "execution_count": 20,
   "id": "49a90de4",
   "metadata": {},
   "outputs": [],
   "source": [
    "def CNN_GridSearchCV(X_train_array, y_train_array, param_grid, build_model,random_state, n_splits=5, shuffle=True, n_jobs=1):\n",
    "    skf = StratifiedKFold(n_splits=n_splits, shuffle=shuffle, random_state=random_state)\n",
    "\n",
    "    param_combinations = [\n",
    "        dict(zip(param_grid.keys(), values))\n",
    "        for values in itertools.product(*param_grid.values())\n",
    "    ]\n",
    "\n",
    "    # if 1 then it's sequential\n",
    "    results = Parallel(n_jobs=n_jobs)(\n",
    "        delayed(evaluate_combination)(i, params, X_train_array, y_train_array, skf, build_model)\n",
    "        for i, params in enumerate(param_combinations)\n",
    "    )\n",
    "\n",
    "    best_result = max(results, key=lambda r: r['val_accuracy'])\n",
    "    best_params = best_result['params']\n",
    "    best_accuracy = best_result['val_accuracy']\n",
    "\n",
    "    mean_scores = [(r['val_loss'], r['val_accuracy']) for r in results]\n",
    "\n",
    "    return best_params, best_accuracy, mean_scores\n"
   ]
  },
  {
   "cell_type": "markdown",
   "id": "5354fe94",
   "metadata": {},
   "source": [
    "## First"
   ]
  },
  {
   "cell_type": "code",
   "execution_count": null,
   "id": "da67f223",
   "metadata": {},
   "outputs": [],
   "source": [
    "normalization_layer = Rescaling(1./255)\n",
    "\n",
    "def build_first_model(n_filters = 64, n_neurons = 64, learning_rate = 1e-2, momentum = 0.0, \n",
    "                      kernel_size = 3, pool_size = 2, sparse = True, **kwargs):\n",
    "    \n",
    "    #todo: true/false data augmentation\n",
    "    model = Sequential([\n",
    "    Input(shape = (image_size[0], image_size[1], dimension)),\n",
    "    normalization_layer,\n",
    "    Conv2D(n_filters, kernel_size, activation = \"relu\", padding = \"same\"),\n",
    "    MaxPooling2D(pool_size),\n",
    "    Flatten(),\n",
    "    Dense(n_neurons, activation=\"relu\"),\n",
    "    Dense(3, activation = \"softmax\")\n",
    "                    ])\n",
    "    \n",
    "    optimizer = SGD(learning_rate=learning_rate, momentum=momentum)\n",
    "    \n",
    "    loss = \"categorical_crossentropy\"\n",
    "    if sparse:\n",
    "        loss = \"sparse_categorical_crossentropy\"\n",
    "    model.compile(loss = loss,\n",
    "        optimizer = optimizer,\n",
    "        metrics = [\"accuracy\"])\n",
    "    \n",
    "    return model"
   ]
  },
  {
   "cell_type": "code",
   "execution_count": 20,
   "id": "1937f039",
   "metadata": {},
   "outputs": [],
   "source": [
    "X_train_array, y_train_array = pass_batchs_to_arrays(cv_train_set, pass_dummy=True)"
   ]
  },
  {
   "cell_type": "code",
   "execution_count": 42,
   "id": "ff710e36",
   "metadata": {},
   "outputs": [],
   "source": [
    "param_grid = {\"learning_rate\": [1e-2, 1e-3],\n",
    "              \"momentum\": [0.0, 0.9],\n",
    "              \"kernel_size\": [3,5],\n",
    "              \"n_filters\": [64, 128],\n",
    "              \"n_neurons\": [64, 128]}"
   ]
  },
  {
   "cell_type": "code",
   "execution_count": 43,
   "id": "b569e2a3",
   "metadata": {},
   "outputs": [],
   "source": [
    "best_params, best_accuracy, mean_scores  = CNN_GridSearchCV(X_train_array, y_train_array, param_grid, build_first_model, 42, 5, n_jobs = -1)"
   ]
  },
  {
   "cell_type": "code",
   "execution_count": 40,
   "id": "5dd35ad5",
   "metadata": {},
   "outputs": [
    {
     "data": {
      "text/plain": [
       "({'learning_rate': 0.01,\n",
       "  'momentum': 0.9,\n",
       "  'kernel_size': 5,\n",
       "  'n_filters': 64,\n",
       "  'n_neurons': 128},\n",
       " np.float64(0.9885714173316955))"
      ]
     },
     "execution_count": 40,
     "metadata": {},
     "output_type": "execute_result"
    }
   ],
   "source": [
    "best_params, best_accuracy"
   ]
  },
  {
   "cell_type": "code",
   "execution_count": 44,
   "id": "0cc2654c",
   "metadata": {},
   "outputs": [
    {
     "data": {
      "text/plain": [
       "({'learning_rate': 0.01,\n",
       "  'momentum': 0.9,\n",
       "  'kernel_size': 5,\n",
       "  'n_filters': 128,\n",
       "  'n_neurons': 128},\n",
       " np.float64(0.9651428461074829))"
      ]
     },
     "execution_count": 44,
     "metadata": {},
     "output_type": "execute_result"
    }
   ],
   "source": [
    "best_params, best_accuracy"
   ]
  },
  {
   "cell_type": "code",
   "execution_count": 45,
   "id": "84f5ccf4",
   "metadata": {},
   "outputs": [
    {
     "name": "stdout",
     "output_type": "stream",
     "text": [
      "Epoch 1/30\n",
      "\u001b[1m55/55\u001b[0m \u001b[32m━━━━━━━━━━━━━━━━━━━━\u001b[0m\u001b[37m\u001b[0m \u001b[1m1s\u001b[0m 8ms/step - accuracy: 0.3973 - loss: 1.0648\n",
      "Epoch 2/30\n",
      "\u001b[1m55/55\u001b[0m \u001b[32m━━━━━━━━━━━━━━━━━━━━\u001b[0m\u001b[37m\u001b[0m \u001b[1m1s\u001b[0m 7ms/step - accuracy: 0.6721 - loss: 0.7524\n",
      "Epoch 3/30\n",
      "\u001b[1m55/55\u001b[0m \u001b[32m━━━━━━━━━━━━━━━━━━━━\u001b[0m\u001b[37m\u001b[0m \u001b[1m1s\u001b[0m 7ms/step - accuracy: 0.8108 - loss: 0.5192\n",
      "Epoch 4/30\n",
      "\u001b[1m55/55\u001b[0m \u001b[32m━━━━━━━━━━━━━━━━━━━━\u001b[0m\u001b[37m\u001b[0m \u001b[1m1s\u001b[0m 8ms/step - accuracy: 0.8971 - loss: 0.2862\n",
      "Epoch 5/30\n",
      "\u001b[1m55/55\u001b[0m \u001b[32m━━━━━━━━━━━━━━━━━━━━\u001b[0m\u001b[37m\u001b[0m \u001b[1m1s\u001b[0m 7ms/step - accuracy: 0.9254 - loss: 0.2521\n",
      "Epoch 6/30\n",
      "\u001b[1m55/55\u001b[0m \u001b[32m━━━━━━━━━━━━━━━━━━━━\u001b[0m\u001b[37m\u001b[0m \u001b[1m1s\u001b[0m 7ms/step - accuracy: 0.9396 - loss: 0.2049\n",
      "Epoch 7/30\n",
      "\u001b[1m55/55\u001b[0m \u001b[32m━━━━━━━━━━━━━━━━━━━━\u001b[0m\u001b[37m\u001b[0m \u001b[1m1s\u001b[0m 7ms/step - accuracy: 0.9171 - loss: 0.2287\n",
      "Epoch 8/30\n",
      "\u001b[1m55/55\u001b[0m \u001b[32m━━━━━━━━━━━━━━━━━━━━\u001b[0m\u001b[37m\u001b[0m \u001b[1m1s\u001b[0m 7ms/step - accuracy: 0.9333 - loss: 0.1930\n",
      "Epoch 9/30\n",
      "\u001b[1m55/55\u001b[0m \u001b[32m━━━━━━━━━━━━━━━━━━━━\u001b[0m\u001b[37m\u001b[0m \u001b[1m1s\u001b[0m 7ms/step - accuracy: 0.9537 - loss: 0.1666\n",
      "Epoch 10/30\n",
      "\u001b[1m55/55\u001b[0m \u001b[32m━━━━━━━━━━━━━━━━━━━━\u001b[0m\u001b[37m\u001b[0m \u001b[1m1s\u001b[0m 7ms/step - accuracy: 0.9664 - loss: 0.1264\n",
      "Epoch 11/30\n",
      "\u001b[1m55/55\u001b[0m \u001b[32m━━━━━━━━━━━━━━━━━━━━\u001b[0m\u001b[37m\u001b[0m \u001b[1m1s\u001b[0m 7ms/step - accuracy: 0.9594 - loss: 0.1431\n",
      "Epoch 12/30\n",
      "\u001b[1m55/55\u001b[0m \u001b[32m━━━━━━━━━━━━━━━━━━━━\u001b[0m\u001b[37m\u001b[0m \u001b[1m1s\u001b[0m 7ms/step - accuracy: 0.9688 - loss: 0.1099\n",
      "Epoch 13/30\n",
      "\u001b[1m55/55\u001b[0m \u001b[32m━━━━━━━━━━━━━━━━━━━━\u001b[0m\u001b[37m\u001b[0m \u001b[1m1s\u001b[0m 7ms/step - accuracy: 0.9663 - loss: 0.1069\n",
      "Epoch 14/30\n",
      "\u001b[1m55/55\u001b[0m \u001b[32m━━━━━━━━━━━━━━━━━━━━\u001b[0m\u001b[37m\u001b[0m \u001b[1m1s\u001b[0m 8ms/step - accuracy: 0.9771 - loss: 0.0839\n",
      "Epoch 15/30\n",
      "\u001b[1m55/55\u001b[0m \u001b[32m━━━━━━━━━━━━━━━━━━━━\u001b[0m\u001b[37m\u001b[0m \u001b[1m1s\u001b[0m 7ms/step - accuracy: 0.9390 - loss: 0.1646\n",
      "Epoch 16/30\n",
      "\u001b[1m55/55\u001b[0m \u001b[32m━━━━━━━━━━━━━━━━━━━━\u001b[0m\u001b[37m\u001b[0m \u001b[1m1s\u001b[0m 7ms/step - accuracy: 0.9740 - loss: 0.0830\n",
      "Epoch 17/30\n",
      "\u001b[1m55/55\u001b[0m \u001b[32m━━━━━━━━━━━━━━━━━━━━\u001b[0m\u001b[37m\u001b[0m \u001b[1m1s\u001b[0m 8ms/step - accuracy: 0.9752 - loss: 0.0707\n",
      "Epoch 18/30\n",
      "\u001b[1m55/55\u001b[0m \u001b[32m━━━━━━━━━━━━━━━━━━━━\u001b[0m\u001b[37m\u001b[0m \u001b[1m1s\u001b[0m 7ms/step - accuracy: 0.9797 - loss: 0.0699\n",
      "Epoch 19/30\n",
      "\u001b[1m55/55\u001b[0m \u001b[32m━━━━━━━━━━━━━━━━━━━━\u001b[0m\u001b[37m\u001b[0m \u001b[1m1s\u001b[0m 7ms/step - accuracy: 0.9780 - loss: 0.0639\n",
      "Epoch 20/30\n",
      "\u001b[1m55/55\u001b[0m \u001b[32m━━━━━━━━━━━━━━━━━━━━\u001b[0m\u001b[37m\u001b[0m \u001b[1m1s\u001b[0m 7ms/step - accuracy: 0.9732 - loss: 0.0747\n",
      "Epoch 21/30\n",
      "\u001b[1m55/55\u001b[0m \u001b[32m━━━━━━━━━━━━━━━━━━━━\u001b[0m\u001b[37m\u001b[0m \u001b[1m1s\u001b[0m 7ms/step - accuracy: 0.9758 - loss: 0.0722\n",
      "Epoch 22/30\n",
      "\u001b[1m55/55\u001b[0m \u001b[32m━━━━━━━━━━━━━━━━━━━━\u001b[0m\u001b[37m\u001b[0m \u001b[1m1s\u001b[0m 8ms/step - accuracy: 0.9845 - loss: 0.0580\n",
      "Epoch 23/30\n",
      "\u001b[1m55/55\u001b[0m \u001b[32m━━━━━━━━━━━━━━━━━━━━\u001b[0m\u001b[37m\u001b[0m \u001b[1m1s\u001b[0m 7ms/step - accuracy: 0.9731 - loss: 0.0647\n",
      "Epoch 24/30\n",
      "\u001b[1m55/55\u001b[0m \u001b[32m━━━━━━━━━━━━━━━━━━━━\u001b[0m\u001b[37m\u001b[0m \u001b[1m1s\u001b[0m 7ms/step - accuracy: 0.9836 - loss: 0.0552\n",
      "Epoch 25/30\n",
      "\u001b[1m55/55\u001b[0m \u001b[32m━━━━━━━━━━━━━━━━━━━━\u001b[0m\u001b[37m\u001b[0m \u001b[1m1s\u001b[0m 7ms/step - accuracy: 0.9815 - loss: 0.0508\n",
      "Epoch 26/30\n",
      "\u001b[1m55/55\u001b[0m \u001b[32m━━━━━━━━━━━━━━━━━━━━\u001b[0m\u001b[37m\u001b[0m \u001b[1m1s\u001b[0m 7ms/step - accuracy: 0.9896 - loss: 0.0438\n",
      "Epoch 27/30\n",
      "\u001b[1m55/55\u001b[0m \u001b[32m━━━━━━━━━━━━━━━━━━━━\u001b[0m\u001b[37m\u001b[0m \u001b[1m1s\u001b[0m 7ms/step - accuracy: 0.9814 - loss: 0.0527\n",
      "Epoch 28/30\n",
      "\u001b[1m55/55\u001b[0m \u001b[32m━━━━━━━━━━━━━━━━━━━━\u001b[0m\u001b[37m\u001b[0m \u001b[1m1s\u001b[0m 7ms/step - accuracy: 0.9785 - loss: 0.0587\n",
      "Epoch 29/30\n",
      "\u001b[1m55/55\u001b[0m \u001b[32m━━━━━━━━━━━━━━━━━━━━\u001b[0m\u001b[37m\u001b[0m \u001b[1m1s\u001b[0m 7ms/step - accuracy: 0.9917 - loss: 0.0294\n",
      "Epoch 30/30\n",
      "\u001b[1m55/55\u001b[0m \u001b[32m━━━━━━━━━━━━━━━━━━━━\u001b[0m\u001b[37m\u001b[0m \u001b[1m1s\u001b[0m 8ms/step - accuracy: 0.9743 - loss: 0.0745\n"
     ]
    },
    {
     "data": {
      "text/plain": [
       "<keras.src.callbacks.history.History at 0x1c054e4a810>"
      ]
     },
     "execution_count": 45,
     "metadata": {},
     "output_type": "execute_result"
    }
   ],
   "source": [
    "model = build_first_model(**best_params, sparse= False)\n",
    "model.fit(cv_train_set, epochs=30)"
   ]
  },
  {
   "cell_type": "code",
   "execution_count": 46,
   "id": "2b827a6e",
   "metadata": {},
   "outputs": [
    {
     "name": "stdout",
     "output_type": "stream",
     "text": [
      "\u001b[1m14/14\u001b[0m \u001b[32m━━━━━━━━━━━━━━━━━━━━\u001b[0m\u001b[37m\u001b[0m \u001b[1m0s\u001b[0m 6ms/step - accuracy: 0.9609 - loss: 0.1198\n"
     ]
    },
    {
     "data": {
      "text/plain": [
       "[0.0926528200507164, 0.9726027250289917]"
      ]
     },
     "execution_count": 46,
     "metadata": {},
     "output_type": "execute_result"
    }
   ],
   "source": [
    "model.evaluate(cv_test_set)"
   ]
  },
  {
   "cell_type": "code",
   "execution_count": 47,
   "id": "17942763",
   "metadata": {},
   "outputs": [
    {
     "data": {
      "text/html": [
       "<pre style=\"white-space:pre;overflow-x:auto;line-height:normal;font-family:Menlo,'DejaVu Sans Mono',consolas,'Courier New',monospace\"><span style=\"font-weight: bold\">Model: \"sequential_2\"</span>\n",
       "</pre>\n"
      ],
      "text/plain": [
       "\u001b[1mModel: \"sequential_2\"\u001b[0m\n"
      ]
     },
     "metadata": {},
     "output_type": "display_data"
    },
    {
     "data": {
      "text/html": [
       "<pre style=\"white-space:pre;overflow-x:auto;line-height:normal;font-family:Menlo,'DejaVu Sans Mono',consolas,'Courier New',monospace\">┏━━━━━━━━━━━━━━━━━━━━━━━━━━━━━━━━━┳━━━━━━━━━━━━━━━━━━━━━━━━┳━━━━━━━━━━━━━━━┓\n",
       "┃<span style=\"font-weight: bold\"> Layer (type)                    </span>┃<span style=\"font-weight: bold\"> Output Shape           </span>┃<span style=\"font-weight: bold\">       Param # </span>┃\n",
       "┡━━━━━━━━━━━━━━━━━━━━━━━━━━━━━━━━━╇━━━━━━━━━━━━━━━━━━━━━━━━╇━━━━━━━━━━━━━━━┩\n",
       "│ rescaling (<span style=\"color: #0087ff; text-decoration-color: #0087ff\">Rescaling</span>)           │ (<span style=\"color: #00d7ff; text-decoration-color: #00d7ff\">None</span>, <span style=\"color: #00af00; text-decoration-color: #00af00\">25</span>, <span style=\"color: #00af00; text-decoration-color: #00af00\">25</span>, <span style=\"color: #00af00; text-decoration-color: #00af00\">3</span>)      │             <span style=\"color: #00af00; text-decoration-color: #00af00\">0</span> │\n",
       "├─────────────────────────────────┼────────────────────────┼───────────────┤\n",
       "│ conv2d (<span style=\"color: #0087ff; text-decoration-color: #0087ff\">Conv2D</span>)                 │ (<span style=\"color: #00d7ff; text-decoration-color: #00d7ff\">None</span>, <span style=\"color: #00af00; text-decoration-color: #00af00\">25</span>, <span style=\"color: #00af00; text-decoration-color: #00af00\">25</span>, <span style=\"color: #00af00; text-decoration-color: #00af00\">128</span>)    │         <span style=\"color: #00af00; text-decoration-color: #00af00\">9,728</span> │\n",
       "├─────────────────────────────────┼────────────────────────┼───────────────┤\n",
       "│ max_pooling2d (<span style=\"color: #0087ff; text-decoration-color: #0087ff\">MaxPooling2D</span>)    │ (<span style=\"color: #00d7ff; text-decoration-color: #00d7ff\">None</span>, <span style=\"color: #00af00; text-decoration-color: #00af00\">12</span>, <span style=\"color: #00af00; text-decoration-color: #00af00\">12</span>, <span style=\"color: #00af00; text-decoration-color: #00af00\">128</span>)    │             <span style=\"color: #00af00; text-decoration-color: #00af00\">0</span> │\n",
       "├─────────────────────────────────┼────────────────────────┼───────────────┤\n",
       "│ flatten (<span style=\"color: #0087ff; text-decoration-color: #0087ff\">Flatten</span>)               │ (<span style=\"color: #00d7ff; text-decoration-color: #00d7ff\">None</span>, <span style=\"color: #00af00; text-decoration-color: #00af00\">18432</span>)          │             <span style=\"color: #00af00; text-decoration-color: #00af00\">0</span> │\n",
       "├─────────────────────────────────┼────────────────────────┼───────────────┤\n",
       "│ dense (<span style=\"color: #0087ff; text-decoration-color: #0087ff\">Dense</span>)                   │ (<span style=\"color: #00d7ff; text-decoration-color: #00d7ff\">None</span>, <span style=\"color: #00af00; text-decoration-color: #00af00\">128</span>)            │     <span style=\"color: #00af00; text-decoration-color: #00af00\">2,359,424</span> │\n",
       "├─────────────────────────────────┼────────────────────────┼───────────────┤\n",
       "│ dense_1 (<span style=\"color: #0087ff; text-decoration-color: #0087ff\">Dense</span>)                 │ (<span style=\"color: #00d7ff; text-decoration-color: #00d7ff\">None</span>, <span style=\"color: #00af00; text-decoration-color: #00af00\">3</span>)              │           <span style=\"color: #00af00; text-decoration-color: #00af00\">387</span> │\n",
       "└─────────────────────────────────┴────────────────────────┴───────────────┘\n",
       "</pre>\n"
      ],
      "text/plain": [
       "┏━━━━━━━━━━━━━━━━━━━━━━━━━━━━━━━━━┳━━━━━━━━━━━━━━━━━━━━━━━━┳━━━━━━━━━━━━━━━┓\n",
       "┃\u001b[1m \u001b[0m\u001b[1mLayer (type)                   \u001b[0m\u001b[1m \u001b[0m┃\u001b[1m \u001b[0m\u001b[1mOutput Shape          \u001b[0m\u001b[1m \u001b[0m┃\u001b[1m \u001b[0m\u001b[1m      Param #\u001b[0m\u001b[1m \u001b[0m┃\n",
       "┡━━━━━━━━━━━━━━━━━━━━━━━━━━━━━━━━━╇━━━━━━━━━━━━━━━━━━━━━━━━╇━━━━━━━━━━━━━━━┩\n",
       "│ rescaling (\u001b[38;5;33mRescaling\u001b[0m)           │ (\u001b[38;5;45mNone\u001b[0m, \u001b[38;5;34m25\u001b[0m, \u001b[38;5;34m25\u001b[0m, \u001b[38;5;34m3\u001b[0m)      │             \u001b[38;5;34m0\u001b[0m │\n",
       "├─────────────────────────────────┼────────────────────────┼───────────────┤\n",
       "│ conv2d (\u001b[38;5;33mConv2D\u001b[0m)                 │ (\u001b[38;5;45mNone\u001b[0m, \u001b[38;5;34m25\u001b[0m, \u001b[38;5;34m25\u001b[0m, \u001b[38;5;34m128\u001b[0m)    │         \u001b[38;5;34m9,728\u001b[0m │\n",
       "├─────────────────────────────────┼────────────────────────┼───────────────┤\n",
       "│ max_pooling2d (\u001b[38;5;33mMaxPooling2D\u001b[0m)    │ (\u001b[38;5;45mNone\u001b[0m, \u001b[38;5;34m12\u001b[0m, \u001b[38;5;34m12\u001b[0m, \u001b[38;5;34m128\u001b[0m)    │             \u001b[38;5;34m0\u001b[0m │\n",
       "├─────────────────────────────────┼────────────────────────┼───────────────┤\n",
       "│ flatten (\u001b[38;5;33mFlatten\u001b[0m)               │ (\u001b[38;5;45mNone\u001b[0m, \u001b[38;5;34m18432\u001b[0m)          │             \u001b[38;5;34m0\u001b[0m │\n",
       "├─────────────────────────────────┼────────────────────────┼───────────────┤\n",
       "│ dense (\u001b[38;5;33mDense\u001b[0m)                   │ (\u001b[38;5;45mNone\u001b[0m, \u001b[38;5;34m128\u001b[0m)            │     \u001b[38;5;34m2,359,424\u001b[0m │\n",
       "├─────────────────────────────────┼────────────────────────┼───────────────┤\n",
       "│ dense_1 (\u001b[38;5;33mDense\u001b[0m)                 │ (\u001b[38;5;45mNone\u001b[0m, \u001b[38;5;34m3\u001b[0m)              │           \u001b[38;5;34m387\u001b[0m │\n",
       "└─────────────────────────────────┴────────────────────────┴───────────────┘\n"
      ]
     },
     "metadata": {},
     "output_type": "display_data"
    },
    {
     "data": {
      "text/html": [
       "<pre style=\"white-space:pre;overflow-x:auto;line-height:normal;font-family:Menlo,'DejaVu Sans Mono',consolas,'Courier New',monospace\"><span style=\"font-weight: bold\"> Total params: </span><span style=\"color: #00af00; text-decoration-color: #00af00\">4,739,080</span> (18.08 MB)\n",
       "</pre>\n"
      ],
      "text/plain": [
       "\u001b[1m Total params: \u001b[0m\u001b[38;5;34m4,739,080\u001b[0m (18.08 MB)\n"
      ]
     },
     "metadata": {},
     "output_type": "display_data"
    },
    {
     "data": {
      "text/html": [
       "<pre style=\"white-space:pre;overflow-x:auto;line-height:normal;font-family:Menlo,'DejaVu Sans Mono',consolas,'Courier New',monospace\"><span style=\"font-weight: bold\"> Trainable params: </span><span style=\"color: #00af00; text-decoration-color: #00af00\">2,369,539</span> (9.04 MB)\n",
       "</pre>\n"
      ],
      "text/plain": [
       "\u001b[1m Trainable params: \u001b[0m\u001b[38;5;34m2,369,539\u001b[0m (9.04 MB)\n"
      ]
     },
     "metadata": {},
     "output_type": "display_data"
    },
    {
     "data": {
      "text/html": [
       "<pre style=\"white-space:pre;overflow-x:auto;line-height:normal;font-family:Menlo,'DejaVu Sans Mono',consolas,'Courier New',monospace\"><span style=\"font-weight: bold\"> Non-trainable params: </span><span style=\"color: #00af00; text-decoration-color: #00af00\">0</span> (0.00 B)\n",
       "</pre>\n"
      ],
      "text/plain": [
       "\u001b[1m Non-trainable params: \u001b[0m\u001b[38;5;34m0\u001b[0m (0.00 B)\n"
      ]
     },
     "metadata": {},
     "output_type": "display_data"
    },
    {
     "data": {
      "text/html": [
       "<pre style=\"white-space:pre;overflow-x:auto;line-height:normal;font-family:Menlo,'DejaVu Sans Mono',consolas,'Courier New',monospace\"><span style=\"font-weight: bold\"> Optimizer params: </span><span style=\"color: #00af00; text-decoration-color: #00af00\">2,369,541</span> (9.04 MB)\n",
       "</pre>\n"
      ],
      "text/plain": [
       "\u001b[1m Optimizer params: \u001b[0m\u001b[38;5;34m2,369,541\u001b[0m (9.04 MB)\n"
      ]
     },
     "metadata": {},
     "output_type": "display_data"
    }
   ],
   "source": [
    "model.summary()"
   ]
  },
  {
   "cell_type": "markdown",
   "id": "039c2908",
   "metadata": {},
   "source": [
    "## Second"
   ]
  },
  {
   "cell_type": "code",
   "execution_count": 301,
   "id": "dad792e4",
   "metadata": {},
   "outputs": [],
   "source": [
    "normalization_layer = Rescaling(1./255)\n",
    "\n",
    "# using the best params from last model but with adam default learning rate: good results, comparable to before\n",
    "# pool size tends to do well in size 5, tried [2,3,5]\n",
    "# [64, 128] filters and neurons tried, 64 is best\n",
    "# momentum (beta_1) is the same, beta_2 is better at 0.99 for [0.99, 0.999]\n",
    "\n",
    "base_params_second_model = {'n_filters': 64, 'n_neurons': 64, 'learning_rate': 1e-3, 'dropout_rate': 0.5,\n",
    "'kernel_size': 5, 'pool_size': 2, 'momentum': 0.9, 'beta_2': 0.99}\n",
    "\n",
    "def build_second_model(n_filters = 64, n_neurons = 64, learning_rate = 1e-3, dropout_rate = 0.5, \n",
    "                      kernel_size = 5, pool_size = 2, sparse = True, momentum = 0.9, beta_2 = 0.99 ,**kwargs):\n",
    "    \n",
    "    #todo: true/false data augmentation\n",
    "    print(dimension)\n",
    "    model = Sequential([\n",
    "    Input(shape = (image_size[0], image_size[1], dimension)),\n",
    "    normalization_layer,\n",
    "    Conv2D(n_filters, kernel_size, activation = \"relu\", padding = \"same\"),\n",
    "    MaxPooling2D(pool_size),\n",
    "    Conv2D(n_filters, kernel_size, activation = \"relu\", padding = \"same\"),\n",
    "    MaxPooling2D(pool_size),\n",
    "    Flatten(),\n",
    "    Dense(n_neurons, activation=\"relu\"),\n",
    "    Dropout(dropout_rate),\n",
    "    Dense(int(n_neurons/2), activation=\"relu\"),\n",
    "    Dropout(dropout_rate),\n",
    "    Dense(3, activation = \"softmax\")\n",
    "                    ])\n",
    "    \n",
    "    optimizer = Adam(learning_rate=learning_rate, beta_1=momentum, beta_2=beta_2)\n",
    "    # optimizer = SGD(learning_rate = learning_rate, momentum = momentum)\n",
    "    \n",
    "    loss = \"categorical_crossentropy\"\n",
    "    if sparse:\n",
    "        loss = \"sparse_categorical_crossentropy\"\n",
    "    model.compile(loss = loss,\n",
    "        optimizer = optimizer,\n",
    "        metrics = [\"accuracy\"])\n",
    "    \n",
    "    return model"
   ]
  },
  {
   "cell_type": "code",
   "execution_count": 51,
   "id": "3a413e59",
   "metadata": {},
   "outputs": [
    {
     "data": {
      "text/plain": [
       "{'pool_size': [5], 'n_neurons': [64, 128], 'n_filters': [64, 128]}"
      ]
     },
     "execution_count": 51,
     "metadata": {},
     "output_type": "execute_result"
    }
   ],
   "source": [
    "param_grid"
   ]
  },
  {
   "cell_type": "code",
   "execution_count": 21,
   "id": "2a534f8e",
   "metadata": {},
   "outputs": [],
   "source": [
    "param_grid = {\"pool_size\": [5],\n",
    "              \"n_neurons\": [64, 128],\n",
    "              \"n_filters\": [64, 128]}\n",
    "\n",
    "# param_grid = {'learning_rate': [1e-2,1e-3,1e-4]}"
   ]
  },
  {
   "cell_type": "code",
   "execution_count": 54,
   "id": "62705b90",
   "metadata": {},
   "outputs": [],
   "source": [
    "best_params, best_accuracy, mean_scores  = CNN_GridSearchCV(X_train_array, y_train_array, param_grid, build_second_model, 42, 5, n_jobs = -1)"
   ]
  },
  {
   "cell_type": "code",
   "execution_count": 56,
   "id": "00df6bd7",
   "metadata": {},
   "outputs": [
    {
     "data": {
      "text/plain": [
       "({'pool_size': 5, 'n_neurons': 128, 'n_filters': 64},\n",
       " np.float64(0.9857142806053162))"
      ]
     },
     "execution_count": 56,
     "metadata": {},
     "output_type": "execute_result"
    }
   ],
   "source": [
    "best_params, best_accuracy"
   ]
  },
  {
   "cell_type": "code",
   "execution_count": 64,
   "id": "8880c12f",
   "metadata": {},
   "outputs": [
    {
     "data": {
      "text/plain": [
       "{'pool_size': 5, 'n_neurons': 128, 'n_filters': 64}"
      ]
     },
     "execution_count": 64,
     "metadata": {},
     "output_type": "execute_result"
    }
   ],
   "source": [
    "best_params"
   ]
  },
  {
   "cell_type": "code",
   "execution_count": 57,
   "id": "15ec78a3",
   "metadata": {},
   "outputs": [],
   "source": [
    "updated_params = update_new_best_params(base_params_second_model, best_params)"
   ]
  },
  {
   "cell_type": "code",
   "execution_count": 58,
   "id": "bf2a1014",
   "metadata": {},
   "outputs": [
    {
     "data": {
      "text/plain": [
       "{'n_filters': 64,\n",
       " 'n_neurons': 64,\n",
       " 'learning_rate': 0.001,\n",
       " 'dropout_rate': 0.5,\n",
       " 'kernel_size': 5,\n",
       " 'pool_size': 2,\n",
       " 'sparse': True,\n",
       " 'momentum': 0.9,\n",
       " 'beta_2': 0.99}"
      ]
     },
     "execution_count": 58,
     "metadata": {},
     "output_type": "execute_result"
    }
   ],
   "source": [
    "base_params_second_model"
   ]
  },
  {
   "cell_type": "code",
   "execution_count": null,
   "id": "a5358ce0",
   "metadata": {},
   "outputs": [
    {
     "data": {
      "text/plain": [
       "{'n_filters': 64,\n",
       " 'n_neurons': 128,\n",
       " 'learning_rate': 0.001,\n",
       " 'dropout_rate': 0.5,\n",
       " 'kernel_size': 5,\n",
       " 'pool_size': 5,\n",
       " 'sparse': True,\n",
       " 'momentum': 0.9,\n",
       " 'beta_2': 0.99}"
      ]
     },
     "execution_count": 59,
     "metadata": {},
     "output_type": "execute_result"
    }
   ],
   "source": [
    "updated_params"
   ]
  },
  {
   "cell_type": "code",
   "execution_count": 25,
   "id": "ad425d71",
   "metadata": {},
   "outputs": [
    {
     "data": {
      "text/plain": [
       "{'n_filters': 64,\n",
       " 'n_neurons': 64,\n",
       " 'learning_rate': 0.001,\n",
       " 'dropout_rate': 0.5,\n",
       " 'kernel_size': 5,\n",
       " 'pool_size': 2,\n",
       " 'sparse': True,\n",
       " 'momentum': 0.9,\n",
       " 'beta_2': 0.99}"
      ]
     },
     "execution_count": 25,
     "metadata": {},
     "output_type": "execute_result"
    }
   ],
   "source": [
    "base_params_second_model"
   ]
  },
  {
   "cell_type": "code",
   "execution_count": 27,
   "id": "839af433",
   "metadata": {},
   "outputs": [
    {
     "name": "stdout",
     "output_type": "stream",
     "text": [
      "Epoch 1/30\n",
      "\u001b[1m55/55\u001b[0m \u001b[32m━━━━━━━━━━━━━━━━━━━━\u001b[0m\u001b[37m\u001b[0m \u001b[1m2s\u001b[0m 8ms/step - accuracy: 0.3509 - loss: 1.1048\n",
      "Epoch 2/30\n",
      "\u001b[1m55/55\u001b[0m \u001b[32m━━━━━━━━━━━━━━━━━━━━\u001b[0m\u001b[37m\u001b[0m \u001b[1m1s\u001b[0m 7ms/step - accuracy: 0.4758 - loss: 1.0315\n",
      "Epoch 3/30\n",
      "\u001b[1m55/55\u001b[0m \u001b[32m━━━━━━━━━━━━━━━━━━━━\u001b[0m\u001b[37m\u001b[0m \u001b[1m1s\u001b[0m 8ms/step - accuracy: 0.6632 - loss: 0.8009\n",
      "Epoch 4/30\n",
      "\u001b[1m55/55\u001b[0m \u001b[32m━━━━━━━━━━━━━━━━━━━━\u001b[0m\u001b[37m\u001b[0m \u001b[1m1s\u001b[0m 8ms/step - accuracy: 0.8293 - loss: 0.4704\n",
      "Epoch 5/30\n",
      "\u001b[1m55/55\u001b[0m \u001b[32m━━━━━━━━━━━━━━━━━━━━\u001b[0m\u001b[37m\u001b[0m \u001b[1m1s\u001b[0m 8ms/step - accuracy: 0.8760 - loss: 0.3706\n",
      "Epoch 6/30\n",
      "\u001b[1m55/55\u001b[0m \u001b[32m━━━━━━━━━━━━━━━━━━━━\u001b[0m\u001b[37m\u001b[0m \u001b[1m1s\u001b[0m 8ms/step - accuracy: 0.9089 - loss: 0.2802\n",
      "Epoch 7/30\n",
      "\u001b[1m55/55\u001b[0m \u001b[32m━━━━━━━━━━━━━━━━━━━━\u001b[0m\u001b[37m\u001b[0m \u001b[1m1s\u001b[0m 8ms/step - accuracy: 0.9309 - loss: 0.2310\n",
      "Epoch 8/30\n",
      "\u001b[1m55/55\u001b[0m \u001b[32m━━━━━━━━━━━━━━━━━━━━\u001b[0m\u001b[37m\u001b[0m \u001b[1m1s\u001b[0m 8ms/step - accuracy: 0.9416 - loss: 0.2106\n",
      "Epoch 9/30\n",
      "\u001b[1m55/55\u001b[0m \u001b[32m━━━━━━━━━━━━━━━━━━━━\u001b[0m\u001b[37m\u001b[0m \u001b[1m1s\u001b[0m 8ms/step - accuracy: 0.9598 - loss: 0.1368\n",
      "Epoch 10/30\n",
      "\u001b[1m55/55\u001b[0m \u001b[32m━━━━━━━━━━━━━━━━━━━━\u001b[0m\u001b[37m\u001b[0m \u001b[1m1s\u001b[0m 8ms/step - accuracy: 0.9596 - loss: 0.1524\n",
      "Epoch 11/30\n",
      "\u001b[1m55/55\u001b[0m \u001b[32m━━━━━━━━━━━━━━━━━━━━\u001b[0m\u001b[37m\u001b[0m \u001b[1m1s\u001b[0m 8ms/step - accuracy: 0.9548 - loss: 0.2042\n",
      "Epoch 12/30\n",
      "\u001b[1m55/55\u001b[0m \u001b[32m━━━━━━━━━━━━━━━━━━━━\u001b[0m\u001b[37m\u001b[0m \u001b[1m1s\u001b[0m 8ms/step - accuracy: 0.9644 - loss: 0.1456\n",
      "Epoch 13/30\n",
      "\u001b[1m55/55\u001b[0m \u001b[32m━━━━━━━━━━━━━━━━━━━━\u001b[0m\u001b[37m\u001b[0m \u001b[1m1s\u001b[0m 8ms/step - accuracy: 0.9604 - loss: 0.1388\n",
      "Epoch 14/30\n",
      "\u001b[1m55/55\u001b[0m \u001b[32m━━━━━━━━━━━━━━━━━━━━\u001b[0m\u001b[37m\u001b[0m \u001b[1m1s\u001b[0m 8ms/step - accuracy: 0.9555 - loss: 0.1601\n",
      "Epoch 15/30\n",
      "\u001b[1m55/55\u001b[0m \u001b[32m━━━━━━━━━━━━━━━━━━━━\u001b[0m\u001b[37m\u001b[0m \u001b[1m1s\u001b[0m 8ms/step - accuracy: 0.9647 - loss: 0.1217\n",
      "Epoch 16/30\n",
      "\u001b[1m55/55\u001b[0m \u001b[32m━━━━━━━━━━━━━━━━━━━━\u001b[0m\u001b[37m\u001b[0m \u001b[1m1s\u001b[0m 8ms/step - accuracy: 0.9668 - loss: 0.1361\n",
      "Epoch 17/30\n",
      "\u001b[1m55/55\u001b[0m \u001b[32m━━━━━━━━━━━━━━━━━━━━\u001b[0m\u001b[37m\u001b[0m \u001b[1m1s\u001b[0m 8ms/step - accuracy: 0.9750 - loss: 0.0991\n",
      "Epoch 18/30\n",
      "\u001b[1m55/55\u001b[0m \u001b[32m━━━━━━━━━━━━━━━━━━━━\u001b[0m\u001b[37m\u001b[0m \u001b[1m1s\u001b[0m 8ms/step - accuracy: 0.9834 - loss: 0.0675\n",
      "Epoch 19/30\n",
      "\u001b[1m55/55\u001b[0m \u001b[32m━━━━━━━━━━━━━━━━━━━━\u001b[0m\u001b[37m\u001b[0m \u001b[1m1s\u001b[0m 8ms/step - accuracy: 0.9803 - loss: 0.0739\n",
      "Epoch 20/30\n",
      "\u001b[1m55/55\u001b[0m \u001b[32m━━━━━━━━━━━━━━━━━━━━\u001b[0m\u001b[37m\u001b[0m \u001b[1m1s\u001b[0m 8ms/step - accuracy: 0.9747 - loss: 0.0944\n",
      "Epoch 21/30\n",
      "\u001b[1m55/55\u001b[0m \u001b[32m━━━━━━━━━━━━━━━━━━━━\u001b[0m\u001b[37m\u001b[0m \u001b[1m1s\u001b[0m 8ms/step - accuracy: 0.9804 - loss: 0.0637\n",
      "Epoch 22/30\n",
      "\u001b[1m55/55\u001b[0m \u001b[32m━━━━━━━━━━━━━━━━━━━━\u001b[0m\u001b[37m\u001b[0m \u001b[1m1s\u001b[0m 8ms/step - accuracy: 0.9791 - loss: 0.0838\n",
      "Epoch 23/30\n",
      "\u001b[1m55/55\u001b[0m \u001b[32m━━━━━━━━━━━━━━━━━━━━\u001b[0m\u001b[37m\u001b[0m \u001b[1m1s\u001b[0m 8ms/step - accuracy: 0.9723 - loss: 0.1037\n",
      "Epoch 24/30\n",
      "\u001b[1m55/55\u001b[0m \u001b[32m━━━━━━━━━━━━━━━━━━━━\u001b[0m\u001b[37m\u001b[0m \u001b[1m1s\u001b[0m 8ms/step - accuracy: 0.9712 - loss: 0.0893\n",
      "Epoch 25/30\n",
      "\u001b[1m55/55\u001b[0m \u001b[32m━━━━━━━━━━━━━━━━━━━━\u001b[0m\u001b[37m\u001b[0m \u001b[1m1s\u001b[0m 8ms/step - accuracy: 0.9801 - loss: 0.0754\n",
      "Epoch 26/30\n",
      "\u001b[1m55/55\u001b[0m \u001b[32m━━━━━━━━━━━━━━━━━━━━\u001b[0m\u001b[37m\u001b[0m \u001b[1m1s\u001b[0m 8ms/step - accuracy: 0.9866 - loss: 0.0502\n",
      "Epoch 27/30\n",
      "\u001b[1m55/55\u001b[0m \u001b[32m━━━━━━━━━━━━━━━━━━━━\u001b[0m\u001b[37m\u001b[0m \u001b[1m1s\u001b[0m 8ms/step - accuracy: 0.9882 - loss: 0.0719\n",
      "Epoch 28/30\n",
      "\u001b[1m55/55\u001b[0m \u001b[32m━━━━━━━━━━━━━━━━━━━━\u001b[0m\u001b[37m\u001b[0m \u001b[1m1s\u001b[0m 8ms/step - accuracy: 0.9861 - loss: 0.0597\n",
      "Epoch 29/30\n",
      "\u001b[1m55/55\u001b[0m \u001b[32m━━━━━━━━━━━━━━━━━━━━\u001b[0m\u001b[37m\u001b[0m \u001b[1m1s\u001b[0m 8ms/step - accuracy: 0.9933 - loss: 0.0364\n",
      "Epoch 30/30\n",
      "\u001b[1m55/55\u001b[0m \u001b[32m━━━━━━━━━━━━━━━━━━━━\u001b[0m\u001b[37m\u001b[0m \u001b[1m1s\u001b[0m 9ms/step - accuracy: 0.9851 - loss: 0.0504\n"
     ]
    },
    {
     "data": {
      "text/plain": [
       "<keras.src.callbacks.history.History at 0x185dd197310>"
      ]
     },
     "execution_count": 27,
     "metadata": {},
     "output_type": "execute_result"
    }
   ],
   "source": [
    "# model = build_second_model(**best_params, sparse=False)\n",
    "model = build_second_model(**base_params_second_model, sparse=False)\n",
    "model.fit(cv_train_set, epochs=30)\n",
    "\n",
    "# model.save(\"2nd_model.keras\")"
   ]
  },
  {
   "cell_type": "code",
   "execution_count": 28,
   "id": "9b9af966",
   "metadata": {},
   "outputs": [
    {
     "name": "stdout",
     "output_type": "stream",
     "text": [
      "\u001b[1m14/14\u001b[0m \u001b[32m━━━━━━━━━━━━━━━━━━━━\u001b[0m\u001b[37m\u001b[0m \u001b[1m0s\u001b[0m 6ms/step - accuracy: 0.9674 - loss: 0.1785\n"
     ]
    },
    {
     "data": {
      "text/plain": [
       "[0.13345180451869965, 0.9771689772605896]"
      ]
     },
     "execution_count": 28,
     "metadata": {},
     "output_type": "execute_result"
    }
   ],
   "source": [
    "model.evaluate(cv_test_set)"
   ]
  },
  {
   "cell_type": "code",
   "execution_count": 29,
   "id": "389b25b0",
   "metadata": {},
   "outputs": [
    {
     "name": "stdout",
     "output_type": "stream",
     "text": [
      "\u001b[1m55/55\u001b[0m \u001b[32m━━━━━━━━━━━━━━━━━━━━\u001b[0m\u001b[37m\u001b[0m \u001b[1m0s\u001b[0m 5ms/step - accuracy: 0.9852 - loss: 0.0375\n"
     ]
    },
    {
     "data": {
      "text/plain": [
       "[0.038955822587013245, 0.9874285459518433]"
      ]
     },
     "execution_count": 29,
     "metadata": {},
     "output_type": "execute_result"
    }
   ],
   "source": [
    "model.evaluate(cv_train_set)"
   ]
  },
  {
   "cell_type": "code",
   "execution_count": 69,
   "id": "23cfd0fc",
   "metadata": {},
   "outputs": [],
   "source": [
    "X_test_array, y_test_array = pass_batchs_to_arrays(cv_test_set, pass_dummy= True)"
   ]
  },
  {
   "cell_type": "code",
   "execution_count": 70,
   "id": "0d06db8c",
   "metadata": {},
   "outputs": [
    {
     "name": "stdout",
     "output_type": "stream",
     "text": [
      "\u001b[1m14/14\u001b[0m \u001b[32m━━━━━━━━━━━━━━━━━━━━\u001b[0m\u001b[37m\u001b[0m \u001b[1m0s\u001b[0m 8ms/step\n"
     ]
    }
   ],
   "source": [
    "y_pred = model.predict(cv_test_set)\n",
    "y_pred = np.argmax(y_pred, axis = 1)"
   ]
  },
  {
   "cell_type": "code",
   "execution_count": 71,
   "id": "8a71a4f0",
   "metadata": {},
   "outputs": [
    {
     "name": "stdout",
     "output_type": "stream",
     "text": [
      "              precision    recall  f1-score   support\n",
      "\n",
      "       paper       1.00      0.97      0.99       143\n",
      "        rock       0.99      1.00      1.00       145\n",
      "    scissors       0.98      1.00      0.99       150\n",
      "\n",
      "    accuracy                           0.99       438\n",
      "   macro avg       0.99      0.99      0.99       438\n",
      "weighted avg       0.99      0.99      0.99       438\n",
      "\n"
     ]
    }
   ],
   "source": [
    "cm = compute_classification_metrics(y_test_array, y_pred, class_names)"
   ]
  },
  {
   "cell_type": "code",
   "execution_count": 72,
   "id": "4e2d5a6e",
   "metadata": {},
   "outputs": [
    {
     "data": {
      "image/png": "[encoded data removed]",
      "text/plain": [
       "<Figure size 600x500 with 2 Axes>"
      ]
     },
     "metadata": {},
     "output_type": "display_data"
    }
   ],
   "source": [
    "plot_conf_matrix(cm)"
   ]
  },
  {
   "cell_type": "markdown",
   "id": "4507d526",
   "metadata": {},
   "source": [
    "## Third"
   ]
  },
  {
   "cell_type": "code",
   "execution_count": 96,
   "id": "839a8724",
   "metadata": {},
   "outputs": [
    {
     "data": {
      "text/plain": [
       "{'n_filters': 64,\n",
       " 'n_neurons': 128,\n",
       " 'learning_rate': 0.001,\n",
       " 'dropout_rate': 0.5,\n",
       " 'kernel_size': 5,\n",
       " 'pool_size': 5,\n",
       " 'sparse': True,\n",
       " 'momentum': 0.9,\n",
       " 'beta_2': 0.99}"
      ]
     },
     "execution_count": 96,
     "metadata": {},
     "output_type": "execute_result"
    }
   ],
   "source": [
    "updated_params"
   ]
  },
  {
   "cell_type": "code",
   "execution_count": null,
   "id": "82c2cb09",
   "metadata": {},
   "outputs": [],
   "source": [
    "normalization_layer = Rescaling(1./255)\n",
    "\n",
    "base_params_second_model = {'n_filters': 64, 'n_neurons': 128, 'learning_rate': 1e-3, 'dropout_rate': 0.5,\n",
    "'kernel_size': 5, 'pool_size': 5, 'momentum': 0.9, 'beta_2': 0.99}\n",
    "\n",
    "def build_third_model(n_filters = 64, n_neurons = 64, learning_rate = 1e-3, dropout_rate = 0.5, \n",
    "                      kernel_size = 5, pool_size = 2, sparse = True, momentum = 0.9, beta_2 = 0.99 ,**kwargs):\n",
    "    model = Sequential([\n",
    "    Input(shape = (image_size[0], image_size[1], dimension)),\n",
    "    normalization_layer,\n",
    "    Conv2D(n_filters, kernel_size, activation = \"relu\", padding = \"same\"),\n",
    "    MaxPooling2D(pool_size),\n",
    "    Conv2D(int(n_filters*2), kernel_size, activation = \"relu\", padding = \"same\"),\n",
    "    Conv2D(int(n_filters*2), kernel_size, activation = \"relu\", padding = \"same\"),\n",
    "    MaxPooling2D(pool_size),\n",
    "    Conv2D(int(n_filters*4), kernel_size, activation = \"relu\", padding = \"same\"),\n",
    "    Conv2D(int(n_filters*4), kernel_size, activation = \"relu\", padding = \"same\"),\n",
    "    MaxPooling2D(pool_size),\n",
    "    Flatten(),\n",
    "    Dense(n_neurons, activation=\"relu\"),\n",
    "    Dropout(dropout_rate),\n",
    "    Dense(int(n_neurons/2), activation=\"relu\"),\n",
    "    Dropout(dropout_rate),\n",
    "    Dense(int(n_neurons/4), activation=\"relu\"),\n",
    "    Dense(3, activation = \"softmax\")\n",
    "                    ])\n",
    "    \n",
    "    optimizer = Adam(learning_rate=learning_rate, beta_1=momentum, beta_2=beta_2)\n",
    "    # optimizer = SGD(learning_rate = learning_rate, momentum = momentum)\n",
    "    \n",
    "    loss = \"categorical_crossentropy\"\n",
    "    if sparse:\n",
    "        loss = \"sparse_categorical_crossentropy\"\n",
    "    model.compile(loss = loss,\n",
    "        optimizer = optimizer,\n",
    "        metrics = [\"accuracy\"])\n",
    "    \n",
    "    return model"
   ]
  },
  {
   "cell_type": "code",
   "execution_count": 100,
   "id": "49fa83e9",
   "metadata": {},
   "outputs": [],
   "source": [
    "param_grid = {\"learning_rate\": [1e-2, 1e-3, 1e-4],\n",
    "              \"kernel_size\": [2,5]}\n",
    "\n",
    "best_params, best_accuracy, mean_scores  = CNN_GridSearchCV(X_train_array, y_train_array, param_grid, build_third_model, 42, 5, n_jobs = -1)"
   ]
  },
  {
   "cell_type": "code",
   "execution_count": 101,
   "id": "98913f42",
   "metadata": {},
   "outputs": [
    {
     "data": {
      "text/plain": [
       "({'learning_rate': 0.0001, 'kernel_size': 5}, np.float64(0.9845714211463928))"
      ]
     },
     "execution_count": 101,
     "metadata": {},
     "output_type": "execute_result"
    }
   ],
   "source": [
    "best_params, best_accuracy"
   ]
  },
  {
   "cell_type": "code",
   "execution_count": 259,
   "id": "018bf1f9",
   "metadata": {},
   "outputs": [
    {
     "ename": "NameError",
     "evalue": "name 'build_third_model' is not defined",
     "output_type": "error",
     "traceback": [
      "\u001b[31m---------------------------------------------------------------------------\u001b[39m",
      "\u001b[31mNameError\u001b[39m                                 Traceback (most recent call last)",
      "\u001b[36mCell\u001b[39m\u001b[36m \u001b[39m\u001b[32mIn[259]\u001b[39m\u001b[32m, line 1\u001b[39m\n\u001b[32m----> \u001b[39m\u001b[32m1\u001b[39m model = \u001b[43mbuild_third_model\u001b[49m(**best_params, sparse=\u001b[38;5;28;01mFalse\u001b[39;00m)\n\u001b[32m      2\u001b[39m model.fit(cv_train_set, epochs=\u001b[32m30\u001b[39m)\n\u001b[32m      4\u001b[39m \u001b[38;5;66;03m# model.save(\"2nd_model.keras\")\u001b[39;00m\n",
      "\u001b[31mNameError\u001b[39m: name 'build_third_model' is not defined"
     ]
    }
   ],
   "source": [
    "model = build_third_model(**best_params, sparse=False)\n",
    "model.fit(cv_train_set, epochs=30)\n",
    "\n",
    "# model.save(\"2nd_model.keras\")"
   ]
  },
  {
   "cell_type": "code",
   "execution_count": 59,
   "id": "cc857f35",
   "metadata": {},
   "outputs": [
    {
     "name": "stdout",
     "output_type": "stream",
     "text": [
      "\u001b[1m14/14\u001b[0m \u001b[32m━━━━━━━━━━━━━━━━━━━━\u001b[0m\u001b[37m\u001b[0m \u001b[1m0s\u001b[0m 26ms/step - accuracy: 0.9501 - loss: 0.1637\n"
     ]
    },
    {
     "data": {
      "text/plain": [
       "[0.14106300473213196, 0.9634703397750854]"
      ]
     },
     "execution_count": 59,
     "metadata": {},
     "output_type": "execute_result"
    }
   ],
   "source": [
    "model.evaluate(cv_test_set)"
   ]
  },
  {
   "cell_type": "code",
   "execution_count": 43,
   "id": "4ee78f78",
   "metadata": {},
   "outputs": [
    {
     "data": {
      "text/plain": [
       "(25, 25)"
      ]
     },
     "execution_count": 43,
     "metadata": {},
     "output_type": "execute_result"
    }
   ],
   "source": [
    "image_size"
   ]
  },
  {
   "cell_type": "code",
   "execution_count": null,
   "id": "a8b63770",
   "metadata": {},
   "outputs": [],
   "source": []
  },
  {
   "cell_type": "code",
   "execution_count": null,
   "id": "6153f69a",
   "metadata": {},
   "outputs": [],
   "source": []
  },
  {
   "cell_type": "markdown",
   "id": "90cca88a",
   "metadata": {},
   "source": [
    "# Robustness test"
   ]
  },
  {
   "cell_type": "code",
   "execution_count": 302,
   "id": "6caee2af",
   "metadata": {},
   "outputs": [],
   "source": [
    "from tensorflow.image import rgb_to_grayscale"
   ]
  },
  {
   "cell_type": "code",
   "execution_count": null,
   "id": "2c90ba4f",
   "metadata": {},
   "outputs": [
    {
     "name": "stdout",
     "output_type": "stream",
     "text": [
      "Found 11 files belonging to 3 classes.\n"
     ]
    }
   ],
   "source": [
    "original_size = (300,200)\n",
    "full_dataset = image_dataset_from_directory(\n",
    "    'C:/Users/faarc/OneDrive/Escritorio/projects/paper_rock_scissors_pr/rock_paper_scissors/rps_deep/generalization_data/diego',\n",
    "    image_size=image_size,\n",
    "    label_mode=\"categorical\",\n",
    "    shuffle=False,\n",
    "    seed=42\n",
    ")"
   ]
  },
  {
   "cell_type": "code",
   "execution_count": null,
   "id": "b090a806",
   "metadata": {},
   "outputs": [
    {
     "name": "stdout",
     "output_type": "stream",
     "text": [
      "Epoch 1/30\n",
      "\u001b[1m55/55\u001b[0m \u001b[32m━━━━━━━━━━━━━━━━━━━━\u001b[0m\u001b[37m\u001b[0m \u001b[1m4s\u001b[0m 41ms/step - accuracy: 0.3299 - loss: 1.1108\n",
      "Epoch 2/30\n",
      "\u001b[1m55/55\u001b[0m \u001b[32m━━━━━━━━━━━━━━━━━━━━\u001b[0m\u001b[37m\u001b[0m \u001b[1m3s\u001b[0m 41ms/step - accuracy: 0.3532 - loss: 1.0980\n",
      "Epoch 3/30\n",
      "\u001b[1m55/55\u001b[0m \u001b[32m━━━━━━━━━━━━━━━━━━━━\u001b[0m\u001b[37m\u001b[0m \u001b[1m3s\u001b[0m 42ms/step - accuracy: 0.3373 - loss: 1.0982\n",
      "Epoch 4/30\n",
      "\u001b[1m55/55\u001b[0m \u001b[32m━━━━━━━━━━━━━━━━━━━━\u001b[0m\u001b[37m\u001b[0m \u001b[1m2s\u001b[0m 40ms/step - accuracy: 0.3284 - loss: 1.0987\n",
      "Epoch 5/30\n",
      "\u001b[1m55/55\u001b[0m \u001b[32m━━━━━━━━━━━━━━━━━━━━\u001b[0m\u001b[37m\u001b[0m \u001b[1m3s\u001b[0m 42ms/step - accuracy: 0.3598 - loss: 1.0978\n",
      "Epoch 6/30\n",
      "\u001b[1m55/55\u001b[0m \u001b[32m━━━━━━━━━━━━━━━━━━━━\u001b[0m\u001b[37m\u001b[0m \u001b[1m3s\u001b[0m 41ms/step - accuracy: 0.3450 - loss: 1.0984\n",
      "Epoch 7/30\n",
      "\u001b[1m55/55\u001b[0m \u001b[32m━━━━━━━━━━━━━━━━━━━━\u001b[0m\u001b[37m\u001b[0m \u001b[1m3s\u001b[0m 43ms/step - accuracy: 0.3593 - loss: 1.0980\n",
      "Epoch 8/30\n",
      "\u001b[1m55/55\u001b[0m \u001b[32m━━━━━━━━━━━━━━━━━━━━\u001b[0m\u001b[37m\u001b[0m \u001b[1m3s\u001b[0m 41ms/step - accuracy: 0.3536 - loss: 1.0984\n",
      "Epoch 9/30\n",
      "\u001b[1m55/55\u001b[0m \u001b[32m━━━━━━━━━━━━━━━━━━━━\u001b[0m\u001b[37m\u001b[0m \u001b[1m3s\u001b[0m 41ms/step - accuracy: 0.3632 - loss: 1.0978\n",
      "Epoch 10/30\n",
      "\u001b[1m55/55\u001b[0m \u001b[32m━━━━━━━━━━━━━━━━━━━━\u001b[0m\u001b[37m\u001b[0m \u001b[1m3s\u001b[0m 43ms/step - accuracy: 0.3480 - loss: 1.0980\n",
      "Epoch 11/30\n",
      "\u001b[1m55/55\u001b[0m \u001b[32m━━━━━━━━━━━━━━━━━━━━\u001b[0m\u001b[37m\u001b[0m \u001b[1m3s\u001b[0m 43ms/step - accuracy: 0.3362 - loss: 1.0991\n",
      "Epoch 12/30\n",
      "\u001b[1m55/55\u001b[0m \u001b[32m━━━━━━━━━━━━━━━━━━━━\u001b[0m\u001b[37m\u001b[0m \u001b[1m3s\u001b[0m 42ms/step - accuracy: 0.3215 - loss: 1.0993\n",
      "Epoch 13/30\n",
      "\u001b[1m55/55\u001b[0m \u001b[32m━━━━━━━━━━━━━━━━━━━━\u001b[0m\u001b[37m\u001b[0m \u001b[1m3s\u001b[0m 43ms/step - accuracy: 0.3516 - loss: 1.0984\n",
      "Epoch 14/30\n",
      "\u001b[1m55/55\u001b[0m \u001b[32m━━━━━━━━━━━━━━━━━━━━\u001b[0m\u001b[37m\u001b[0m \u001b[1m3s\u001b[0m 41ms/step - accuracy: 0.3571 - loss: 1.0979\n",
      "Epoch 15/30\n",
      "\u001b[1m55/55\u001b[0m \u001b[32m━━━━━━━━━━━━━━━━━━━━\u001b[0m\u001b[37m\u001b[0m \u001b[1m3s\u001b[0m 42ms/step - accuracy: 0.3326 - loss: 1.0985\n",
      "Epoch 16/30\n",
      "\u001b[1m55/55\u001b[0m \u001b[32m━━━━━━━━━━━━━━━━━━━━\u001b[0m\u001b[37m\u001b[0m \u001b[1m3s\u001b[0m 45ms/step - accuracy: 0.3502 - loss: 1.0985\n",
      "Epoch 17/30\n",
      "\u001b[1m55/55\u001b[0m \u001b[32m━━━━━━━━━━━━━━━━━━━━\u001b[0m\u001b[37m\u001b[0m \u001b[1m3s\u001b[0m 46ms/step - accuracy: 0.3162 - loss: 1.0988\n",
      "Epoch 18/30\n",
      "\u001b[1m55/55\u001b[0m \u001b[32m━━━━━━━━━━━━━━━━━━━━\u001b[0m\u001b[37m\u001b[0m \u001b[1m3s\u001b[0m 46ms/step - accuracy: 0.3363 - loss: 1.0978\n",
      "Epoch 19/30\n",
      "\u001b[1m55/55\u001b[0m \u001b[32m━━━━━━━━━━━━━━━━━━━━\u001b[0m\u001b[37m\u001b[0m \u001b[1m3s\u001b[0m 46ms/step - accuracy: 0.3032 - loss: 1.0991\n",
      "Epoch 20/30\n",
      "\u001b[1m55/55\u001b[0m \u001b[32m━━━━━━━━━━━━━━━━━━━━\u001b[0m\u001b[37m\u001b[0m \u001b[1m3s\u001b[0m 46ms/step - accuracy: 0.3475 - loss: 1.0979\n",
      "Epoch 21/30\n",
      "\u001b[1m55/55\u001b[0m \u001b[32m━━━━━━━━━━━━━━━━━━━━\u001b[0m\u001b[37m\u001b[0m \u001b[1m3s\u001b[0m 45ms/step - accuracy: 0.3162 - loss: 1.0993\n",
      "Epoch 22/30\n",
      "\u001b[1m55/55\u001b[0m \u001b[32m━━━━━━━━━━━━━━━━━━━━\u001b[0m\u001b[37m\u001b[0m \u001b[1m3s\u001b[0m 45ms/step - accuracy: 0.3456 - loss: 1.0984\n",
      "Epoch 23/30\n",
      "\u001b[1m55/55\u001b[0m \u001b[32m━━━━━━━━━━━━━━━━━━━━\u001b[0m\u001b[37m\u001b[0m \u001b[1m3s\u001b[0m 47ms/step - accuracy: 0.3522 - loss: 1.0981\n",
      "Epoch 24/30\n",
      "\u001b[1m55/55\u001b[0m \u001b[32m━━━━━━━━━━━━━━━━━━━━\u001b[0m\u001b[37m\u001b[0m \u001b[1m3s\u001b[0m 46ms/step - accuracy: 0.3312 - loss: 1.0983\n",
      "Epoch 25/30\n",
      "\u001b[1m55/55\u001b[0m \u001b[32m━━━━━━━━━━━━━━━━━━━━\u001b[0m\u001b[37m\u001b[0m \u001b[1m3s\u001b[0m 47ms/step - accuracy: 0.3163 - loss: 1.0993\n",
      "Epoch 26/30\n",
      "\u001b[1m55/55\u001b[0m \u001b[32m━━━━━━━━━━━━━━━━━━━━\u001b[0m\u001b[37m\u001b[0m \u001b[1m3s\u001b[0m 45ms/step - accuracy: 0.3351 - loss: 1.0986\n",
      "Epoch 27/30\n",
      "\u001b[1m55/55\u001b[0m \u001b[32m━━━━━━━━━━━━━━━━━━━━\u001b[0m\u001b[37m\u001b[0m \u001b[1m3s\u001b[0m 46ms/step - accuracy: 0.3367 - loss: 1.0984\n",
      "Epoch 28/30\n",
      "\u001b[1m11/55\u001b[0m \u001b[32m━━━━\u001b[0m\u001b[37m━━━━━━━━━━━━━━━━\u001b[0m \u001b[1m2s\u001b[0m 47ms/step - accuracy: 0.3396 - loss: 1.0973"
     ]
    },
    {
     "ename": "KeyboardInterrupt",
     "evalue": "",
     "output_type": "error",
     "traceback": [
      "\u001b[31m---------------------------------------------------------------------------\u001b[39m",
      "\u001b[31mKeyboardInterrupt\u001b[39m                         Traceback (most recent call last)",
      "\u001b[36mCell\u001b[39m\u001b[36m \u001b[39m\u001b[32mIn[324]\u001b[39m\u001b[32m, line 3\u001b[39m\n\u001b[32m      1\u001b[39m \u001b[38;5;66;03m# model = build_second_model(**best_params, sparse=False)\u001b[39;00m\n\u001b[32m      2\u001b[39m model = build_third_model(sparse=\u001b[38;5;28;01mFalse\u001b[39;00m)\n\u001b[32m----> \u001b[39m\u001b[32m3\u001b[39m \u001b[43mmodel\u001b[49m\u001b[43m.\u001b[49m\u001b[43mfit\u001b[49m\u001b[43m(\u001b[49m\u001b[43mcv_train_set\u001b[49m\u001b[43m,\u001b[49m\u001b[43m \u001b[49m\u001b[43mepochs\u001b[49m\u001b[43m=\u001b[49m\u001b[32;43m30\u001b[39;49m\u001b[43m)\u001b[49m\n\u001b[32m      5\u001b[39m \u001b[38;5;66;03m# model.save(\"2nd_model.keras\")\u001b[39;00m\n",
      "\u001b[36mFile \u001b[39m\u001b[32mc:\\Users\\faarc\\anaconda3\\envs\\deepl\\Lib\\site-packages\\keras\\src\\utils\\traceback_utils.py:117\u001b[39m, in \u001b[36mfilter_traceback.<locals>.error_handler\u001b[39m\u001b[34m(*args, **kwargs)\u001b[39m\n\u001b[32m    115\u001b[39m filtered_tb = \u001b[38;5;28;01mNone\u001b[39;00m\n\u001b[32m    116\u001b[39m \u001b[38;5;28;01mtry\u001b[39;00m:\n\u001b[32m--> \u001b[39m\u001b[32m117\u001b[39m     \u001b[38;5;28;01mreturn\u001b[39;00m \u001b[43mfn\u001b[49m\u001b[43m(\u001b[49m\u001b[43m*\u001b[49m\u001b[43margs\u001b[49m\u001b[43m,\u001b[49m\u001b[43m \u001b[49m\u001b[43m*\u001b[49m\u001b[43m*\u001b[49m\u001b[43mkwargs\u001b[49m\u001b[43m)\u001b[49m\n\u001b[32m    118\u001b[39m \u001b[38;5;28;01mexcept\u001b[39;00m \u001b[38;5;167;01mException\u001b[39;00m \u001b[38;5;28;01mas\u001b[39;00m e:\n\u001b[32m    119\u001b[39m     filtered_tb = _process_traceback_frames(e.__traceback__)\n",
      "\u001b[36mFile \u001b[39m\u001b[32mc:\\Users\\faarc\\anaconda3\\envs\\deepl\\Lib\\site-packages\\keras\\src\\backend\\tensorflow\\trainer.py:377\u001b[39m, in \u001b[36mTensorFlowTrainer.fit\u001b[39m\u001b[34m(self, x, y, batch_size, epochs, verbose, callbacks, validation_split, validation_data, shuffle, class_weight, sample_weight, initial_epoch, steps_per_epoch, validation_steps, validation_batch_size, validation_freq)\u001b[39m\n\u001b[32m    375\u001b[39m \u001b[38;5;28;01mfor\u001b[39;00m step, iterator \u001b[38;5;129;01min\u001b[39;00m epoch_iterator:\n\u001b[32m    376\u001b[39m     callbacks.on_train_batch_begin(step)\n\u001b[32m--> \u001b[39m\u001b[32m377\u001b[39m     logs = \u001b[38;5;28;43mself\u001b[39;49m\u001b[43m.\u001b[49m\u001b[43mtrain_function\u001b[49m\u001b[43m(\u001b[49m\u001b[43miterator\u001b[49m\u001b[43m)\u001b[49m\n\u001b[32m    378\u001b[39m     callbacks.on_train_batch_end(step, logs)\n\u001b[32m    379\u001b[39m     \u001b[38;5;28;01mif\u001b[39;00m \u001b[38;5;28mself\u001b[39m.stop_training:\n",
      "\u001b[36mFile \u001b[39m\u001b[32mc:\\Users\\faarc\\anaconda3\\envs\\deepl\\Lib\\site-packages\\keras\\src\\backend\\tensorflow\\trainer.py:220\u001b[39m, in \u001b[36mTensorFlowTrainer._make_function.<locals>.function\u001b[39m\u001b[34m(iterator)\u001b[39m\n\u001b[32m    216\u001b[39m \u001b[38;5;28;01mdef\u001b[39;00m\u001b[38;5;250m \u001b[39m\u001b[34mfunction\u001b[39m(iterator):\n\u001b[32m    217\u001b[39m     \u001b[38;5;28;01mif\u001b[39;00m \u001b[38;5;28misinstance\u001b[39m(\n\u001b[32m    218\u001b[39m         iterator, (tf.data.Iterator, tf.distribute.DistributedIterator)\n\u001b[32m    219\u001b[39m     ):\n\u001b[32m--> \u001b[39m\u001b[32m220\u001b[39m         opt_outputs = \u001b[43mmulti_step_on_iterator\u001b[49m\u001b[43m(\u001b[49m\u001b[43miterator\u001b[49m\u001b[43m)\u001b[49m\n\u001b[32m    221\u001b[39m         \u001b[38;5;28;01mif\u001b[39;00m \u001b[38;5;129;01mnot\u001b[39;00m opt_outputs.has_value():\n\u001b[32m    222\u001b[39m             \u001b[38;5;28;01mraise\u001b[39;00m \u001b[38;5;167;01mStopIteration\u001b[39;00m\n",
      "\u001b[36mFile \u001b[39m\u001b[32mc:\\Users\\faarc\\anaconda3\\envs\\deepl\\Lib\\site-packages\\tensorflow\\python\\util\\traceback_utils.py:150\u001b[39m, in \u001b[36mfilter_traceback.<locals>.error_handler\u001b[39m\u001b[34m(*args, **kwargs)\u001b[39m\n\u001b[32m    148\u001b[39m filtered_tb = \u001b[38;5;28;01mNone\u001b[39;00m\n\u001b[32m    149\u001b[39m \u001b[38;5;28;01mtry\u001b[39;00m:\n\u001b[32m--> \u001b[39m\u001b[32m150\u001b[39m   \u001b[38;5;28;01mreturn\u001b[39;00m \u001b[43mfn\u001b[49m\u001b[43m(\u001b[49m\u001b[43m*\u001b[49m\u001b[43margs\u001b[49m\u001b[43m,\u001b[49m\u001b[43m \u001b[49m\u001b[43m*\u001b[49m\u001b[43m*\u001b[49m\u001b[43mkwargs\u001b[49m\u001b[43m)\u001b[49m\n\u001b[32m    151\u001b[39m \u001b[38;5;28;01mexcept\u001b[39;00m \u001b[38;5;167;01mException\u001b[39;00m \u001b[38;5;28;01mas\u001b[39;00m e:\n\u001b[32m    152\u001b[39m   filtered_tb = _process_traceback_frames(e.__traceback__)\n",
      "\u001b[36mFile \u001b[39m\u001b[32mc:\\Users\\faarc\\anaconda3\\envs\\deepl\\Lib\\site-packages\\tensorflow\\python\\eager\\polymorphic_function\\polymorphic_function.py:833\u001b[39m, in \u001b[36mFunction.__call__\u001b[39m\u001b[34m(self, *args, **kwds)\u001b[39m\n\u001b[32m    830\u001b[39m compiler = \u001b[33m\"\u001b[39m\u001b[33mxla\u001b[39m\u001b[33m\"\u001b[39m \u001b[38;5;28;01mif\u001b[39;00m \u001b[38;5;28mself\u001b[39m._jit_compile \u001b[38;5;28;01melse\u001b[39;00m \u001b[33m\"\u001b[39m\u001b[33mnonXla\u001b[39m\u001b[33m\"\u001b[39m\n\u001b[32m    832\u001b[39m \u001b[38;5;28;01mwith\u001b[39;00m OptionalXlaContext(\u001b[38;5;28mself\u001b[39m._jit_compile):\n\u001b[32m--> \u001b[39m\u001b[32m833\u001b[39m   result = \u001b[38;5;28;43mself\u001b[39;49m\u001b[43m.\u001b[49m\u001b[43m_call\u001b[49m\u001b[43m(\u001b[49m\u001b[43m*\u001b[49m\u001b[43margs\u001b[49m\u001b[43m,\u001b[49m\u001b[43m \u001b[49m\u001b[43m*\u001b[49m\u001b[43m*\u001b[49m\u001b[43mkwds\u001b[49m\u001b[43m)\u001b[49m\n\u001b[32m    835\u001b[39m new_tracing_count = \u001b[38;5;28mself\u001b[39m.experimental_get_tracing_count()\n\u001b[32m    836\u001b[39m without_tracing = (tracing_count == new_tracing_count)\n",
      "\u001b[36mFile \u001b[39m\u001b[32mc:\\Users\\faarc\\anaconda3\\envs\\deepl\\Lib\\site-packages\\tensorflow\\python\\eager\\polymorphic_function\\polymorphic_function.py:878\u001b[39m, in \u001b[36mFunction._call\u001b[39m\u001b[34m(self, *args, **kwds)\u001b[39m\n\u001b[32m    875\u001b[39m \u001b[38;5;28mself\u001b[39m._lock.release()\n\u001b[32m    876\u001b[39m \u001b[38;5;66;03m# In this case we have not created variables on the first call. So we can\u001b[39;00m\n\u001b[32m    877\u001b[39m \u001b[38;5;66;03m# run the first trace but we should fail if variables are created.\u001b[39;00m\n\u001b[32m--> \u001b[39m\u001b[32m878\u001b[39m results = \u001b[43mtracing_compilation\u001b[49m\u001b[43m.\u001b[49m\u001b[43mcall_function\u001b[49m\u001b[43m(\u001b[49m\n\u001b[32m    879\u001b[39m \u001b[43m    \u001b[49m\u001b[43margs\u001b[49m\u001b[43m,\u001b[49m\u001b[43m \u001b[49m\u001b[43mkwds\u001b[49m\u001b[43m,\u001b[49m\u001b[43m \u001b[49m\u001b[38;5;28;43mself\u001b[39;49m\u001b[43m.\u001b[49m\u001b[43m_variable_creation_config\u001b[49m\n\u001b[32m    880\u001b[39m \u001b[43m\u001b[49m\u001b[43m)\u001b[49m\n\u001b[32m    881\u001b[39m \u001b[38;5;28;01mif\u001b[39;00m \u001b[38;5;28mself\u001b[39m._created_variables:\n\u001b[32m    882\u001b[39m   \u001b[38;5;28;01mraise\u001b[39;00m \u001b[38;5;167;01mValueError\u001b[39;00m(\u001b[33m\"\u001b[39m\u001b[33mCreating variables on a non-first call to a function\u001b[39m\u001b[33m\"\u001b[39m\n\u001b[32m    883\u001b[39m                    \u001b[33m\"\u001b[39m\u001b[33m decorated with tf.function.\u001b[39m\u001b[33m\"\u001b[39m)\n",
      "\u001b[36mFile \u001b[39m\u001b[32mc:\\Users\\faarc\\anaconda3\\envs\\deepl\\Lib\\site-packages\\tensorflow\\python\\eager\\polymorphic_function\\tracing_compilation.py:139\u001b[39m, in \u001b[36mcall_function\u001b[39m\u001b[34m(args, kwargs, tracing_options)\u001b[39m\n\u001b[32m    137\u001b[39m bound_args = function.function_type.bind(*args, **kwargs)\n\u001b[32m    138\u001b[39m flat_inputs = function.function_type.unpack_inputs(bound_args)\n\u001b[32m--> \u001b[39m\u001b[32m139\u001b[39m \u001b[38;5;28;01mreturn\u001b[39;00m \u001b[43mfunction\u001b[49m\u001b[43m.\u001b[49m\u001b[43m_call_flat\u001b[49m\u001b[43m(\u001b[49m\u001b[43m  \u001b[49m\u001b[38;5;66;43;03m# pylint: disable=protected-access\u001b[39;49;00m\n\u001b[32m    140\u001b[39m \u001b[43m    \u001b[49m\u001b[43mflat_inputs\u001b[49m\u001b[43m,\u001b[49m\u001b[43m \u001b[49m\u001b[43mcaptured_inputs\u001b[49m\u001b[43m=\u001b[49m\u001b[43mfunction\u001b[49m\u001b[43m.\u001b[49m\u001b[43mcaptured_inputs\u001b[49m\n\u001b[32m    141\u001b[39m \u001b[43m\u001b[49m\u001b[43m)\u001b[49m\n",
      "\u001b[36mFile \u001b[39m\u001b[32mc:\\Users\\faarc\\anaconda3\\envs\\deepl\\Lib\\site-packages\\tensorflow\\python\\eager\\polymorphic_function\\concrete_function.py:1322\u001b[39m, in \u001b[36mConcreteFunction._call_flat\u001b[39m\u001b[34m(self, tensor_inputs, captured_inputs)\u001b[39m\n\u001b[32m   1318\u001b[39m possible_gradient_type = gradients_util.PossibleTapeGradientTypes(args)\n\u001b[32m   1319\u001b[39m \u001b[38;5;28;01mif\u001b[39;00m (possible_gradient_type == gradients_util.POSSIBLE_GRADIENT_TYPES_NONE\n\u001b[32m   1320\u001b[39m     \u001b[38;5;129;01mand\u001b[39;00m executing_eagerly):\n\u001b[32m   1321\u001b[39m   \u001b[38;5;66;03m# No tape is watching; skip to running the function.\u001b[39;00m\n\u001b[32m-> \u001b[39m\u001b[32m1322\u001b[39m   \u001b[38;5;28;01mreturn\u001b[39;00m \u001b[38;5;28;43mself\u001b[39;49m\u001b[43m.\u001b[49m\u001b[43m_inference_function\u001b[49m\u001b[43m.\u001b[49m\u001b[43mcall_preflattened\u001b[49m\u001b[43m(\u001b[49m\u001b[43margs\u001b[49m\u001b[43m)\u001b[49m\n\u001b[32m   1323\u001b[39m forward_backward = \u001b[38;5;28mself\u001b[39m._select_forward_and_backward_functions(\n\u001b[32m   1324\u001b[39m     args,\n\u001b[32m   1325\u001b[39m     possible_gradient_type,\n\u001b[32m   1326\u001b[39m     executing_eagerly)\n\u001b[32m   1327\u001b[39m forward_function, args_with_tangents = forward_backward.forward()\n",
      "\u001b[36mFile \u001b[39m\u001b[32mc:\\Users\\faarc\\anaconda3\\envs\\deepl\\Lib\\site-packages\\tensorflow\\python\\eager\\polymorphic_function\\atomic_function.py:216\u001b[39m, in \u001b[36mAtomicFunction.call_preflattened\u001b[39m\u001b[34m(self, args)\u001b[39m\n\u001b[32m    214\u001b[39m \u001b[38;5;28;01mdef\u001b[39;00m\u001b[38;5;250m \u001b[39m\u001b[34mcall_preflattened\u001b[39m(\u001b[38;5;28mself\u001b[39m, args: Sequence[core.Tensor]) -> Any:\n\u001b[32m    215\u001b[39m \u001b[38;5;250m  \u001b[39m\u001b[33;03m\"\"\"Calls with flattened tensor inputs and returns the structured output.\"\"\"\u001b[39;00m\n\u001b[32m--> \u001b[39m\u001b[32m216\u001b[39m   flat_outputs = \u001b[38;5;28;43mself\u001b[39;49m\u001b[43m.\u001b[49m\u001b[43mcall_flat\u001b[49m\u001b[43m(\u001b[49m\u001b[43m*\u001b[49m\u001b[43margs\u001b[49m\u001b[43m)\u001b[49m\n\u001b[32m    217\u001b[39m   \u001b[38;5;28;01mreturn\u001b[39;00m \u001b[38;5;28mself\u001b[39m.function_type.pack_output(flat_outputs)\n",
      "\u001b[36mFile \u001b[39m\u001b[32mc:\\Users\\faarc\\anaconda3\\envs\\deepl\\Lib\\site-packages\\tensorflow\\python\\eager\\polymorphic_function\\atomic_function.py:251\u001b[39m, in \u001b[36mAtomicFunction.call_flat\u001b[39m\u001b[34m(self, *args)\u001b[39m\n\u001b[32m    249\u001b[39m \u001b[38;5;28;01mwith\u001b[39;00m record.stop_recording():\n\u001b[32m    250\u001b[39m   \u001b[38;5;28;01mif\u001b[39;00m \u001b[38;5;28mself\u001b[39m._bound_context.executing_eagerly():\n\u001b[32m--> \u001b[39m\u001b[32m251\u001b[39m     outputs = \u001b[38;5;28;43mself\u001b[39;49m\u001b[43m.\u001b[49m\u001b[43m_bound_context\u001b[49m\u001b[43m.\u001b[49m\u001b[43mcall_function\u001b[49m\u001b[43m(\u001b[49m\n\u001b[32m    252\u001b[39m \u001b[43m        \u001b[49m\u001b[38;5;28;43mself\u001b[39;49m\u001b[43m.\u001b[49m\u001b[43mname\u001b[49m\u001b[43m,\u001b[49m\n\u001b[32m    253\u001b[39m \u001b[43m        \u001b[49m\u001b[38;5;28;43mlist\u001b[39;49m\u001b[43m(\u001b[49m\u001b[43margs\u001b[49m\u001b[43m)\u001b[49m\u001b[43m,\u001b[49m\n\u001b[32m    254\u001b[39m \u001b[43m        \u001b[49m\u001b[38;5;28;43mlen\u001b[39;49m\u001b[43m(\u001b[49m\u001b[38;5;28;43mself\u001b[39;49m\u001b[43m.\u001b[49m\u001b[43mfunction_type\u001b[49m\u001b[43m.\u001b[49m\u001b[43mflat_outputs\u001b[49m\u001b[43m)\u001b[49m\u001b[43m,\u001b[49m\n\u001b[32m    255\u001b[39m \u001b[43m    \u001b[49m\u001b[43m)\u001b[49m\n\u001b[32m    256\u001b[39m   \u001b[38;5;28;01melse\u001b[39;00m:\n\u001b[32m    257\u001b[39m     outputs = make_call_op_in_graph(\n\u001b[32m    258\u001b[39m         \u001b[38;5;28mself\u001b[39m,\n\u001b[32m    259\u001b[39m         \u001b[38;5;28mlist\u001b[39m(args),\n\u001b[32m    260\u001b[39m         \u001b[38;5;28mself\u001b[39m._bound_context.function_call_options.as_attrs(),\n\u001b[32m    261\u001b[39m     )\n",
      "\u001b[36mFile \u001b[39m\u001b[32mc:\\Users\\faarc\\anaconda3\\envs\\deepl\\Lib\\site-packages\\tensorflow\\python\\eager\\context.py:1688\u001b[39m, in \u001b[36mContext.call_function\u001b[39m\u001b[34m(self, name, tensor_inputs, num_outputs)\u001b[39m\n\u001b[32m   1686\u001b[39m cancellation_context = cancellation.context()\n\u001b[32m   1687\u001b[39m \u001b[38;5;28;01mif\u001b[39;00m cancellation_context \u001b[38;5;129;01mis\u001b[39;00m \u001b[38;5;28;01mNone\u001b[39;00m:\n\u001b[32m-> \u001b[39m\u001b[32m1688\u001b[39m   outputs = \u001b[43mexecute\u001b[49m\u001b[43m.\u001b[49m\u001b[43mexecute\u001b[49m\u001b[43m(\u001b[49m\n\u001b[32m   1689\u001b[39m \u001b[43m      \u001b[49m\u001b[43mname\u001b[49m\u001b[43m.\u001b[49m\u001b[43mdecode\u001b[49m\u001b[43m(\u001b[49m\u001b[33;43m\"\u001b[39;49m\u001b[33;43mutf-8\u001b[39;49m\u001b[33;43m\"\u001b[39;49m\u001b[43m)\u001b[49m\u001b[43m,\u001b[49m\n\u001b[32m   1690\u001b[39m \u001b[43m      \u001b[49m\u001b[43mnum_outputs\u001b[49m\u001b[43m=\u001b[49m\u001b[43mnum_outputs\u001b[49m\u001b[43m,\u001b[49m\n\u001b[32m   1691\u001b[39m \u001b[43m      \u001b[49m\u001b[43minputs\u001b[49m\u001b[43m=\u001b[49m\u001b[43mtensor_inputs\u001b[49m\u001b[43m,\u001b[49m\n\u001b[32m   1692\u001b[39m \u001b[43m      \u001b[49m\u001b[43mattrs\u001b[49m\u001b[43m=\u001b[49m\u001b[43mattrs\u001b[49m\u001b[43m,\u001b[49m\n\u001b[32m   1693\u001b[39m \u001b[43m      \u001b[49m\u001b[43mctx\u001b[49m\u001b[43m=\u001b[49m\u001b[38;5;28;43mself\u001b[39;49m\u001b[43m,\u001b[49m\n\u001b[32m   1694\u001b[39m \u001b[43m  \u001b[49m\u001b[43m)\u001b[49m\n\u001b[32m   1695\u001b[39m \u001b[38;5;28;01melse\u001b[39;00m:\n\u001b[32m   1696\u001b[39m   outputs = execute.execute_with_cancellation(\n\u001b[32m   1697\u001b[39m       name.decode(\u001b[33m\"\u001b[39m\u001b[33mutf-8\u001b[39m\u001b[33m\"\u001b[39m),\n\u001b[32m   1698\u001b[39m       num_outputs=num_outputs,\n\u001b[32m   (...)\u001b[39m\u001b[32m   1702\u001b[39m       cancellation_manager=cancellation_context,\n\u001b[32m   1703\u001b[39m   )\n",
      "\u001b[36mFile \u001b[39m\u001b[32mc:\\Users\\faarc\\anaconda3\\envs\\deepl\\Lib\\site-packages\\tensorflow\\python\\eager\\execute.py:53\u001b[39m, in \u001b[36mquick_execute\u001b[39m\u001b[34m(op_name, num_outputs, inputs, attrs, ctx, name)\u001b[39m\n\u001b[32m     51\u001b[39m \u001b[38;5;28;01mtry\u001b[39;00m:\n\u001b[32m     52\u001b[39m   ctx.ensure_initialized()\n\u001b[32m---> \u001b[39m\u001b[32m53\u001b[39m   tensors = \u001b[43mpywrap_tfe\u001b[49m\u001b[43m.\u001b[49m\u001b[43mTFE_Py_Execute\u001b[49m\u001b[43m(\u001b[49m\u001b[43mctx\u001b[49m\u001b[43m.\u001b[49m\u001b[43m_handle\u001b[49m\u001b[43m,\u001b[49m\u001b[43m \u001b[49m\u001b[43mdevice_name\u001b[49m\u001b[43m,\u001b[49m\u001b[43m \u001b[49m\u001b[43mop_name\u001b[49m\u001b[43m,\u001b[49m\n\u001b[32m     54\u001b[39m \u001b[43m                                      \u001b[49m\u001b[43minputs\u001b[49m\u001b[43m,\u001b[49m\u001b[43m \u001b[49m\u001b[43mattrs\u001b[49m\u001b[43m,\u001b[49m\u001b[43m \u001b[49m\u001b[43mnum_outputs\u001b[49m\u001b[43m)\u001b[49m\n\u001b[32m     55\u001b[39m \u001b[38;5;28;01mexcept\u001b[39;00m core._NotOkStatusException \u001b[38;5;28;01mas\u001b[39;00m e:\n\u001b[32m     56\u001b[39m   \u001b[38;5;28;01mif\u001b[39;00m name \u001b[38;5;129;01mis\u001b[39;00m \u001b[38;5;129;01mnot\u001b[39;00m \u001b[38;5;28;01mNone\u001b[39;00m:\n",
      "\u001b[31mKeyboardInterrupt\u001b[39m: "
     ]
    }
   ],
   "source": [
    "# model = build_second_model(**best_params, sparse=False)\n",
    "model = build_second_model(sparse=False)\n",
    "model.fit(cv_train_set, epochs=30)\n",
    "\n",
    "# model.save(\"2nd_model.keras\")"
   ]
  },
  {
   "cell_type": "code",
   "execution_count": 317,
   "id": "458e780e",
   "metadata": {},
   "outputs": [
    {
     "name": "stdout",
     "output_type": "stream",
     "text": [
      "\u001b[1m1/1\u001b[0m \u001b[32m━━━━━━━━━━━━━━━━━━━━\u001b[0m\u001b[37m\u001b[0m \u001b[1m0s\u001b[0m 143ms/step - accuracy: 0.3636 - loss: 1.7254\n"
     ]
    },
    {
     "data": {
      "text/plain": [
       "[1.7253884077072144, 0.3636363744735718]"
      ]
     },
     "execution_count": 317,
     "metadata": {},
     "output_type": "execute_result"
    }
   ],
   "source": [
    "model.evaluate(full_dataset)"
   ]
  },
  {
   "cell_type": "code",
   "execution_count": 267,
   "id": "52c1fba2",
   "metadata": {},
   "outputs": [
    {
     "name": "stdout",
     "output_type": "stream",
     "text": [
      "\u001b[1m14/14\u001b[0m \u001b[32m━━━━━━━━━━━━━━━━━━━━\u001b[0m\u001b[37m\u001b[0m \u001b[1m0s\u001b[0m 7ms/step - accuracy: 0.8657 - loss: 0.5951\n"
     ]
    },
    {
     "data": {
      "text/plain": [
       "[0.3908415138721466, 0.9041095972061157]"
      ]
     },
     "execution_count": 267,
     "metadata": {},
     "output_type": "execute_result"
    }
   ],
   "source": [
    "model.evaluate(cv_test_set)"
   ]
  },
  {
   "cell_type": "code",
   "execution_count": 318,
   "id": "cc6aabfa",
   "metadata": {},
   "outputs": [
    {
     "name": "stdout",
     "output_type": "stream",
     "text": [
      "\u001b[1m1/1\u001b[0m \u001b[32m━━━━━━━━━━━━━━━━━━━━\u001b[0m\u001b[37m\u001b[0m \u001b[1m0s\u001b[0m 72ms/step\n"
     ]
    },
    {
     "data": {
      "text/plain": [
       "array([[0.45685405, 0.5184289 , 0.02471705],\n",
       "       [0.3798551 , 0.5559173 , 0.06422754],\n",
       "       [0.3549775 , 0.5632443 , 0.08177827],\n",
       "       [0.2874104 , 0.6330198 , 0.07956982],\n",
       "       [0.2958663 , 0.6553986 , 0.0487351 ],\n",
       "       [0.47574276, 0.51143175, 0.01282544],\n",
       "       [0.5047581 , 0.4906717 , 0.00457019],\n",
       "       [0.24551082, 0.43261936, 0.32186982],\n",
       "       [0.6560619 , 0.34196323, 0.00197491],\n",
       "       [0.69960064, 0.29856744, 0.00183197],\n",
       "       [0.6659139 , 0.33079535, 0.00329083]], dtype=float32)"
      ]
     },
     "execution_count": 318,
     "metadata": {},
     "output_type": "execute_result"
    }
   ],
   "source": [
    "model.predict(full_dataset)"
   ]
  },
  {
   "cell_type": "code",
   "execution_count": 319,
   "id": "a6dee2c7",
   "metadata": {},
   "outputs": [
    {
     "data": {
      "image/png": "[encoded data removed]",
      "text/plain": [
       "<Figure size 1500x1000 with 7 Axes>"
      ]
     },
     "metadata": {},
     "output_type": "display_data"
    }
   ],
   "source": [
    "show_misclassified_images(model, full_dataset, class_names)"
   ]
  },
  {
   "cell_type": "code",
   "execution_count": 222,
   "id": "c848ddaa",
   "metadata": {},
   "outputs": [
    {
     "data": {
      "image/png": "[encoded data removed]",
      "text/plain": [
       "<Figure size 1000x400 with 5 Axes>"
      ]
     },
     "metadata": {},
     "output_type": "display_data"
    }
   ],
   "source": [
    "for images, label in full_dataset.take(1):\n",
    "\n",
    "    num_images = 5\n",
    "    plt.figure(figsize=(10, 4))\n",
    "\n",
    "    for i in range(num_images):\n",
    "        # original\n",
    "        ax = plt.subplot(2, num_images, i + 1)\n",
    "        plt.imshow(images[i].numpy())\n",
    "        plt.title(class_names[np.argmax(label[i])])\n",
    "        plt.axis(\"off\")\n",
    "        \n",
    "    plt.tight_layout()\n",
    "    plt.show()"
   ]
  },
  {
   "cell_type": "code",
   "execution_count": null,
   "id": "5cb52e0a",
   "metadata": {},
   "outputs": [],
   "source": []
  },
  {
   "cell_type": "code",
   "execution_count": null,
   "id": "92e757e6",
   "metadata": {},
   "outputs": [],
   "source": []
  }
 ],
 "metadata": {
  "kernelspec": {
   "display_name": "deepl",
   "language": "python",
   "name": "python3"
  },
  "language_info": {
   "codemirror_mode": {
    "name": "ipython",
    "version": 3
   },
   "file_extension": ".py",
   "mimetype": "text/x-python",
   "name": "python",
   "nbconvert_exporter": "python",
   "pygments_lexer": "ipython3",
   "version": "3.11.13"
  }
 },
 "nbformat": 4,
 "nbformat_minor": 5
}
